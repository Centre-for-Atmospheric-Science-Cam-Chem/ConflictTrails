{
 "cells": [
  {
   "cell_type": "code",
   "execution_count": 3,
   "id": "befa8d5d",
   "metadata": {},
   "outputs": [
    {
     "name": "stdout",
     "output_type": "stream",
     "text": [
      "Entries unique to 2023-12: 59993\n",
      "Entries unique to 2025-02: 20443\n",
      "Number of aircraft in 2023-12 database: 579434\n",
      "Number of aircraft in 2025-02 database: 539895\n"
     ]
    }
   ],
   "source": [
    "import pandas as pd\n",
    "\n",
    "# File paths\n",
    "file_2023 = '/scratch/omg28/Data/aircraftdb/aircraft-database-complete-2023-12.csv'\n",
    "file_2025 = '/scratch/omg28/Data/aircraftdb/aircraft-database-complete-2025-02.csv'\n",
    "\n",
    "# Read only the first column (unique identifier) from each file\n",
    "id_2023 = pd.read_csv(file_2023, usecols=[0], encoding='latin1').iloc[:, 0].astype(str).str.strip().str.replace(\"'\", \"\").str.replace('\"', '')\n",
    "id_2025 = pd.read_csv(file_2025, usecols=[0], encoding='latin1').iloc[:, 0].astype(str).str.strip().str.replace(\"'\", \"\").str.replace('\"', '')\n",
    "\n",
    "# Convert to sets for comparison\n",
    "set_2023 = set(id_2023)\n",
    "set_2025 = set(id_2025)\n",
    "\n",
    "# Unique to each database\n",
    "unique_to_2023 = set_2023 - set_2025\n",
    "unique_to_2025 = set_2025 - set_2023\n",
    "\n",
    "print(f\"Entries unique to 2023-12: {len(unique_to_2023)}\")\n",
    "print(f\"Entries unique to 2025-02: {len(unique_to_2025)}\")\n",
    "print(f\"Number of aircraft in 2023-12 database: {len(id_2023)}\")\n",
    "print(f\"Number of aircraft in 2025-02 database: {len(id_2025)}\")\n"
   ]
  },
  {
   "cell_type": "code",
   "execution_count": null,
   "id": "d99c85a0",
   "metadata": {},
   "outputs": [],
   "source": []
  }
 ],
 "metadata": {
  "kernelspec": {
   "display_name": "traffic",
   "language": "python",
   "name": "python3"
  },
  "language_info": {
   "codemirror_mode": {
    "name": "ipython",
    "version": 3
   },
   "file_extension": ".py",
   "mimetype": "text/x-python",
   "name": "python",
   "nbconvert_exporter": "python",
   "pygments_lexer": "ipython3",
   "version": "3.12.9"
  }
 },
 "nbformat": 4,
 "nbformat_minor": 5
}
