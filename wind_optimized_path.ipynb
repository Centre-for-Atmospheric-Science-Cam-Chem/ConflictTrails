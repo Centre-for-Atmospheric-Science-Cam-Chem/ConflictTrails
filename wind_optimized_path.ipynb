{
 "cells": [
  {
   "cell_type": "code",
   "execution_count": null,
   "id": "8f13ce98",
   "metadata": {},
   "outputs": [
    {
     "name": "stdout",
     "output_type": "stream",
     "text": [
      "1.0223405948650293\n"
     ]
    }
   ],
   "source": [
    "import numpy as np\n",
    "import pandas as pd\n",
    "from shapely.geometry import LineString, Point, shape\n",
    "import geopandas as gpd\n",
    "from geopy.distance import great_circle\n",
    "import xarray as xr\n",
    "\n",
    "# From the ipynb driver, user input: ###################################\n",
    "# User Inputs:\n",
    "start_time_str       = '2023-01-01T00:00:00Z'\n",
    "stop_time_str        = '2023-12-31T23:59:59Z'\n",
    "query_limit          = 15e4\n",
    "send_notification    = True\n",
    "make_plot            = True\n",
    "output_dir           = \"/scratch/omg28/Data/\"\n",
    "\n",
    "# Convert start and stop times to datetime objects\n",
    "start_time_simple = pd.to_datetime(start_time_str).strftime(\"%Y-%m-%d\")\n",
    "stop_time_simple = pd.to_datetime(stop_time_str).strftime(\"%Y-%m-%d\")\n",
    "analysis_year = pd.to_datetime(start_time_str).year\n",
    "\n",
    "# Define grid\n",
    "lat_bins = np.arange(-90, 90.1, 0.5)\n",
    "lon_bins = np.arange(-180, 180.1, 0.5)\n",
    "alt_bins_ft = np.arange(0, 55001, 1000)\n",
    "alt_bins_m = alt_bins_ft * 0.3048\n",
    "nlat, nlon, nalt = len(lat_bins)-1, len(lon_bins)-1, len(alt_bins_m)-1\n",
    "########################################################################\n",
    "\n",
    "# Define conflict countries and buffer degrees\n",
    "\n",
    "conflict_countries = ['Russia', 'Ukraine', 'Libya', 'Syria', 'Sudan', 'Yemen']\n",
    "buffer_degrees = 1.0\n",
    "\n",
    "# Load country boundaries\n",
    "world = gpd.read_file('ne_110m_admin_0_countries.zip')\n",
    "name_col = 'NAME' if 'NAME' in world.columns else 'name'\n",
    "\n",
    "# Get geometries for conflict countries\n",
    "conflict_geometries = []\n",
    "for c in conflict_countries:\n",
    "    country_geom = world[world[name_col] == c].geometry\n",
    "    if not country_geom.empty:\n",
    "        conflict_geometries.append(country_geom.union_all().buffer(buffer_degrees))\n",
    "\n",
    "# Create a union of `all conflict areas\n",
    "if conflict_geometries:\n",
    "    conflict_areas = conflict_geometries[0]\n",
    "    for geom in conflict_geometries[1:]:\n",
    "        conflict_areas = conflict_areas.union(geom)\n",
    "    conflict_areas_buffered = conflict_areas.buffer(buffer_degrees)\n",
    "else:\n",
    "    # If no valid countries found, create empty geometry\n",
    "    conflict_areas_buffered = Point(0, 0).buffer(0)\n",
    "\n",
    "\n",
    "#TEST CODE ##################################\n",
    "flights = pd.read_pickle('/scratch/omg28/Data/2023-01-01_to_2023-01-31_labeled.pkl')\n",
    "test_flight = flight = flights.iloc[0]\n",
    "era5_file = f\"/scratch/omg28/Data/era5_wind_{analysis_year}.nc\"\n",
    "ds_era5 = xr.open_dataset(era5_file)\n",
    "print(ds_era5)\n",
    "\n",
    "#################################################################\n",
    "\n",
    "# MATH HELPER FUNCTIONS ##################################\n",
    "def secd(theta):\n",
    "    \"\"\"Convert degrees to seconds.\"\"\"\n",
    "    if theta%360 == 90 or theta%360 == 270:\n",
    "        return np.nan\n",
    "    return 1/np.cos(np.radians(theta))\n",
    "    \n"
   ]
  },
  {
   "cell_type": "code",
   "execution_count": 8,
   "id": "3b6d3006",
   "metadata": {},
   "outputs": [
    {
     "name": "stdout",
     "output_type": "stream",
     "text": [
      "<class 'pandas.core.frame.DataFrame'>\n",
      "RangeIndex: 1132523 entries, 0 to 1132522\n",
      "Data columns (total 14 columns):\n",
      " #   Column               Non-Null Count    Dtype         \n",
      "---  ------               --------------    -----         \n",
      " 0   icao24               1132523 non-null  object        \n",
      " 1   estdepartureairport  1132523 non-null  object        \n",
      " 2   estarrivalairport    1132523 non-null  object        \n",
      " 3   day                  1132523 non-null  int64[pyarrow]\n",
      " 4   typecode             1132523 non-null  object        \n",
      " 5   estdeparturelat      1132523 non-null  float64       \n",
      " 6   estdeparturelong     1132523 non-null  float64       \n",
      " 7   estdeparturealt_ft   1131831 non-null  float64       \n",
      " 8   estarrivallat        1132523 non-null  float64       \n",
      " 9   estarrivallong       1132523 non-null  float64       \n",
      " 10  estarrivalalt_ft     1130594 non-null  float64       \n",
      " 11  gc_km                1132523 non-null  float64       \n",
      " 12  gc_FEAT_km           1132523 non-null  float64       \n",
      " 13  crosses_conflict     1132523 non-null  bool          \n",
      "dtypes: bool(1), float64(8), int64[pyarrow](1), object(4)\n",
      "memory usage: 113.4+ MB\n"
     ]
    }
   ],
   "source": [
    "flights = pd.read_pickle('/scratch/omg28/Data/2023-01-01_to_2023-01-31_labeled.pkl')\n",
    "flights.info()"
   ]
  }
 ],
 "metadata": {
  "kernelspec": {
   "display_name": "traffic",
   "language": "python",
   "name": "python3"
  },
  "language_info": {
   "codemirror_mode": {
    "name": "ipython",
    "version": 3
   },
   "file_extension": ".py",
   "mimetype": "text/x-python",
   "name": "python",
   "nbconvert_exporter": "python",
   "pygments_lexer": "ipython3",
   "version": "3.12.9"
  }
 },
 "nbformat": 4,
 "nbformat_minor": 5
}
