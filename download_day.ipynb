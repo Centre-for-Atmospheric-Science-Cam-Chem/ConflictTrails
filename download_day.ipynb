{
 "cells": [
  {
   "cell_type": "code",
   "execution_count": null,
   "metadata": {},
   "outputs": [],
   "source": [
    "# Import all necessary libraries\n",
    "import datetime\n",
    "import trino\n",
    "from pyopensky.trino import Trino\n",
    "from pyopensky.rest import REST\n",
    "import pandas as pd\n",
    "import os\n",
    "from telegram_notifier import send_telegram_notification\n",
    "import matplotlib.pyplot as plt\n",
    "import cartopy.crs as ccrs\n",
    "import cartopy.feature as cfeature\n"
   ]
  },
  {
   "cell_type": "code",
   "execution_count": null,
   "metadata": {},
   "outputs": [],
   "source": [
    "# Define the start and stop time of the data request\n",
    "start_time_str       = '2022-02-01T00:00:00Z'\n",
    "stop_time_str        = '2022-03-01T01:00:00Z'\n",
    "# plane_callsign       = \"EZY158T\"\n",
    "query_limit          = 5e4\n"
   ]
  },
  {
   "cell_type": "code",
   "execution_count": null,
   "metadata": {},
   "outputs": [],
   "source": [
    "code_start_time = datetime.datetime.now().strftime(\"%Y-%m-%d %H:%M:%S\")\n",
    "# Loop through the dates between start and end date\n",
    "time_range = pd.date_range(start_time_str, stop_time_str, freq='D')\n",
    "for current_day in time_range:\n",
    "    # Convert the start and stop time to POSIX time\n",
    "    start_time_posix    = int(current_day.timestamp())\n",
    "    end_time_posix      = int(datetime.datetime.fromisoformat(stop_time_str).timestamp())\n",
    "\n",
    "    # Define the SQL query to get the data from the OpenSky database\n",
    "    sql_query  =    \"\"\"SELECT icao24, estdepartureairport, estarrivalairport, callsign, track FROM flights_data4 \n",
    "                        WHERE day = \"\"\" + str(start_time_posix) + \"\"\"\n",
    "                        LIMIT \"\"\" + str(round(query_limit)) \n",
    "    # Pass the query to the database and get the result\n",
    "    db = Trino()\n",
    "    print(sql_query)\n",
    "    result_df = db.query(sql_query, cached=False)\n",
    "\n",
    "    # Save the result to a pickle file\n",
    "    timestamp = current_day.strftime(\"%Y-%m-%d\")\n",
    "    output_dir = os.path.expanduser(\"~/Data\")\n",
    "    os.makedirs(output_dir, exist_ok=True)\n",
    "    filename = os.path.join(output_dir, f\"result_df_{timestamp}.pkl\")\n",
    "    result_df.to_pickle(filename)\n",
    "    print(\"Saved result_df to\", filename)\n",
    "    plt.style.use('dark_background')\n",
    "\n",
    "    # Plot the data on a map\n",
    "    fig = plt.figure(figsize=(12, 6))\n",
    "    ax = fig.add_subplot(1, 1, 1, projection=ccrs.PlateCarree())\n",
    "    ax.set_extent([-180, 180, -90, 90], crs=ccrs.PlateCarree())\n",
    "    ax.set_facecolor(\"black\")\n",
    "    ax.add_feature(cfeature.OCEAN, facecolor=\"black\")\n",
    "    ax.add_feature(cfeature.LAND, facecolor=\"dimgray\")\n",
    "    ax.add_feature(cfeature.COASTLINE, edgecolor=\"white\", linewidth=0.5)\n",
    "    ax.add_feature(cfeature.BORDERS, edgecolor=\"white\", linewidth=0.5)\n",
    "    ax.title.set_text(timestamp)\n",
    "\n",
    "    for _, row in result_df.iterrows():\n",
    "        track = row[\"track\"]\n",
    "        if not track:\n",
    "            continue\n",
    "        lats = [pt.latitude for pt in track]\n",
    "        lons = [pt.longitude for pt in track]\n",
    "        ax.plot(lons, lats, color=\"red\", linewidth=1, alpha=0.2, transform=ccrs.Geodetic())\n",
    "    \n",
    "    # save the plot to an image\n",
    "    image_file = os.path.join(output_dir, \"cartopy_map.png\")\n",
    "    plt.savefig(image_file, bbox_inches=\"tight\", facecolor=fig.get_facecolor())\n",
    "    plt.close(fig)\n",
    "\n",
    "    # Send a notification that the code has finished running\n",
    "    code_stop_time = datetime.datetime.now().strftime(\"%Y-%m-%d %H:%M:%S\")\n",
    "    send_telegram_notification(\"Code has finished running.\\n Start time: \" + code_start_time + \"\\n End time: \" + code_stop_time,  image_path=image_file)\n"
   ]
  }
 ],
 "metadata": {
  "kernelspec": {
   "display_name": "traffic",
   "language": "python",
   "name": "python3"
  },
  "language_info": {
   "codemirror_mode": {
    "name": "ipython",
    "version": 3
   },
   "file_extension": ".py",
   "mimetype": "text/x-python",
   "name": "python",
   "nbconvert_exporter": "python",
   "pygments_lexer": "ipython3",
   "version": "3.12.9"
  }
 },
 "nbformat": 4,
 "nbformat_minor": 2
}
