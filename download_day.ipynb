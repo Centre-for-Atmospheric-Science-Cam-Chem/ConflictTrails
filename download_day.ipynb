{
 "cells": [
  {
   "cell_type": "code",
   "execution_count": null,
   "metadata": {},
   "outputs": [],
   "source": [
    "# Import all necessary libraries\n",
    "from traffic.data.samples import belevingsvlucht\n",
    "import traffic\n",
    "from traffic.data import opensky\n",
    "import datetime\n",
    "import trino\n",
    "from pyopensky.trino import Trino\n",
    "from pyopensky.rest import REST\n",
    "import pandas as pd\n",
    "import os"
   ]
  },
  {
   "cell_type": "code",
   "execution_count": null,
   "metadata": {},
   "outputs": [],
   "source": [
    "# Define the start and stop time of the data request\n",
    "start_time_str       = '2022-11-01T00:00:00Z'\n",
    "stop_time_str        = '2022-11-01T01:00:00Z'\n",
    "plane_callsign       = \"EZY158T\"\n",
    "query_limit          = 1e1\n",
    "\n",
    "# Convert the start and stop time to POSIX time\n",
    "start_time_posix    = int(datetime.datetime.fromisoformat(start_time_str).timestamp())\n",
    "end_time_posix      = int(datetime.datetime.fromisoformat(stop_time_str).timestamp())\n",
    "\n",
    "# Define the SQL query to get the data from the OpenSky database\n",
    "sql_query  =    \"\"\"SELECT icao24, estdepartureairport, estarrivalairport, callsign, track FROM flights_data4 \n",
    "                    WHERE day = \"\"\" + str(start_time_posix) + \"\"\"\n",
    "                    LIMIT \"\"\" + str(round(query_limit)) \n",
    "\n",
    "print(sql_query)\n"
   ]
  },
  {
   "cell_type": "code",
   "execution_count": null,
   "metadata": {},
   "outputs": [],
   "source": [
    "# Pass the query to the database and get the result\n",
    "db = Trino()\n",
    "print(sql_query)\n",
    "result_df = db.query(sql_query, cached=False)\n",
    "\n",
    "# Save the result to a pickle file\n",
    "timestamp = datetime.datetime.fromisoformat(start_time_str.replace(\"Z\", \"\")).strftime(\"%Y%m%d\")\n",
    "output_dir = os.path.expanduser(\"~/Data\")\n",
    "os.makedirs(output_dir, exist_ok=True)\n",
    "filename = os.path.join(output_dir, f\"result_df_{timestamp}.pkl\")\n",
    "result_df.to_pickle(filename)\n",
    "print(\"Saved result_df to\", filename)"
   ]
  },
  {
   "cell_type": "code",
   "execution_count": 1,
   "metadata": {},
   "outputs": [
    {
     "ename": "NameError",
     "evalue": "name 'result_df' is not defined",
     "output_type": "error",
     "traceback": [
      "\u001b[31m---------------------------------------------------------------------------\u001b[39m",
      "\u001b[31mNameError\u001b[39m                                 Traceback (most recent call last)",
      "\u001b[36mCell\u001b[39m\u001b[36m \u001b[39m\u001b[32mIn[1]\u001b[39m\u001b[32m, line 4\u001b[39m\n\u001b[32m      1\u001b[39m \u001b[38;5;28;01mimport\u001b[39;00m\u001b[38;5;250m \u001b[39m\u001b[34;01mfolium\u001b[39;00m\n\u001b[32m      3\u001b[39m \u001b[38;5;66;03m# Find the first flight with a non-empty track to center the map\u001b[39;00m\n\u001b[32m----> \u001b[39m\u001b[32m4\u001b[39m valid_tracks = \u001b[43mresult_df\u001b[49m[result_df[\u001b[33m'\u001b[39m\u001b[33mtrack\u001b[39m\u001b[33m'\u001b[39m].apply(\u001b[38;5;28;01mlambda\u001b[39;00m x: x \u001b[38;5;129;01mis\u001b[39;00m \u001b[38;5;129;01mnot\u001b[39;00m \u001b[38;5;28;01mNone\u001b[39;00m \u001b[38;5;129;01mand\u001b[39;00m \u001b[38;5;28mlen\u001b[39m(x) > \u001b[32m0\u001b[39m)]\n\u001b[32m      5\u001b[39m \u001b[38;5;28;01mif\u001b[39;00m valid_tracks.empty:\n\u001b[32m      6\u001b[39m     \u001b[38;5;28;01mraise\u001b[39;00m \u001b[38;5;167;01mValueError\u001b[39;00m(\u001b[33m\"\u001b[39m\u001b[33mNo valid flight tracks found in result_df.\u001b[39m\u001b[33m\"\u001b[39m)\n",
      "\u001b[31mNameError\u001b[39m: name 'result_df' is not defined"
     ]
    }
   ],
   "source": [
    "import folium\n",
    "\n",
    "# Find the first flight with a non-empty track to center the map\n",
    "valid_tracks = result_df[result_df['track'].apply(lambda x: x is not None and len(x) > 0)]\n",
    "if valid_tracks.empty:\n",
    "    raise ValueError(\"No valid flight tracks found in result_df.\")\n",
    "\n",
    "# Use the first point of the first valid flight to center the map.\n",
    "first_point = valid_tracks.iloc[0]['track'][0]\n",
    "map_center = [first_point.latitude, first_point.longitude]  # using the correct attribute names\n",
    "\n",
    "# Create the map\n",
    "m = folium.Map(location=map_center, zoom_start=6)\n",
    "\n",
    "# Iterate over each flight and add its flight path as a PolyLine\n",
    "for _, row in result_df.iterrows():\n",
    "    track = row['track']\n",
    "    if not track:\n",
    "        continue\n",
    "    # Convert each point in the track to [latitude, longitude]\n",
    "    line_coords = [[point.latitude, point.longitude] for point in track]\n",
    "    folium.PolyLine(line_coords, color=\"blue\", weight=2.5, opacity=1).add_to(m)\n",
    "\n",
    "# Display the map\n",
    "m"
   ]
  }
 ],
 "metadata": {
  "kernelspec": {
   "display_name": "traffic",
   "language": "python",
   "name": "python3"
  },
  "language_info": {
   "codemirror_mode": {
    "name": "ipython",
    "version": 3
   },
   "file_extension": ".py",
   "mimetype": "text/x-python",
   "name": "python",
   "nbconvert_exporter": "python",
   "pygments_lexer": "ipython3",
   "version": "3.12.9"
  }
 },
 "nbformat": 4,
 "nbformat_minor": 2
}
