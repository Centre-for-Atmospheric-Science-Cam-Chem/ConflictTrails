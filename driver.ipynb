{
 "cells": [
  {
   "cell_type": "code",
   "execution_count": 1,
   "id": "7a396014",
   "metadata": {},
   "outputs": [],
   "source": [
    "from download_day import download_day\n",
    "from load_saved_fd4 import load_saved_fd4"
   ]
  },
  {
   "cell_type": "code",
   "execution_count": 2,
   "id": "7d44abb7",
   "metadata": {},
   "outputs": [],
   "source": [
    "# User Inputs:\n",
    "start_time_str       = '2022-02-10T00:00:00Z'\n",
    "stop_time_str        = '2022-03-01T00:00:01Z'\n",
    "# plane_callsign       = \"EZY158T\"\n",
    "query_limit          = 5e4\n",
    "send_notification    = True\n",
    "make_plot            = False\n",
    "output_dir           = \"/scratch/omg28/Data/\""
   ]
  },
  {
   "cell_type": "code",
   "execution_count": null,
   "id": "e278aa53",
   "metadata": {},
   "outputs": [],
   "source": [
    "# Download data from OpenSky history database\n",
    "download_day(start_time_str, stop_time_str, query_limit, send_notification, make_plot, output_dir)"
   ]
  },
  {
   "cell_type": "code",
   "execution_count": null,
   "id": "45bcd15c",
   "metadata": {},
   "outputs": [],
   "source": [
    "load_saved_fd4(start_time_str, output_dir, query_limit)"
   ]
  }
 ],
 "metadata": {
  "kernelspec": {
   "display_name": "traffic",
   "language": "python",
   "name": "python3"
  },
  "language_info": {
   "codemirror_mode": {
    "name": "ipython",
    "version": 3
   },
   "file_extension": ".py",
   "mimetype": "text/x-python",
   "name": "python",
   "nbconvert_exporter": "python",
   "pygments_lexer": "ipython3",
   "version": "3.12.9"
  }
 },
 "nbformat": 4,
 "nbformat_minor": 5
}
