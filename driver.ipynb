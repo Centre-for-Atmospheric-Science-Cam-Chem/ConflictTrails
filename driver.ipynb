{
 "cells": [
  {
   "cell_type": "code",
   "execution_count": null,
   "id": "7a396014",
   "metadata": {},
   "outputs": [],
   "source": [
    "from download_day import download_day\n",
    "from load_saved_fd4 import load_saved_fd4\n",
    "from scrape_aircraft_list import scrape_aircraft_list\n",
    "from get_perf_model_typecodes import get_perf_model_typecodes \n",
    "from match_icao_model import match_icao_model\n",
    "from process_airport_list import process_airport_list\n",
    "from generate_flightpath import generate_flightpath\n",
    "from plot_flightpaths import plot_flightpaths\n",
    "from get_engine_data import get_engine_data\n",
    "from perf_model_powerplant_parser import perf_model_powerplant_parser\n",
    "from match_engine_to_emissions_db import match_engine_to_emissions_db\n",
    "import matplotlib.pyplot as plt\n",
    "import pandas as pd\n",
    "import numpy as np\n",
    "from time import sleep\n",
    "from geopy import distance\n",
    "from icet import icet\n",
    "from bffm2 import bffm2\n",
    "%matplotlib inline"
   ]
  },
  {
   "cell_type": "code",
   "execution_count": null,
   "id": "7d44abb7",
   "metadata": {},
   "outputs": [],
   "source": [
    "# User Inputs:\n",
    "start_time_str       = '2024-01-01T00:00:00Z'\n",
    "stop_time_str        = '2024-12-31T23:59:59Z'\n",
    "query_limit          = 30e4\n",
    "send_notification    = True\n",
    "make_plot            = False\n",
    "output_dir           = \"/scratch/omg28/Data/no_track2024\"\n",
    "\n",
    "# Convert start and stop times to datetime objects\n",
    "start_time_simple = pd.to_datetime(start_time_str).strftime(\"%Y-%m-%d\")\n",
    "stop_time_simple = pd.to_datetime(stop_time_str).strftime(\"%Y-%m-%d\")"
   ]
  },
  {
   "cell_type": "markdown",
   "id": "3e008886",
   "metadata": {},
   "source": [
    "Section 1. Download flight information from Opensky"
   ]
  },
  {
   "cell_type": "code",
   "execution_count": null,
   "id": "e278aa53",
   "metadata": {},
   "outputs": [],
   "source": [
    "\"\"\"\n",
    "# Download data from OpenSky history database\n",
    "# WARNING: This may take a long time to run and will use a lot of disk space. Recommend running this in a .py script to avoid recurring memory issues found in Jupyter notebooks.\n",
    "download_day(start_time_str, stop_time_str, query_limit, send_notification, make_plot, output_dir)\n",
    "\"\"\""
   ]
  },
  {
   "cell_type": "code",
   "execution_count": null,
   "id": "45bcd15c",
   "metadata": {},
   "outputs": [],
   "source": [
    "# load the saved day of data from a .pkl file to a pandas dataframe\n",
    "loaded_day = load_saved_fd4(stop_time_str, output_dir, query_limit)"
   ]
  },
  {
   "cell_type": "markdown",
   "id": "52c13875",
   "metadata": {},
   "source": [
    "Section 2. Scrape the EUCONTROL database for aircraft flight performance information"
   ]
  },
  {
   "cell_type": "code",
   "execution_count": null,
   "id": "2901b6f0",
   "metadata": {},
   "outputs": [],
   "source": [
    "\"\"\"\n",
    "# scrape the list of aircraft with performance models from the EUCONTROL website\n",
    "perf_model_typecodes = get_perf_model_typecodes()\n",
    "## WARNING: THIS CAN GET YOUR IP ADDRESS BLOCKED IF YOU RUN IT REPEATEDLY. IT IS A WEB SCRAPER.\n",
    "aircraft_list = scrape_aircraft_list(perf_model_typecodes)\n",
    "\n",
    "\"\"\""
   ]
  },
  {
   "cell_type": "code",
   "execution_count": null,
   "id": "c392ba66",
   "metadata": {},
   "outputs": [],
   "source": [
    "# remove the helicopters from the aircraft performance database list\n",
    "perf_models = pd.read_csv(\"aircraft_performance_table.csv\")\n",
    "perf_models = perf_models[~perf_models['type'].str.contains('H')]\n",
    "perf_models.to_csv(\"aircraft_performance_table_filtered.csv\", index=False)\n",
    "pd.to_pickle(perf_models, \"aircraft_performance_table_filtered.pkl\")\n"
   ]
  },
  {
   "cell_type": "markdown",
   "id": "9e861cc1",
   "metadata": {},
   "source": [
    "Section 3. Process the aircraft performance and flight data, retaining only flights we have takeoff, landing, plane type, and aircraft performance model information about. Further, drop all flights with aircraft codes that do not correspond to a code in the ourairports registry."
   ]
  },
  {
   "cell_type": "code",
   "execution_count": null,
   "id": "2f1246e7",
   "metadata": {},
   "outputs": [],
   "source": [
    "# process the loaded time period of data. - 20s\n",
    "# - matches 24 bit transponder codes from Feb 2025 aircraft metadata database with the ICAO typecode\n",
    "# - removes all flights for which the transponder code does not have a corresponding ICAO typecode\n",
    "# - removes all flights for which the takeoff OR landing airport is unknown\n",
    "flights_with_typecode = match_icao_model(start_time_str, stop_time_str, query_limit)\n"
   ]
  },
  {
   "cell_type": "code",
   "execution_count": null,
   "id": "5c1e1312",
   "metadata": {},
   "outputs": [],
   "source": [
    "# Load in the list of ICAO typecodes that have a performance model\n",
    "flights_with_typecode = pd.read_pickle('/scratch/omg28/Data/aircraftdb/2024-01-01_to_2024-12-31_300000.pkl')\n",
    "# load in the list of all flights with typecode aand takeoff/landing airport from 2024\n",
    "performance_model_typecodes = pd.read_pickle('/scratch/omg28/Data/aircraftdb/performance_models_typecodes.pkl')\n",
    "\n",
    "\n",
    "# get info before the merge\n",
    "print(\"Before merging:\")\n",
    "print(flights_with_typecode.info())\n",
    "\n",
    "# inner join the loaded year of data with the scraped aircraft list\n",
    "# - this will remove all flights for which the ICAO typecode does not have a corresponding performance model\n",
    "flights_with_perf_typecode = pd.merge(flights_with_typecode, performance_model_typecodes, how='inner', on = 'typecode')\n",
    "\n",
    "print(\"After merging:\")\n",
    "print(flights_with_perf_typecode.info())\n"
   ]
  },
  {
   "cell_type": "code",
   "execution_count": null,
   "id": "a52546c2",
   "metadata": {},
   "outputs": [],
   "source": [
    "# print a list of typecodes in complete_flights_perf_model that do not have a performance model\n",
    "missing_perf_models = flights_with_typecode[~flights_with_typecode['typecode'].isin(performance_model_typecodes['typecode'])]\n",
    "print(\"Aircraft models with observed flights, but no performance model: \" + str(len(missing_perf_models['typecode'].unique())))\n",
    "print(\"total flights in 2024 with TOLD and typecode, but no performance model: \" + str(len(missing_perf_models)))\n"
   ]
  },
  {
   "cell_type": "code",
   "execution_count": null,
   "id": "37f6de27",
   "metadata": {},
   "outputs": [],
   "source": [
    "# print a list of typecodes in performance_model_typecodes that do not correspond to a flight\n",
    "missing_flights = performance_model_typecodes[~performance_model_typecodes['typecode'].isin(flights_with_typecode['typecode'])]\n",
    "print(\"Number of performance models with no flights: \" + str(len(missing_flights['typecode'].unique())))\n",
    "print(\"Number of flights with TOLD, typecode, and performance model: \" + str(len(flights_with_perf_typecode)))\n"
   ]
  },
  {
   "cell_type": "code",
   "execution_count": null,
   "id": "084d0508",
   "metadata": {},
   "outputs": [],
   "source": [
    "# count all flights starting and ending at the same airport\n",
    "num_flights_no_dist = len(flights_with_perf_typecode[flights_with_perf_typecode['estdepartureairport'] == flights_with_perf_typecode['estarrivalairport']])\n",
    "print(\"Number of flights with no distance: \" + str(num_flights_no_dist))\n",
    "\n",
    "# remove all flights starting or ending at the same airport\n",
    "flights_with_perf_typecode_dist = flights_with_perf_typecode[flights_with_perf_typecode['estdepartureairport'] != flights_with_perf_typecode['estarrivalairport']]\n",
    "print(\"Number of flights with TOLD, typecode, performance model, and nonzero distance: \" + str(len(flights_with_perf_typecode)))\n"
   ]
  },
  {
   "cell_type": "code",
   "execution_count": null,
   "id": "ea67218e",
   "metadata": {},
   "outputs": [],
   "source": [
    "# load the takeoff and landing airport location information to the dataframe.\n",
    "all_airports = process_airport_list()\n",
    "\n",
    "# add the estimated departure airport location information to the dataframe\n",
    "# - this will remove all flights for which the departure airport is unknown\n",
    "flights_with_perf_typecode_dist_dep = pd.merge(flights_with_perf_typecode_dist, all_airports, how='inner', left_on = 'estdepartureairport', right_on = 'ident')\n",
    "flights_with_perf_typecode_dist_dep.rename(columns = {'latitude_deg': 'estdeparturelat', 'longitude_deg': 'estdeparturelong', 'elevation_ft': 'estdeparturealt_ft'}, inplace=True)\n",
    "flights_with_perf_typecode_dist_dep.drop(columns = ['ident', 'gps_code'], inplace=True)\n",
    "# count the number of flights with no departure airport in the database\n",
    "print(\"Number of flights with no departure airport location info in database: \" + str(len(flights_with_perf_typecode_dist) - len(flights_with_perf_typecode_dist_dep)))\n",
    "\n",
    "# add the estimated arrival airport location information to the dataframe\n",
    "all_flights_filtered = pd.merge(flights_with_perf_typecode_dist_dep, all_airports, how='inner', left_on = 'estarrivalairport', right_on = 'ident')\n",
    "all_flights_filtered.rename(columns = {'latitude_deg': 'estarrivallat', 'longitude_deg': 'estarrivallong', 'elevation_ft': 'estarrivalalt_ft'}, inplace=True)\n",
    "all_flights_filtered.drop(columns = ['ident', 'gps_code', 'id_x', 'id_y'], inplace=True)\n",
    "# count the number of flights with no arrival airport in the database\n",
    "print(\"Number of flights with no arrival airport location info in database: \" + str(len(flights_with_perf_typecode_dist_dep) - len(all_flights_filtered)))\n",
    "print(\"Number of flights with TOLD, typecode, performance model, distance, and departure/arrival airport info: \" + str(len(all_flights_filtered)))\n"
   ]
  },
  {
   "cell_type": "markdown",
   "id": "6c8a321c",
   "metadata": {},
   "source": [
    "Section 4. Using the great circle distance, calculate the distance between the airport takeoff and landing."
   ]
  },
  {
   "cell_type": "code",
   "execution_count": null,
   "id": "4dfd02fa",
   "metadata": {},
   "outputs": [],
   "source": [
    "# calculate the great circle distance between the departure and arrival airports - 4 min\n",
    "all_flights_filtered['gc_km'] = all_flights_filtered.apply(lambda x: distance.great_circle((x['estdeparturelat'], x['estdeparturelong']), (x['estarrivallat'], x['estarrivallong'])).km, axis=1)\n",
    "# adjust great circle distance using eq. 6 of seymour, et al (2020)\n",
    "# all_flights_filtered = pd.read_pickle(f'/scratch/omg28/Data/no_track_2024/{start_time_simple}_to_{stop_time_simple}_filtered.pkl')"
   ]
  },
  {
   "cell_type": "code",
   "execution_count": null,
   "id": "f2460b5c",
   "metadata": {},
   "outputs": [],
   "source": [
    "# could be sped up by using a vectorized function - 1 min\n",
    "all_flights_filtered['gc_FEAT_km'] = all_flights_filtered.apply(lambda x: 1.0387 * x['gc_km'] + 40.5, axis = 1)"
   ]
  },
  {
   "cell_type": "code",
   "execution_count": null,
   "id": "a86196f8",
   "metadata": {},
   "outputs": [],
   "source": [
    "# save the merged dataframe to a .pkl file - 15s\n",
    "all_flights_filtered.to_pickle(f'/scratch/omg28/Data/no_track2024/{start_time_simple}_to_{stop_time_simple}_filtered.pkl')"
   ]
  },
  {
   "cell_type": "code",
   "execution_count": null,
   "id": "60978186",
   "metadata": {},
   "outputs": [],
   "source": [
    "print(all_flights_filtered.info())\n",
    "print(all_flights_filtered.head())"
   ]
  },
  {
   "cell_type": "code",
   "execution_count": null,
   "id": "e8311208",
   "metadata": {},
   "outputs": [],
   "source": [
    "# remove all flights under 200 km:\n",
    "all_flights_filtered = all_flights_filtered[all_flights_filtered['gc_FEAT_km'] > 200]\n",
    "print(\"Number of flights with TOLD, typecode, performance model, distance, and departure/arrival airport info over 200 km: \" + str(len(all_flights_filtered)))"
   ]
  },
  {
   "cell_type": "markdown",
   "id": "e303638c",
   "metadata": {},
   "source": [
    "Section 5: parse the engine data and emissions data and add it to the aircraft performance model."
   ]
  },
  {
   "cell_type": "code",
   "execution_count": null,
   "id": "36a921d4",
   "metadata": {},
   "outputs": [],
   "source": [
    "# Loads data from the saved engine data .csv files for analysis. Saves this dataframe to a .pkl file\n",
    "# Setting \"remove_superseded\" to True will remove all engines that are superseded by an updated emissions model\n",
    "engine_models = get_engine_data(update_superseded=False)\n",
    "engine_models_removed = get_engine_data(update_superseded=True)\n",
    "# calculate how many engines were removed\n",
    "print(\"Number of engines that would be removed: \" + str(len(engine_models['Engine Identification'].unique()) - len(engine_models_removed['Engine Identification'].unique())))\n",
    "# print the list of the engine models that are in engine_models_kept but not in engine_models_removed\n",
    "superseded_not_replaced = engine_models[~engine_models['Engine Identification'].isin(engine_models_removed['Engine Identification'])].get('Engine Identification').unique()\n",
    "print(\"List of engines that were removed: \" + str(superseded_not_replaced))\n",
    "# POTENTIAL FIX: REMOVE ENGINES THAT HAVE BEEN SUPERSEDED BY AN UPDATED EMISSIONS MODE\n"
   ]
  },
  {
   "cell_type": "code",
   "execution_count": null,
   "id": "a60bd30f",
   "metadata": {},
   "outputs": [],
   "source": [
    "# loads the aircraft performance model data from the saved .csv file\n",
    "performance_models = pd.read_csv(\"aircraft_performance_table_filtered.csv\")"
   ]
  },
  {
   "cell_type": "code",
   "execution_count": null,
   "id": "60ff54bb",
   "metadata": {},
   "outputs": [],
   "source": [
    "# extracts the powerplant data from the performance model dataframe and appends it to new columns in the performance model dataframe\n",
    "allowed_manufacturers = engine_models['Manufacturer'].unique().tolist()\n",
    "performance_models = perf_model_powerplant_parser(performance_models, coerce_manufacturer=True, allowed_manufacturers=allowed_manufacturers)\n"
   ]
  },
  {
   "cell_type": "code",
   "execution_count": null,
   "id": "f8f83aff",
   "metadata": {},
   "outputs": [],
   "source": [
    "# attempts to match the powerplants extracted from the EUCONTROL aircraft performance model with an engine model in the engine emissions database\n",
    "# reset the index of engine_models so that 'UID No' becomes a column rather than the index, otherwise the merge will not work\n",
    "engine_models.reset_index(inplace=True)\n",
    "# attempts to match the powerplants extracted from the EUCONTROL aircraft performance model with an engine model in the engine emissions database\n",
    "performance_models_matched = match_engine_to_emissions_db(performance_models, engine_models)"
   ]
  },
  {
   "cell_type": "code",
   "execution_count": null,
   "id": "5e45cad7",
   "metadata": {},
   "outputs": [],
   "source": [
    "# drom all rows without a matched engine model\n",
    "performance_models_matched = performance_models_matched.dropna(subset=['matched_engine_id'])"
   ]
  },
  {
   "cell_type": "code",
   "execution_count": null,
   "id": "eaaaa309",
   "metadata": {},
   "outputs": [],
   "source": [
    "# print number of performance models whose engines match superseded engines\n",
    "print(\"Number of performance models with engines that are superseded: \" + str(len(performance_models_matched[performance_models_matched['matched_engine_id'].isin(superseded_not_replaced)])))\n",
    "print(\"Number of performance models with engines that are NOT superseded: \" + str(len(performance_models_matched[~performance_models_matched['matched_engine_id'].isin(superseded_not_replaced)])))\n",
    "print(\"aircraft performance models with engines that are superseded: \\n\" + str(performance_models_matched[performance_models_matched['matched_engine_id'].isin(superseded_not_replaced)].get('typecode')))"
   ]
  },
  {
   "cell_type": "code",
   "execution_count": null,
   "id": "28deb160",
   "metadata": {},
   "outputs": [],
   "source": [
    "# Join the aircraft performance model data with the engine emissions database data\n",
    "performance_and_emissions_model = pd.merge(performance_models_matched, engine_models, how='inner', left_on='matched_engine_uid_no', right_on='UID No')"
   ]
  },
  {
   "cell_type": "markdown",
   "id": "4c61dadc",
   "metadata": {},
   "source": [
    "Section 6: generate and visualize flightpaths"
   ]
  },
  {
   "cell_type": "code",
   "execution_count": null,
   "metadata": {},
   "outputs": [],
   "source": [
    "# performance_data=pd.read_pickle('aircraft_performance_data_table.pkl')\n",
    "aircraft_typecode = 'A320'\n",
    "flightpath = generate_flightpath(aircraft_typecode, 500, performance_and_emissions_model)"
   ]
  },
  {
   "cell_type": "code",
   "execution_count": null,
   "id": "b5ae35c7",
   "metadata": {},
   "outputs": [],
   "source": [
    "import matplotlib.pyplot as plt\n",
    "# Sum durations from the flightpath dictionary for each phase\n",
    "climb_time = (flightpath['climb'].get('t_climb_0_5', 0) +\n",
    "              flightpath['climb'].get('t_climb_5_10', 0) +\n",
    "              flightpath['climb'].get('t_climb_10_15', 0) +\n",
    "              flightpath['climb'].get('t_climb_15_24', 0) +\n",
    "              flightpath['climb'].get('t_climb_ceil', 0))\n",
    "\n",
    "descent_time = (flightpath['descent'].get('t_descent_5_0', 0) +\n",
    "                flightpath['descent'].get('t_descent_10_5', 0) +\n",
    "                flightpath['descent'].get('t_descent_15_10', 0) +\n",
    "                flightpath['descent'].get('t_descent_24_15', 0) +\n",
    "                flightpath['descent'].get('t_descent_ceil', 0))\n",
    "\n",
    "cruise_time = flightpath['cruise'].get('t_cruise', 0)\n",
    "\n",
    "# Prepare data for the barchart\n",
    "phases = ['Climb', 'Cruise', 'Descent']\n",
    "durations = [climb_time, cruise_time, descent_time]\n",
    "\n",
    "# Optionally convert seconds to minutes (or leave in seconds)\n",
    "# durations = [t / 60.0 for t in durations]\n",
    "\n",
    "plt.figure()\n",
    "bars = plt.bar(phases, durations, color=['skyblue', 'lightgreen', 'salmon'])\n",
    "plt.xlabel('Flight Phases')\n",
    "plt.ylabel('Duration (seconds)')\n",
    "plt.title(f'Duration of Each Flight Leg ({aircraft_typecode})')\n",
    "\n",
    "# Annotate bars with duration values\n",
    "for bar, duration in zip(bars, durations):\n",
    "    height = bar.get_height()\n",
    "    plt.text(bar.get_x() + bar.get_width()/2, height,\n",
    "             f'{duration:.0f}', ha='center', va='bottom')\n",
    "\n",
    "plt.tight_layout()\n",
    "plt.show()\n"
   ]
  },
  {
   "cell_type": "code",
   "execution_count": null,
   "id": "016bae9d",
   "metadata": {},
   "outputs": [],
   "source": [
    "\n",
    "# Break down the climb phases\n",
    "climb_labels = ['Climb 0-5', 'Climb 5-10', 'Climb 10-15', 'Climb 15-24', 'Climb Ceil']\n",
    "climb_times = [\n",
    "    flightpath['climb'].get('t_climb_0_5', 0),\n",
    "    flightpath['climb'].get('t_climb_5_10', 0),\n",
    "    flightpath['climb'].get('t_climb_10_15', 0),\n",
    "    flightpath['climb'].get('t_climb_15_24', 0),\n",
    "    flightpath['climb'].get('t_climb_ceil', 0)\n",
    "]\n",
    "\n",
    "# Break down the descent phases\n",
    "descent_labels = ['Descent 5-0', 'Descent 10-5', 'Descent 15-10', 'Descent 24-15', 'Descent Ceil']\n",
    "descent_times = [\n",
    "    flightpath['descent'].get('t_descent_5_0', 0),\n",
    "    flightpath['descent'].get('t_descent_10_5', 0),\n",
    "    flightpath['descent'].get('t_descent_15_10', 0),\n",
    "    flightpath['descent'].get('t_descent_24_15', 0),\n",
    "    flightpath['descent'].get('t_descent_ceil', 0)\n",
    "]\n",
    "\n",
    "import matplotlib.pyplot as plt\n",
    "\n",
    "plt.figure(figsize=(14, 6))\n",
    "\n",
    "# Climb segments chart\n",
    "plt.subplot(1, 2, 1)\n",
    "bars_climb = plt.bar(climb_labels, climb_times, color='skyblue')\n",
    "plt.xlabel('Climb Segments')\n",
    "plt.ylabel('Time (seconds)')\n",
    "plt.title(f'Climb Phase Breakdown ({aircraft_typecode})')\n",
    "for bar, t in zip(bars_climb, climb_times):\n",
    "    plt.text(bar.get_x() + bar.get_width()/2, bar.get_height(), f'{t:.1f}', ha='center', va='bottom')\n",
    "\n",
    "# Descent segments chart\n",
    "plt.subplot(1, 2, 2)\n",
    "bars_descent = plt.bar(descent_labels, descent_times, color='salmon')\n",
    "plt.xlabel('Descent Segments')\n",
    "plt.ylabel('Time (seconds)')\n",
    "plt.title(f'Descent Phase Breakdown ({aircraft_typecode})')\n",
    "for bar, t in zip(bars_descent, descent_times):\n",
    "    plt.text(bar.get_x() + bar.get_width()/2, bar.get_height(), f'{t:.1f}', ha='center', va='bottom')\n",
    "\n",
    "plt.tight_layout()\n",
    "plt.show()\n"
   ]
  },
  {
   "cell_type": "code",
   "execution_count": null,
   "id": "7b0ef7ec",
   "metadata": {},
   "outputs": [],
   "source": [
    "import numpy as np\n",
    "\n",
    "import matplotlib.pyplot as plt\n",
    "\n",
    "# Overall phase distances (in meters)\n",
    "climb_distance = (np.atleast_1d(flightpath['climb'].get('s_climb_0_5', 0))[0] +\n",
    "                  np.atleast_1d(flightpath['climb'].get('s_climb_5_10', 0))[0] +\n",
    "                  np.atleast_1d(flightpath['climb'].get('s_climb_10_15', 0))[0] +\n",
    "                  np.atleast_1d(flightpath['climb'].get('s_climb_15_24', 0))[0] +\n",
    "                  np.atleast_1d(flightpath['climb'].get('s_climb_ceil', 0))[0])\n",
    "\n",
    "cruise_distance = np.atleast_1d(flightpath['cruise'].get('s_cruise', 0))[0]\n",
    "\n",
    "descent_distance = (np.atleast_1d(flightpath['descent'].get('s_descent_5_0', 0))[0] +\n",
    "                    np.atleast_1d(flightpath['descent'].get('s_descent_10_5', 0))[0] +\n",
    "                    np.atleast_1d(flightpath['descent'].get('s_descent_15_10', 0))[0] +\n",
    "                    np.atleast_1d(flightpath['descent'].get('s_descent_24_15', 0))[0] +\n",
    "                    np.atleast_1d(flightpath['descent'].get('s_descent_ceil', 0))[0])\n",
    "\n",
    "phases = ['Climb', 'Cruise', 'Descent']\n",
    "distances = [climb_distance, cruise_distance, descent_distance]\n",
    "\n",
    "plt.figure(figsize=(8, 6))\n",
    "overall_bars = plt.bar(phases, distances, color=['skyblue', 'lightgreen', 'salmon'])\n",
    "plt.xlabel('Flight Phases')\n",
    "plt.ylabel('Distance (meters)')\n",
    "plt.title(f'Distance Covered in Each Flight Phase ({aircraft_typecode})')\n",
    "\n",
    "# Annotate overall bars with distance values\n",
    "for bar, dist in zip(overall_bars, distances):\n",
    "    height = bar.get_height()\n",
    "    plt.text(bar.get_x() + bar.get_width()/2, height, f'{dist:,.0f}', ha='center', va='bottom')\n",
    "\n",
    "plt.tight_layout()\n",
    "plt.show()\n"
   ]
  },
  {
   "cell_type": "code",
   "execution_count": null,
   "id": "39e1b108",
   "metadata": {},
   "outputs": [],
   "source": [
    "\n",
    "\n",
    "# Breakdown of distances for each segment\n",
    "\n",
    "# For Climb Phase\n",
    "climb_keys = ['s_climb_0_5', 's_climb_5_10', 's_climb_10_15', 's_climb_15_24', 's_climb_ceil']\n",
    "climb_distances = []\n",
    "for key in climb_keys:\n",
    "    value = flightpath['climb'].get(key, np.array([0]))\n",
    "    # value is expected to be a numpy array; extract its first element if so\n",
    "    if isinstance(value, np.ndarray):\n",
    "        climb_distances.append(value[0])\n",
    "    else:\n",
    "        climb_distances.append(value)\n",
    "\n",
    "# For Descent Phase\n",
    "descent_keys = ['s_descent_5_0', 's_descent_10_5', 's_descent_15_10', 's_descent_24_15', 's_descent_ceil']\n",
    "descent_distances = []\n",
    "for key in descent_keys:\n",
    "    value = flightpath['descent'].get(key, np.array([0]))\n",
    "    if isinstance(value, np.ndarray):\n",
    "        descent_distances.append(value[0])\n",
    "    else:\n",
    "        descent_distances.append(value)\n",
    "\n",
    "plt.figure(figsize=(14, 6))\n",
    "\n",
    "# Climb segments chart\n",
    "plt.subplot(1, 2, 1)\n",
    "bars_climb = plt.bar(climb_labels, climb_distances, color='skyblue')\n",
    "plt.xlabel('Climb Segments')\n",
    "plt.ylabel('Distance (meters)')\n",
    "plt.title(f'Climb Phase Distance Breakdown ({aircraft_typecode})')\n",
    "for bar, d in zip(bars_climb, climb_distances):\n",
    "    plt.text(bar.get_x() + bar.get_width()/2, bar.get_height(), f'{d:,.0f}', ha='center', va='bottom')\n",
    "\n",
    "# Descent segments chart\n",
    "plt.subplot(1, 2, 2)\n",
    "bars_descent = plt.bar(descent_labels, descent_distances, color='salmon')\n",
    "plt.xlabel('Descent Segments')\n",
    "plt.ylabel('Distance (meters)')\n",
    "plt.title(f'Descent Phase Distance Breakdown ({aircraft_typecode})')\n",
    "for bar, d in zip(bars_descent, descent_distances):\n",
    "    plt.text(bar.get_x() + bar.get_width()/2, bar.get_height(), f'{d:,.0f}', ha='center', va='bottom')\n",
    "\n",
    "plt.tight_layout()\n",
    "plt.show()\n"
   ]
  },
  {
   "cell_type": "code",
   "execution_count": null,
   "id": "b49eca93",
   "metadata": {},
   "outputs": [],
   "source": [
    "# Build cumulative distance and altitude lists.\n",
    "# Starting at runway: (distance, altitude) = (0, 0)\n",
    "distances_list = [0]\n",
    "altitudes_list = [0]\n",
    "\n",
    "# Climb phase:\n",
    "# First climb segment (0-5):\n",
    "cum_distance = distances_list[-1]\n",
    "for key in flightpath:\n",
    "    for key2 in flightpath[key]:\n",
    "        if key2.startswith('s_'):\n",
    "            cum_distance += flightpath[key][key2]\n",
    "            distances_list.append(cum_distance)\n",
    "            altitudes_list.append(flightpath[key][f'{key2.replace('s_', 'h_')}_end'])\n",
    "\n",
    "# Plot the altitude profile vs. cumulative flight distance.\n",
    "plt.figure(figsize=(10, 6))\n",
    "plt.plot(distances_list, altitudes_list, marker='o', linestyle='-')\n",
    "plt.xlabel('Cumulative Flight Distance (meters)')\n",
    "plt.ylabel('Flight Altitude (meters)')\n",
    "plt.title(f'Flight Altitude vs. Flight Distance ({aircraft_typecode})')\n",
    "plt.grid(True)\n",
    "plt.show()"
   ]
  },
  {
   "cell_type": "code",
   "execution_count": null,
   "id": "2295e68d",
   "metadata": {},
   "outputs": [],
   "source": [
    "# Generate 25 flight distances (km) linearly spaced from 200 to 5000 km.\n",
    "num_flightpaths = 25\n",
    "flight_distances = np.linspace(200, 1000, num_flightpaths)\n",
    "flightpaths = [0] * num_flightpaths\n",
    " \n",
    "# Loop through each flight distance and generate the flightpath.\n",
    "for ii in np.arange(num_flightpaths):\n",
    "    d_km = flight_distances[ii] \n",
    "    # Generate flightpath for a given flight distance (in km)\n",
    "    fp = generate_flightpath(aircraft_typecode, d_km, performance_and_emissions_model)\n",
    "    flightpaths[ii] = fp\n",
    "plot_flightpaths(flightpaths)"
   ]
  },
  {
   "cell_type": "markdown",
   "id": "024efcdd",
   "metadata": {},
   "source": [
    "### Visualize NOx Emissions by Flight Phase"
   ]
  },
  {
   "cell_type": "code",
   "execution_count": null,
   "id": "04149b42",
   "metadata": {},
   "outputs": [],
   "source": [
    "# Visualize NOx emissions for each climb and descent phase\n",
    "import matplotlib.pyplot as plt\n",
    "\n",
    "climb_nox_labels = ['Climb 0-5', 'Climb 5-10', 'Climb 10-15', 'Climb 15-24', 'Climb Ceil']\n",
    "climb_nox_keys = ['NOx_climb_0_5', 'NOx_climb_5_10', 'NOx_climb_10_15', 'NOx_climb_15_24', 'NOx_climb_ceil']\n",
    "climb_nox_values = [flightpath['climb'].get(k, 0) for k in climb_nox_keys]\n",
    "\n",
    "descent_nox_labels = ['Descent Ceil', 'Descent 24-15', 'Descent 15-10', 'Descent 10-5', 'Descent 5-0']\n",
    "descent_nox_keys = ['NOx_descent_ceil', 'NOx_descent_24_15', 'NOx_descent_15_10', 'NOx_descent_10_5', 'NOx_descent_5_0']\n",
    "descent_nox_values = [flightpath['descent'].get(k, 0) for k in descent_nox_keys]\n",
    "\n",
    "plt.figure(figsize=(14, 6))\n",
    "plt.subplot(1, 2, 1)\n",
    "bars_climb = plt.bar(climb_nox_labels, climb_nox_values, color='deepskyblue')\n",
    "plt.xlabel('Climb Segments')\n",
    "plt.ylabel('NOx Emissions (g)')\n",
    "plt.title(f'NOx Emissions During Climb ({aircraft_typecode})')\n",
    "for bar, val in zip(bars_climb, climb_nox_values):\n",
    "    plt.text(bar.get_x() + bar.get_width()/2, bar.get_height(), f'{val:.1f}', ha='center', va='bottom')\n",
    "\n",
    "plt.subplot(1, 2, 2)\n",
    "bars_descent = plt.bar(descent_nox_labels, descent_nox_values, color='orange')\n",
    "plt.xlabel('Descent Segments')\n",
    "plt.ylabel('NOx Emissions (g)')\n",
    "plt.title(f'NOx Emissions During Descent ({aircraft_typecode})')\n",
    "for bar, val in zip(bars_descent, descent_nox_values):\n",
    "    plt.text(bar.get_x() + bar.get_width()/2, bar.get_height(), f'{val:.1f}', ha='center', va='bottom')\n",
    "\n",
    "plt.tight_layout()\n",
    "plt.show()\n",
    "\n",
    "# Cumulative NOx Emissions vs. Flight Distance\n",
    "num_flightpaths = 25\n",
    "flight_distances = np.linspace(200, 5000, num_flightpaths)\n",
    "cumulative_nox = []\n",
    "for d_km in flight_distances:\n",
    "    fp = generate_flightpath(aircraft_typecode, d_km, performance_and_emissions_model)\n",
    "    total_nox = 0\n",
    "    for k in ['NOx_climb_0_5', 'NOx_climb_5_10', 'NOx_climb_10_15', 'NOx_climb_15_24', 'NOx_climb_ceil']:\n",
    "        total_nox += fp['climb'].get(k, 0)\n",
    "    for k in ['NOx_descent_ceil', 'NOx_descent_24_15', 'NOx_descent_15_10', 'NOx_descent_10_5', 'NOx_descent_5_0']:\n",
    "        total_nox += fp['descent'].get(k, 0)\n",
    "    total_nox += fp.get('cruise', {}).get('NOx_cruise', 0)\n",
    "    cumulative_nox.append(total_nox)\n",
    "\n",
    "plt.figure(figsize=(8, 6))\n",
    "plt.plot(flight_distances, cumulative_nox, marker='o', color='purple')\n",
    "plt.xlabel('Flight Distance (km)')\n",
    "plt.ylabel('Cumulative NOx Emissions (g)')\n",
    "plt.title(f'Cumulative NOx Emissions vs. Flight Distance ({aircraft_typecode})')\n",
    "plt.grid(True)\n",
    "plt.tight_layout()\n",
    "plt.show()"
   ]
  },
  {
   "cell_type": "code",
   "execution_count": null,
   "id": "893eafcd",
   "metadata": {},
   "outputs": [],
   "source": [
    "# Instantaneous NOx flux vs. flight distance\n",
    "import numpy as np\n",
    "import matplotlib.pyplot as plt\n",
    "\n",
    "# Build lists for distance and NOx flux (g/s) at each segment\n",
    "segment_distances = [0]\n",
    "segment_nox_flux = []\n",
    "\n",
    "# Climb segments\n",
    "climb_keys = [\n",
    "    ('s_climb_0_5', 't_climb_0_5', 'NOx_climb_0_5'),\n",
    "    ('s_climb_5_10', 't_climb_5_10', 'NOx_climb_5_10'),\n",
    "    ('s_climb_10_15', 't_climb_10_15', 'NOx_climb_10_15'),\n",
    "    ('s_climb_15_24', 't_climb_15_24', 'NOx_climb_15_24'),\n",
    "    ('s_climb_ceil', 't_climb_ceil', 'NOx_climb_ceil'),\n",
    "]\n",
    "cum_dist = 0\n",
    "for s_key, t_key, nox_key in climb_keys:\n",
    "    s = flightpath['climb'].get(s_key, 0)\n",
    "    t = flightpath['climb'].get(t_key, 0)\n",
    "    nox = flightpath['climb'].get(nox_key, 0)\n",
    "    if t > 0 and s > 0:\n",
    "        cum_dist += s\n",
    "        segment_distances.append(cum_dist)\n",
    "        segment_nox_flux.append(nox / t)\n",
    "\n",
    "# Cruise segment (if available)\n",
    "s_cruise = flightpath['cruise'].get('s_cruise', 0)\n",
    "t_cruise = flightpath['cruise'].get('t_cruise', 0)\n",
    "nox_cruise = flightpath['cruise'].get('NOx_cruise', 0)\n",
    "if t_cruise > 0 and s_cruise > 0:\n",
    "    cum_dist += s_cruise\n",
    "    segment_distances.append(cum_dist)\n",
    "    segment_nox_flux.append(nox_cruise / t_cruise if t_cruise > 0 else 0)\n",
    "\n",
    "# Descent segments\n",
    "descent_keys = [\n",
    "    ('s_descent_ceil', 't_descent_ceil', 'NOx_descent_ceil'),\n",
    "    ('s_descent_24_15', 't_descent_24_15', 'NOx_descent_24_15'),\n",
    "    ('s_descent_15_10', 't_descent_15_10', 'NOx_descent_15_10'),\n",
    "    ('s_descent_10_5', 't_descent_10_5', 'NOx_descent_10_5'),\n",
    "    ('s_descent_5_0', 't_descent_5_0', 'NOx_descent_5_0'),\n",
    "]\n",
    "for s_key, t_key, nox_key in descent_keys:\n",
    "    s = flightpath['descent'].get(s_key, 0)\n",
    "    t = flightpath['descent'].get(t_key, 0)\n",
    "    nox = flightpath['descent'].get(nox_key, 0)\n",
    "    if t > 0 and s > 0:\n",
    "        cum_dist += s\n",
    "        segment_distances.append(cum_dist)\n",
    "        segment_nox_flux.append(nox / t)\n",
    "\n",
    "# Ensure x and y have the same length by removing the initial 0 from segment_distances.\n",
    "segment_distances = segment_distances[1:]\n",
    "\n",
    "plt.figure(figsize=(10, 6))\n",
    "plt.step(segment_distances, segment_nox_flux, where='post', marker='o')\n",
    "plt.xlabel('Cumulative Flight Distance (meters)')\n",
    "plt.ylabel('Instantaneous NOx Flux (g/s)')\n",
    "plt.title(f'Instantaneous NOx Flux vs. Flight Distance ({aircraft_typecode})')\n",
    "plt.grid(True)\n",
    "plt.tight_layout()\n",
    "plt.show()"
   ]
  },
  {
   "cell_type": "code",
   "execution_count": null,
   "id": "ce06083c",
   "metadata": {},
   "outputs": [],
   "source": [
    "# Instantaneous NOx flux and altitude vs. flight distance\n",
    "import numpy as np\n",
    "import matplotlib.pyplot as plt\n",
    "\n",
    "# Build lists for distance, NOx flux (g/s), and altitude at each segment\n",
    "segment_distances = [0]\n",
    "segment_nox_flux = []\n",
    "segment_altitudes = [0]\n",
    "\n",
    "# Climb segments\n",
    "climb_keys = [\n",
    "    ('s_climb_0_5', 't_climb_0_5', 'NOx_climb_0_5', 'h_climb_0_5_end'),\n",
    "    ('s_climb_5_10', 't_climb_5_10', 'NOx_climb_5_10', 'h_climb_5_10_end'),\n",
    "    ('s_climb_10_15', 't_climb_10_15', 'NOx_climb_10_15', 'h_climb_10_15_end'),\n",
    "    ('s_climb_15_24', 't_climb_15_24', 'NOx_climb_15_24', 'h_climb_15_24_end'),\n",
    "    ('s_climb_ceil', 't_climb_ceil', 'NOx_climb_ceil', 'h_climb_ceil_end'),\n",
    "]\n",
    "cum_dist = 0\n",
    "for s_key, t_key, nox_key, h_key in climb_keys:\n",
    "    s = flightpath['climb'].get(s_key, 0)\n",
    "    t = flightpath['climb'].get(t_key, 0)\n",
    "    nox = flightpath['climb'].get(nox_key, 0)\n",
    "    h = flightpath['climb'].get(h_key, 0)\n",
    "    if t > 0 and s > 0:\n",
    "        cum_dist += s\n",
    "        segment_distances.append(cum_dist)\n",
    "        segment_nox_flux.append(nox / t)\n",
    "        segment_altitudes.append(h)\n",
    "\n",
    "# Cruise segment (if available)\n",
    "s_cruise = flightpath['cruise'].get('s_cruise', 0)\n",
    "t_cruise = flightpath['cruise'].get('t_cruise', 0)\n",
    "nox_cruise = flightpath['cruise'].get('NOx_cruise', 0)\n",
    "h_cruise = flightpath['cruise'].get('h_cruise_end', 0)\n",
    "if t_cruise > 0 and s_cruise > 0:\n",
    "    cum_dist += s_cruise\n",
    "    segment_distances.append(cum_dist)\n",
    "    segment_nox_flux.append(nox_cruise / t_cruise if t_cruise > 0 else 0)\n",
    "    segment_altitudes.append(h_cruise)\n",
    "\n",
    "# Descent segments\n",
    "descent_keys = [\n",
    "    ('s_descent_ceil', 't_descent_ceil', 'NOx_descent_ceil', 'h_descent_ceil_end'),\n",
    "    ('s_descent_24_15', 't_descent_24_15', 'NOx_descent_24_15', 'h_descent_24_15_end'),\n",
    "    ('s_descent_15_10', 't_descent_15_10', 'NOx_descent_15_10', 'h_descent_15_10_end'),\n",
    "    ('s_descent_10_5', 't_descent_10_5', 'NOx_descent_10_5', 'h_descent_10_5_end'),\n",
    "    ('s_descent_5_0', 't_descent_5_0', 'NOx_descent_5_0', 'h_descent_5_0_end'),\n",
    "]\n",
    "for s_key, t_key, nox_key, h_key in descent_keys:\n",
    "    s = flightpath['descent'].get(s_key, 0)\n",
    "    t = flightpath['descent'].get(t_key, 0)\n",
    "    nox = flightpath['descent'].get(nox_key, 0)\n",
    "    h = flightpath['descent'].get(h_key, 0)\n",
    "    if t > 0 and s > 0:\n",
    "        cum_dist += s\n",
    "        segment_distances.append(cum_dist)\n",
    "        segment_nox_flux.append(nox / t)\n",
    "        segment_altitudes.append(h)\n",
    "\n",
    "# Ensure all arrays have the same length for plotting\n",
    "min_len = min(len(segment_distances), len(segment_nox_flux), len(segment_altitudes))\n",
    "segment_distances_plot = segment_distances[:min_len]\n",
    "segment_nox_flux_plot = segment_nox_flux[:min_len]\n",
    "segment_altitudes_plot = segment_altitudes[:min_len]\n",
    "\n",
    "fig, ax1 = plt.subplots(figsize=(10, 6))\n",
    "\n",
    "ax1.step(segment_distances_plot, segment_nox_flux_plot, where='post', marker='o', color='tab:blue', label='NOx Flux (g/s)')\n",
    "ax1.set_xlabel('Cumulative Flight Distance (meters)')\n",
    "ax1.set_ylabel('Instantaneous NOx Flux (g/s)', color='tab:blue')\n",
    "ax1.tick_params(axis='y', labelcolor='tab:blue')\n",
    "\n",
    "ax2 = ax1.twinx()\n",
    "ax2.plot(segment_distances_plot, segment_altitudes_plot, marker='s', color='tab:red', label='Altitude (m)')\n",
    "ax2.set_ylabel('Altitude (meters)', color='tab:red')\n",
    "ax2.tick_params(axis='y', labelcolor='tab:red')\n",
    "\n",
    "fig.suptitle(f'Instantaneous NOx Flux and Altitude vs. Flight Distance ({aircraft_typecode})')\n",
    "fig.tight_layout()\n",
    "plt.show()"
   ]
  },
  {
   "cell_type": "markdown",
   "id": "8ca8d174",
   "metadata": {},
   "source": [
    "TEST CODE"
   ]
  },
  {
   "cell_type": "code",
   "execution_count": 1,
   "id": "52ac63d5",
   "metadata": {},
   "outputs": [],
   "source": [
    "from download_day import download_day\n",
    "from load_saved_fd4 import load_saved_fd4\n",
    "from scrape_aircraft_list import scrape_aircraft_list\n",
    "from get_perf_model_typecodes import get_perf_model_typecodes \n",
    "from match_icao_model import match_icao_model\n",
    "from process_airport_list import process_airport_list\n",
    "from generate_flightpath import generate_flightpath\n",
    "from plot_flightpaths import plot_flightpaths\n",
    "from get_engine_data import get_engine_data\n",
    "from perf_model_powerplant_parser import perf_model_powerplant_parser\n",
    "from match_engine_to_emissions_db import match_engine_to_emissions_db\n",
    "import matplotlib.pyplot as plt\n",
    "import pandas as pd\n",
    "import numpy as np\n",
    "from time import sleep\n",
    "from geopy import distance\n",
    "from icet import icet\n",
    "from bffm2 import bffm2\n",
    "%matplotlib inline"
   ]
  },
  {
   "cell_type": "code",
   "execution_count": 4,
   "id": "7fdefac7",
   "metadata": {},
   "outputs": [
    {
     "data": {
      "text/plain": [
       "<matplotlib.legend.Legend at 0x7fde8b3a0410>"
      ]
     },
     "execution_count": 4,
     "metadata": {},
     "output_type": "execute_result"
    },
    {
     "data": {
      "image/png": "[encoded data removed]",
      "text/plain": [
       "<Figure size 1000x600 with 1 Axes>"
      ]
     },
     "metadata": {},
     "output_type": "display_data"
    }
   ],
   "source": [
    "fuel_flow_evaluate = np.linspace(100, 7, num=50)  # Convert kg/s to lb/hr\n",
    "fuel_flow_icao = np.array([100, 85, 30, 7])\n",
    "HC_test_EI = np.array([0.15, 0.2, 0.1, 0.9])\n",
    "CO_test_EI = np.array([0.10, 0.21, 0.4, 0.9])\n",
    "NOx_test_EI = np.array([0.9, 0.8, 0.6, 0.1])\n",
    "\n",
    "EI_HC_interp, EI_CO_interp, EI_NOx_interp = bffm2(fuel_flow_icao, HC_test_EI, CO_test_EI, NOx_test_EI, fuel_flow_evaluate)\n",
    "\n",
    "plt.figure(figsize=(10, 6))\n",
    "plt.plot(fuel_flow_evaluate, EI_HC_interp, label='HC EI', color='blue')\n",
    "plt.plot(fuel_flow_evaluate, EI_CO_interp, label='CO EI', color='green')\n",
    "plt.plot(fuel_flow_evaluate, EI_NOx_interp, label='NOx EI', color='red')\n",
    "plt.scatter(fuel_flow_icao, HC_test_EI, color='blue', marker='o', label='HC EI Data Points')\n",
    "plt.scatter(fuel_flow_icao, CO_test_EI, color='green', marker='o', label='CO EI Data Points')\n",
    "plt.scatter(fuel_flow_icao, NOx_test_EI, color='red', marker='o', label='NOx EI Data Points')\n",
    "plt.xlabel('Fuel Flow (kg/s)')\n",
    "plt.ylabel('Emissions Index (g/kg)')\n",
    "plt.title('Interpolated Emissions Index vs. Fuel Flow')\n",
    "plt.legend()"
   ]
  }
 ],
 "metadata": {
  "kernelspec": {
   "display_name": "traffic",
   "language": "python",
   "name": "python3"
  },
  "language_info": {
   "codemirror_mode": {
    "name": "ipython",
    "version": 3
   },
   "file_extension": ".py",
   "mimetype": "text/x-python",
   "name": "python",
   "nbconvert_exporter": "python",
   "pygments_lexer": "ipython3",
   "version": "3.12.9"
  }
 },
 "nbformat": 4,
 "nbformat_minor": 5
}
