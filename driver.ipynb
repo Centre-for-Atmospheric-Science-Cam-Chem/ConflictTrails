{
 "cells": [
  {
   "cell_type": "code",
   "execution_count": 2,
   "id": "7a396014",
   "metadata": {},
   "outputs": [],
   "source": [
    "from download_day import download_day\n",
    "from load_saved_fd4 import load_saved_fd4\n",
    "from scrape_aircraft_list import scrape_aircraft_list\n",
    "from get_perf_model_typecodes import get_perf_model_typecodes \n",
    "from match_icao_model import match_icao_model\n",
    "from process_airport_list import process_airport_list\n",
    "import pandas as pd\n",
    "import numpy as np\n",
    "from time import sleep\n",
    "from geopy import distance"
   ]
  },
  {
   "cell_type": "code",
   "execution_count": 3,
   "id": "7d44abb7",
   "metadata": {},
   "outputs": [],
   "source": [
    "# User Inputs:\n",
    "start_time_str       = '2024-01-01T00:00:00Z'\n",
    "stop_time_str        = '2024-12-31T23:59:59Z'\n",
    "query_limit          = 30e4\n",
    "send_notification    = True\n",
    "make_plot            = False\n",
    "output_dir           = \"/scratch/omg28/Data/no_track_2024\"\n",
    "\n",
    "# Convert start and stop times to datetime objects\n",
    "start_time_simple = pd.to_datetime(start_time_str).strftime(\"%Y-%m-%d\")\n",
    "stop_time_simple = pd.to_datetime(stop_time_str).strftime(\"%Y-%m-%d\")"
   ]
  },
  {
   "cell_type": "markdown",
   "id": "3e008886",
   "metadata": {},
   "source": [
    "Section 1. Download flight information from Opensky"
   ]
  },
  {
   "cell_type": "code",
   "execution_count": null,
   "id": "e278aa53",
   "metadata": {},
   "outputs": [],
   "source": [
    "\"\"\"\n",
    "# Download data from OpenSky history database\n",
    "# WARNING: This may take a long time to run and will use a lot of disk space. Recommend running this in a .py script to avoid recurring memory issues found in Jupyter notebooks.\n",
    "download_day(start_time_str, stop_time_str, query_limit, send_notification, make_plot, output_dir)\n",
    "\"\"\""
   ]
  },
  {
   "cell_type": "code",
   "execution_count": null,
   "id": "45bcd15c",
   "metadata": {},
   "outputs": [],
   "source": [
    "# load the saved day of data from a .pkl file to a pandas dataframe\n",
    "loaded_day = load_saved_fd4(stop_time_str, output_dir, query_limit)"
   ]
  },
  {
   "cell_type": "markdown",
   "id": "52c13875",
   "metadata": {},
   "source": [
    "Section 2. Scrape the EUCONTROL database for aircraft flight performance information"
   ]
  },
  {
   "cell_type": "code",
   "execution_count": null,
   "id": "2901b6f0",
   "metadata": {},
   "outputs": [],
   "source": [
    "\"\"\"\n",
    "# scrape the list of aircraft with performance models from the EUCONTROL website\n",
    "perf_model_typecodes = get_perf_model_typecodes()\n",
    "## WARNING: THIS CAN GET YOUR IP ADDRESS BLOCKED IF YOU RUN IT REPEATEDLY. IT IS A WEB SCRAPER.\n",
    "aircraft_list = scrape_aircraft_list(perf_model_typecodes)\n",
    "\n",
    "\"\"\""
   ]
  },
  {
   "cell_type": "markdown",
   "id": "9e861cc1",
   "metadata": {},
   "source": [
    "Section 3. Process the aircraft performance and flight data, retaining only flights we have takeoff, landing, plane type, and aircraft performance model information about. Further, drop all flights with aircraft codes that do not correspond to a code in the ourairports registry."
   ]
  },
  {
   "cell_type": "code",
   "execution_count": null,
   "id": "2f1246e7",
   "metadata": {},
   "outputs": [
    {
     "name": "stdout",
     "output_type": "stream",
     "text": [
      "There are 3183 unique typecodes in the aircraft database.\n",
      "Saved result_df to /scratch/omg28/Data/aircraftdb/2024-01-01_to_2024-12-31_300000_typecodes_added.pkl\n"
     ]
    }
   ],
   "source": [
    "# process the loaded time period of data. - 20s\n",
    "# - matches 24 bit transponder codes from Feb 2025 aircraft metadata database with the ICAO typecode\n",
    "# - removes all flights for which the transponder code does not have a corresponding ICAO typecode\n",
    "# - removes all flights for which the takeoff OR landing airport is unknown\n",
    "flights_with_typecode = match_icao_model(start_time_str, stop_time_str, query_limit)\n"
   ]
  },
  {
   "cell_type": "code",
   "execution_count": 5,
   "id": "5c1e1312",
   "metadata": {},
   "outputs": [
    {
     "name": "stdout",
     "output_type": "stream",
     "text": [
      "Before merging:\n",
      "<class 'pandas.core.frame.DataFrame'>\n",
      "RangeIndex: 24461374 entries, 0 to 24461373\n",
      "Data columns (total 4 columns):\n",
      " #   Column               Dtype          \n",
      "---  ------               -----          \n",
      " 0   icao24               object         \n",
      " 1   estdepartureairport  string[pyarrow]\n",
      " 2   estarrivalairport    string[pyarrow]\n",
      " 3   typecode             object         \n",
      "dtypes: object(2), string[pyarrow](2)\n",
      "memory usage: 746.5+ MB\n",
      "None\n",
      "After merging:\n",
      "<class 'pandas.core.frame.DataFrame'>\n",
      "RangeIndex: 20257579 entries, 0 to 20257578\n",
      "Data columns (total 4 columns):\n",
      " #   Column               Dtype          \n",
      "---  ------               -----          \n",
      " 0   icao24               object         \n",
      " 1   estdepartureairport  string[pyarrow]\n",
      " 2   estarrivalairport    string[pyarrow]\n",
      " 3   typecode             object         \n",
      "dtypes: object(2), string[pyarrow](2)\n",
      "memory usage: 623.0+ MB\n",
      "None\n"
     ]
    }
   ],
   "source": [
    "# Load in the list of ICAO typecodes that have a performance model\n",
    "flights_with_typecode = pd.read_pickle('/scratch/omg28/Data/aircraftdb/2024-01-01_to_2024-12-31_300000.pkl')\n",
    "# load in the list of all flights with typecode aand takeoff/landing airport from 2024\n",
    "performance_model_typecodes = pd.read_pickle('/scratch/omg28/Data/aircraftdb/performance_models_typecodes.pkl')\n",
    "\n",
    "# get info before the merge\n",
    "print(\"Before merging:\")\n",
    "print(flights_with_typecode.info())\n",
    "\n",
    "# inner join the loaded year of data with the scraped aircraft list\n",
    "# - this will remove all flights for which the ICAO typecode does not have a corresponding performance model\n",
    "flights_with_perf_typecode = pd.merge(flights_with_typecode, performance_model_typecodes, how='inner', on = 'typecode')\n",
    "\n",
    "print(\"After merging:\")\n",
    "print(flights_with_perf_typecode.info())\n"
   ]
  },
  {
   "cell_type": "code",
   "execution_count": 9,
   "id": "a52546c2",
   "metadata": {},
   "outputs": [
    {
     "name": "stdout",
     "output_type": "stream",
     "text": [
      "Aircraft models with observed flights, but no performance model: 1177\n",
      "total flights in 2024 with TOLD and typecode, but no performance model: 4203795\n"
     ]
    }
   ],
   "source": [
    "# print a list of typecodes in complete_flights_perf_model that do not have a performance model\n",
    "missing_perf_models = flights_with_typecode[~flights_with_typecode['typecode'].isin(performance_model_typecodes['typecode'])]\n",
    "print(\"Aircraft models with observed flights, but no performance model: \" + str(len(missing_perf_models['typecode'].unique())))\n",
    "print(\"total flights in 2024 with TOLD and typecode, but no performance model: \" + str(len(missing_perf_models)))\n"
   ]
  },
  {
   "cell_type": "code",
   "execution_count": 10,
   "id": "37f6de27",
   "metadata": {},
   "outputs": [
    {
     "name": "stdout",
     "output_type": "stream",
     "text": [
      "Number of performance models with no flights: 89\n",
      "Number of flights with TOLD, typecode, and performance model: 20257579\n"
     ]
    }
   ],
   "source": [
    "\n",
    "# print a list of typecodes in performance_model_typecodes that do not correspond to a flight\n",
    "missing_flights = performance_model_typecodes[~performance_model_typecodes['typecode'].isin(flights_with_typecode['typecode'])]\n",
    "print(\"Number of performance models with no flights: \" + str(len(missing_flights['typecode'].unique())))\n",
    "print(\"Number of flights with TOLD, typecode, and performance model: \" + str(len(flights_with_perf_typecode)))\n"
   ]
  },
  {
   "cell_type": "code",
   "execution_count": 11,
   "id": "084d0508",
   "metadata": {},
   "outputs": [
    {
     "name": "stdout",
     "output_type": "stream",
     "text": [
      "Number of flights with no distance: 2744283\n",
      "Number of flights with TOLD, typecode, performance model, and nonzero distance: 20257579\n"
     ]
    }
   ],
   "source": [
    "# count all flights starting and ending at the same airport\n",
    "num_flights_no_dist = len(flights_with_perf_typecode[flights_with_perf_typecode['estdepartureairport'] == flights_with_perf_typecode['estarrivalairport']])\n",
    "print(\"Number of flights with no distance: \" + str(num_flights_no_dist))\n",
    "\n",
    "# remove all flights starting or ending at the same airport\n",
    "flights_with_perf_typecode_dist = flights_with_perf_typecode[flights_with_perf_typecode['estdepartureairport'] != flights_with_perf_typecode['estarrivalairport']]\n",
    "print(\"Number of flights with TOLD, typecode, performance model, and nonzero distance: \" + str(len(flights_with_perf_typecode)))\n"
   ]
  },
  {
   "cell_type": "code",
   "execution_count": null,
   "id": "ea67218e",
   "metadata": {},
   "outputs": [
    {
     "name": "stdout",
     "output_type": "stream",
     "text": [
      "Saved processed airports to /scratch/omg28/Data/airportdb/processed_airports.csv\n",
      "Number of flights with no departure airport location info in database: 294131\n",
      "Number of flights with no arrival airport location info in database: 427630\n",
      "Number of flights with TOLD, typecode, performance model, distance, and departure/arrival airport info: 16791535\n"
     ]
    }
   ],
   "source": [
    "# load the takeoff and landing airport location information to the dataframe.\n",
    "all_airports = process_airport_list()\n",
    "\n",
    "# add the estimated departure airport location information to the dataframe\n",
    "# - this will remove all flights for which the departure airport is unknown\n",
    "flights_with_perf_typecode_dist_dep = pd.merge(flights_with_perf_typecode_dist, all_airports, how='inner', left_on = 'estdepartureairport', right_on = 'ident')\n",
    "flights_with_perf_typecode_dist_dep.rename(columns = {'latitude_deg': 'estdeparturelat', 'longitude_deg': 'estdeparturelong', 'elevation_ft': 'estdeparturealt_ft'}, inplace=True)\n",
    "flights_with_perf_typecode_dist_dep.drop(columns = ['ident', 'gps_code'], inplace=True)\n",
    "# count the number of flights with no departure airport in the database\n",
    "print(\"Number of flights with no departure airport location info in database: \" + str(len(flights_with_perf_typecode_dist) - len(flights_with_perf_typecode_dist_dep)))\n",
    "\n",
    "# add the estimated arrival airport location information to the dataframe\n",
    "all_flights_filtered = pd.merge(flights_with_perf_typecode_dist_dep, all_airports, how='inner', left_on = 'estarrivalairport', right_on = 'ident')\n",
    "all_flights_filtered.rename(columns = {'latitude_deg': 'estarrivallat', 'longitude_deg': 'estarrivallong', 'elevation_ft': 'estarrivalalt_ft'}, inplace=True)\n",
    "all_flights_filtered.drop(columns = ['ident', 'gps_code', 'id_x', 'id_y'], inplace=True)\n",
    "# count the number of flights with no arrival airport in the database\n",
    "print(\"Number of flights with no arrival airport location info in database: \" + str(len(flights_with_perf_typecode_dist_dep) - len(all_flights_filtered)))\n",
    "print(\"Number of flights with TOLD, typecode, performance model, distance, and departure/arrival airport info: \" + str(len(all_flights_filtered)))\n"
   ]
  },
  {
   "cell_type": "markdown",
   "id": "6c8a321c",
   "metadata": {},
   "source": [
    "Section 4. Using the great circle distance, calculate the distance between the airport takeoff and landing."
   ]
  },
  {
   "cell_type": "code",
   "execution_count": 25,
   "id": "4dfd02fa",
   "metadata": {},
   "outputs": [],
   "source": [
    "# calculate the great circle distance between the departure and arrival airports - 4 min\n",
    "all_flights_filtered['gc_km'] = all_flights_filtered.apply(lambda x: distance.great_circle((x['estdeparturelat'], x['estdeparturelong']), (x['estarrivallat'], x['estarrivallong'])).km, axis=1)\n",
    "# adjust great circle distance using eq. 6 of seymour, et al (2020)\n",
    "# all_flights_filtered = pd.read_pickle(f'/scratch/omg28/Data/no_track_2024/{start_time_simple}_to_{stop_time_simple}_filtered.pkl')"
   ]
  },
  {
   "cell_type": "code",
   "execution_count": null,
   "id": "f2460b5c",
   "metadata": {},
   "outputs": [],
   "source": [
    "# could be sped up by using a vectorized function # 1 min\n",
    "all_flights_filtered['gc_FEAT_km'] = all_flights_filtered.apply(lambda x: 1.0387 * x['gc_km'] + 40.5, axis = 1)"
   ]
  },
  {
   "cell_type": "code",
   "execution_count": 28,
   "id": "a86196f8",
   "metadata": {},
   "outputs": [],
   "source": [
    "# save the merged dataframe to a .pkl file\n",
    "all_flights_filtered.to_pickle(f'/scratch/omg28/Data/no_track2024/{start_time_simple}_to_{stop_time_simple}_filtered.pkl')"
   ]
  },
  {
   "cell_type": "code",
   "execution_count": 30,
   "id": "60978186",
   "metadata": {},
   "outputs": [
    {
     "name": "stdout",
     "output_type": "stream",
     "text": [
      "<class 'pandas.core.frame.DataFrame'>\n",
      "RangeIndex: 16791535 entries, 0 to 16791534\n",
      "Data columns (total 12 columns):\n",
      " #   Column               Dtype  \n",
      "---  ------               -----  \n",
      " 0   icao24               object \n",
      " 1   estdepartureairport  object \n",
      " 2   estarrivalairport    object \n",
      " 3   typecode             object \n",
      " 4   estdeparturelat      float64\n",
      " 5   estdeparturelong     float64\n",
      " 6   estdeparturealt_ft   float64\n",
      " 7   estarrivallat        float64\n",
      " 8   estarrivallong       float64\n",
      " 9   estarrivalalt_ft     float64\n",
      " 10  gc_km                float64\n",
      " 11  gc_FEAT_km           float64\n",
      "dtypes: float64(8), object(4)\n",
      "memory usage: 1.5+ GB\n",
      "None\n",
      "   icao24 estdepartureairport estarrivalairport typecode  estdeparturelat  \\\n",
      "0  a01f01                KPIE              KPTK     C680        27.910200   \n",
      "1  a08174                GA20              KCRG     C182        30.811100   \n",
      "2  a08174                KCRG              K09J     C182        30.336300   \n",
      "3  a146f9                KBOS              KEWR     B752        42.361970   \n",
      "4  a146f9                KSFO              KBOS     B752        37.619806   \n",
      "\n",
      "   estdeparturelong  estdeparturealt_ft  estarrivallat  estarrivallong  \\\n",
      "0        -82.687401                11.0      42.665501      -83.420097   \n",
      "1        -81.462799                28.0      30.336300      -81.514397   \n",
      "2        -81.514397                41.0      31.074499      -81.427803   \n",
      "3        -71.007900                20.0      40.692501      -74.168701   \n",
      "4       -122.374821                13.0      42.361970      -71.007900   \n",
      "\n",
      "   estarrivalalt_ft        gc_km   gc_FEAT_km  \n",
      "0             980.0  1642.045395  1746.092552  \n",
      "1              41.0    53.026024    95.578131  \n",
      "2              11.0    82.500540   126.193311  \n",
      "3              18.0   321.977832   374.938374  \n",
      "4              20.0  4341.028217  4549.526009  \n"
     ]
    }
   ],
   "source": [
    "print(all_flights_filtered.info())\n",
    "print(all_flights_filtered.head())"
   ]
  },
  {
   "cell_type": "code",
   "execution_count": 32,
   "id": "e8311208",
   "metadata": {},
   "outputs": [
    {
     "name": "stdout",
     "output_type": "stream",
     "text": [
      "Number of flights with TOLD, typecode, performance model, distance, and departure/arrival airport info over 200 km: 14021999\n"
     ]
    }
   ],
   "source": [
    "# remove all flights under 200 km:\n",
    "all_flights_filtered = all_flights_filtered[all_flights_filtered['gc_FEAT_km'] > 200]\n",
    "print(\"Number of flights with TOLD, typecode, performance model, distance, and departure/arrival airport info over 200 km: \" + str(len(all_flights_filtered)))"
   ]
  },
  {
   "cell_type": "markdown",
   "id": "ae1e1dfa",
   "metadata": {},
   "source": [
    "Section 5: generate flight profiles using openAP for flight database"
   ]
  }
 ],
 "metadata": {
  "kernelspec": {
   "display_name": "traffic",
   "language": "python",
   "name": "python3"
  },
  "language_info": {
   "codemirror_mode": {
    "name": "ipython",
    "version": 3
   },
   "file_extension": ".py",
   "mimetype": "text/x-python",
   "name": "python",
   "nbconvert_exporter": "python",
   "pygments_lexer": "ipython3",
   "version": "3.12.9"
  }
 },
 "nbformat": 4,
 "nbformat_minor": 5
}
