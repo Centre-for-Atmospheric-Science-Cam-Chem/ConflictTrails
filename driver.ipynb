{
 "cells": [
  {
   "cell_type": "code",
   "execution_count": 1,
   "id": "7a396014",
   "metadata": {},
   "outputs": [],
   "source": [
    "from download_day import download_day\n",
    "from load_saved_fd4 import load_saved_fd4\n",
    "from scrape_aircraft_list import scrape_aircraft_list\n",
    "from get_perf_model_typecodes import get_perf_model_typecodes \n",
    "from match_icao_model import match_icao_model\n",
    "from process_airport_list import process_airport_list\n",
    "from generate_flightpath import generate_flightpath\n",
    "from plot_flightpaths import plot_flightpaths\n",
    "from get_engine_data import get_engine_data\n",
    "from perf_model_powerplant_parser import perf_model_powerplant_parser\n",
    "import pandas as pd\n",
    "import numpy as np\n",
    "from time import sleep\n",
    "from geopy import distance\n",
    "from icet import icet\n",
    "\n"
   ]
  },
  {
   "cell_type": "code",
   "execution_count": 2,
   "id": "7d44abb7",
   "metadata": {},
   "outputs": [],
   "source": [
    "# User Inputs:\n",
    "start_time_str       = '2024-01-01T00:00:00Z'\n",
    "stop_time_str        = '2024-12-31T23:59:59Z'\n",
    "query_limit          = 30e4\n",
    "send_notification    = True\n",
    "make_plot            = False\n",
    "output_dir           = \"/scratch/omg28/Data/no_track_2024\"\n",
    "\n",
    "# Convert start and stop times to datetime objects\n",
    "start_time_simple = pd.to_datetime(start_time_str).strftime(\"%Y-%m-%d\")\n",
    "stop_time_simple = pd.to_datetime(stop_time_str).strftime(\"%Y-%m-%d\")"
   ]
  },
  {
   "cell_type": "markdown",
   "id": "3e008886",
   "metadata": {},
   "source": [
    "Section 1. Download flight information from Opensky"
   ]
  },
  {
   "cell_type": "code",
   "execution_count": null,
   "id": "e278aa53",
   "metadata": {},
   "outputs": [],
   "source": [
    "\"\"\"\n",
    "# Download data from OpenSky history database\n",
    "# WARNING: This may take a long time to run and will use a lot of disk space. Recommend running this in a .py script to avoid recurring memory issues found in Jupyter notebooks.\n",
    "download_day(start_time_str, stop_time_str, query_limit, send_notification, make_plot, output_dir)\n",
    "\"\"\""
   ]
  },
  {
   "cell_type": "code",
   "execution_count": null,
   "id": "45bcd15c",
   "metadata": {},
   "outputs": [],
   "source": [
    "# load the saved day of data from a .pkl file to a pandas dataframe\n",
    "loaded_day = load_saved_fd4(stop_time_str, output_dir, query_limit)"
   ]
  },
  {
   "cell_type": "markdown",
   "id": "52c13875",
   "metadata": {},
   "source": [
    "Section 2. Scrape the EUCONTROL database for aircraft flight performance information"
   ]
  },
  {
   "cell_type": "code",
   "execution_count": null,
   "id": "2901b6f0",
   "metadata": {},
   "outputs": [],
   "source": [
    "\"\"\"\n",
    "# scrape the list of aircraft with performance models from the EUCONTROL website\n",
    "perf_model_typecodes = get_perf_model_typecodes()\n",
    "## WARNING: THIS CAN GET YOUR IP ADDRESS BLOCKED IF YOU RUN IT REPEATEDLY. IT IS A WEB SCRAPER.\n",
    "aircraft_list = scrape_aircraft_list(perf_model_typecodes)\n",
    "\n",
    "\"\"\""
   ]
  },
  {
   "cell_type": "code",
   "execution_count": null,
   "id": "c392ba66",
   "metadata": {},
   "outputs": [],
   "source": [
    "# remove the helicopters from the aircraft performance database list\n",
    "perf_models = pd.read_csv(\"aircraft_performance_table.csv\")\n",
    "perf_models = perf_models[~perf_models['type'].str.contains('H')]\n",
    "perf_models.to_csv(\"aircraft_performance_table_filtered.csv\", index=False)\n",
    "pd.to_pickle(perf_models, \"aircraft_performance_table_filtered.pkl\")\n"
   ]
  },
  {
   "cell_type": "markdown",
   "id": "9e861cc1",
   "metadata": {},
   "source": [
    "Section 3. Process the aircraft performance and flight data, retaining only flights we have takeoff, landing, plane type, and aircraft performance model information about. Further, drop all flights with aircraft codes that do not correspond to a code in the ourairports registry."
   ]
  },
  {
   "cell_type": "code",
   "execution_count": null,
   "id": "2f1246e7",
   "metadata": {},
   "outputs": [],
   "source": [
    "# process the loaded time period of data. - 20s\n",
    "# - matches 24 bit transponder codes from Feb 2025 aircraft metadata database with the ICAO typecode\n",
    "# - removes all flights for which the transponder code does not have a corresponding ICAO typecode\n",
    "# - removes all flights for which the takeoff OR landing airport is unknown\n",
    "flights_with_typecode = match_icao_model(start_time_str, stop_time_str, query_limit)\n"
   ]
  },
  {
   "cell_type": "code",
   "execution_count": null,
   "id": "5c1e1312",
   "metadata": {},
   "outputs": [],
   "source": [
    "# Load in the list of ICAO typecodes that have a performance model\n",
    "flights_with_typecode = pd.read_pickle('/scratch/omg28/Data/aircraftdb/2024-01-01_to_2024-12-31_300000.pkl')\n",
    "# load in the list of all flights with typecode aand takeoff/landing airport from 2024\n",
    "performance_model_typecodes = pd.read_pickle('/scratch/omg28/Data/aircraftdb/performance_models_typecodes.pkl')\n",
    "\n",
    "\n",
    "# get info before the merge\n",
    "print(\"Before merging:\")\n",
    "print(flights_with_typecode.info())\n",
    "\n",
    "# inner join the loaded year of data with the scraped aircraft list\n",
    "# - this will remove all flights for which the ICAO typecode does not have a corresponding performance model\n",
    "flights_with_perf_typecode = pd.merge(flights_with_typecode, performance_model_typecodes, how='inner', on = 'typecode')\n",
    "\n",
    "print(\"After merging:\")\n",
    "print(flights_with_perf_typecode.info())\n"
   ]
  },
  {
   "cell_type": "code",
   "execution_count": null,
   "id": "a52546c2",
   "metadata": {},
   "outputs": [],
   "source": [
    "# print a list of typecodes in complete_flights_perf_model that do not have a performance model\n",
    "missing_perf_models = flights_with_typecode[~flights_with_typecode['typecode'].isin(performance_model_typecodes['typecode'])]\n",
    "print(\"Aircraft models with observed flights, but no performance model: \" + str(len(missing_perf_models['typecode'].unique())))\n",
    "print(\"total flights in 2024 with TOLD and typecode, but no performance model: \" + str(len(missing_perf_models)))\n"
   ]
  },
  {
   "cell_type": "code",
   "execution_count": null,
   "id": "37f6de27",
   "metadata": {},
   "outputs": [],
   "source": [
    "\n",
    "# print a list of typecodes in performance_model_typecodes that do not correspond to a flight\n",
    "missing_flights = performance_model_typecodes[~performance_model_typecodes['typecode'].isin(flights_with_typecode['typecode'])]\n",
    "print(\"Number of performance models with no flights: \" + str(len(missing_flights['typecode'].unique())))\n",
    "print(\"Number of flights with TOLD, typecode, and performance model: \" + str(len(flights_with_perf_typecode)))\n"
   ]
  },
  {
   "cell_type": "code",
   "execution_count": null,
   "id": "084d0508",
   "metadata": {},
   "outputs": [],
   "source": [
    "# count all flights starting and ending at the same airport\n",
    "num_flights_no_dist = len(flights_with_perf_typecode[flights_with_perf_typecode['estdepartureairport'] == flights_with_perf_typecode['estarrivalairport']])\n",
    "print(\"Number of flights with no distance: \" + str(num_flights_no_dist))\n",
    "\n",
    "# remove all flights starting or ending at the same airport\n",
    "flights_with_perf_typecode_dist = flights_with_perf_typecode[flights_with_perf_typecode['estdepartureairport'] != flights_with_perf_typecode['estarrivalairport']]\n",
    "print(\"Number of flights with TOLD, typecode, performance model, and nonzero distance: \" + str(len(flights_with_perf_typecode)))\n"
   ]
  },
  {
   "cell_type": "code",
   "execution_count": null,
   "id": "ea67218e",
   "metadata": {},
   "outputs": [],
   "source": [
    "# load the takeoff and landing airport location information to the dataframe.\n",
    "all_airports = process_airport_list()\n",
    "\n",
    "# add the estimated departure airport location information to the dataframe\n",
    "# - this will remove all flights for which the departure airport is unknown\n",
    "flights_with_perf_typecode_dist_dep = pd.merge(flights_with_perf_typecode_dist, all_airports, how='inner', left_on = 'estdepartureairport', right_on = 'ident')\n",
    "flights_with_perf_typecode_dist_dep.rename(columns = {'latitude_deg': 'estdeparturelat', 'longitude_deg': 'estdeparturelong', 'elevation_ft': 'estdeparturealt_ft'}, inplace=True)\n",
    "flights_with_perf_typecode_dist_dep.drop(columns = ['ident', 'gps_code'], inplace=True)\n",
    "# count the number of flights with no departure airport in the database\n",
    "print(\"Number of flights with no departure airport location info in database: \" + str(len(flights_with_perf_typecode_dist) - len(flights_with_perf_typecode_dist_dep)))\n",
    "\n",
    "# add the estimated arrival airport location information to the dataframe\n",
    "all_flights_filtered = pd.merge(flights_with_perf_typecode_dist_dep, all_airports, how='inner', left_on = 'estarrivalairport', right_on = 'ident')\n",
    "all_flights_filtered.rename(columns = {'latitude_deg': 'estarrivallat', 'longitude_deg': 'estarrivallong', 'elevation_ft': 'estarrivalalt_ft'}, inplace=True)\n",
    "all_flights_filtered.drop(columns = ['ident', 'gps_code', 'id_x', 'id_y'], inplace=True)\n",
    "# count the number of flights with no arrival airport in the database\n",
    "print(\"Number of flights with no arrival airport location info in database: \" + str(len(flights_with_perf_typecode_dist_dep) - len(all_flights_filtered)))\n",
    "print(\"Number of flights with TOLD, typecode, performance model, distance, and departure/arrival airport info: \" + str(len(all_flights_filtered)))\n"
   ]
  },
  {
   "cell_type": "markdown",
   "id": "6c8a321c",
   "metadata": {},
   "source": [
    "Section 4. Using the great circle distance, calculate the distance between the airport takeoff and landing."
   ]
  },
  {
   "cell_type": "code",
   "execution_count": null,
   "id": "4dfd02fa",
   "metadata": {},
   "outputs": [],
   "source": [
    "# calculate the great circle distance between the departure and arrival airports - 4 min\n",
    "all_flights_filtered['gc_km'] = all_flights_filtered.apply(lambda x: distance.great_circle((x['estdeparturelat'], x['estdeparturelong']), (x['estarrivallat'], x['estarrivallong'])).km, axis=1)\n",
    "# adjust great circle distance using eq. 6 of seymour, et al (2020)\n",
    "# all_flights_filtered = pd.read_pickle(f'/scratch/omg28/Data/no_track_2024/{start_time_simple}_to_{stop_time_simple}_filtered.pkl')"
   ]
  },
  {
   "cell_type": "code",
   "execution_count": null,
   "id": "f2460b5c",
   "metadata": {},
   "outputs": [],
   "source": [
    "# could be sped up by using a vectorized function # 1 min\n",
    "all_flights_filtered['gc_FEAT_km'] = all_flights_filtered.apply(lambda x: 1.0387 * x['gc_km'] + 40.5, axis = 1)"
   ]
  },
  {
   "cell_type": "code",
   "execution_count": null,
   "id": "a86196f8",
   "metadata": {},
   "outputs": [],
   "source": [
    "# save the merged dataframe to a .pkl file\n",
    "all_flights_filtered.to_pickle(f'/scratch/omg28/Data/no_track2024/{start_time_simple}_to_{stop_time_simple}_filtered.pkl')"
   ]
  },
  {
   "cell_type": "code",
   "execution_count": null,
   "id": "60978186",
   "metadata": {},
   "outputs": [],
   "source": [
    "print(all_flights_filtered.info())\n",
    "print(all_flights_filtered.head())"
   ]
  },
  {
   "cell_type": "code",
   "execution_count": null,
   "id": "e8311208",
   "metadata": {},
   "outputs": [],
   "source": [
    "# remove all flights under 200 km:\n",
    "all_flights_filtered = all_flights_filtered[all_flights_filtered['gc_FEAT_km'] > 200]\n",
    "print(\"Number of flights with TOLD, typecode, performance model, distance, and departure/arrival airport info over 200 km: \" + str(len(all_flights_filtered)))"
   ]
  },
  {
   "cell_type": "markdown",
   "id": "ae1e1dfa",
   "metadata": {},
   "source": [
    "Section 5: generate and visualize flightpaths"
   ]
  },
  {
   "cell_type": "code",
   "execution_count": null,
   "metadata": {},
   "outputs": [],
   "source": [
    "performance_data=pd.read_pickle('aircraft_performance_data_table.pkl')\n",
    "flightpath = generate_flightpath('A320', 500, performance_data)"
   ]
  },
  {
   "cell_type": "code",
   "execution_count": null,
   "id": "b5ae35c7",
   "metadata": {},
   "outputs": [],
   "source": [
    "import matplotlib.pyplot as plt\n",
    "\n",
    "# Sum durations from the flightpath dictionary for each phase\n",
    "climb_time = (flightpath['climb'].get('t_climb_0_5', 0) +\n",
    "              flightpath['climb'].get('t_climb_5_10', 0) +\n",
    "              flightpath['climb'].get('t_climb_10_15', 0) +\n",
    "              flightpath['climb'].get('t_climb_15_24', 0) +\n",
    "              flightpath['climb'].get('t_climb_ceil', 0))\n",
    "\n",
    "descent_time = (flightpath['descent'].get('t_descent_5_0', 0) +\n",
    "                flightpath['descent'].get('t_descent_10_5', 0) +\n",
    "                flightpath['descent'].get('t_descent_15_10', 0) +\n",
    "                flightpath['descent'].get('t_descent_24_15', 0) +\n",
    "                flightpath['descent'].get('t_descent_ceil', 0))\n",
    "\n",
    "cruise_time = flightpath['cruise'].get('t_cruise', 0)\n",
    "\n",
    "# Prepare data for the barchart\n",
    "phases = ['Climb', 'Cruise', 'Descent']\n",
    "durations = [climb_time, cruise_time, descent_time]\n",
    "\n",
    "# Optionally convert seconds to minutes (or leave in seconds)\n",
    "# durations = [t / 60.0 for t in durations]\n",
    "\n",
    "plt.figure()\n",
    "bars = plt.bar(phases, durations, color=['skyblue', 'lightgreen', 'salmon'])\n",
    "plt.xlabel('Flight Phases')\n",
    "plt.ylabel('Duration (seconds)')\n",
    "plt.title('Duration of Each Flight Leg')\n",
    "\n",
    "# Annotate bars with duration values\n",
    "for bar, duration in zip(bars, durations):\n",
    "    height = bar.get_height()\n",
    "    plt.text(bar.get_x() + bar.get_width()/2, height,\n",
    "             f'{duration:.0f}', ha='center', va='bottom')\n",
    "\n",
    "plt.tight_layout()\n",
    "plt.show()\n",
    "# Break down the climb phases\n",
    "climb_labels = ['Climb 0-5', 'Climb 5-10', 'Climb 10-15', 'Climb 15-24', 'Climb Ceil']\n",
    "climb_times = [\n",
    "    flightpath['climb'].get('t_climb_0_5', 0),\n",
    "    flightpath['climb'].get('t_climb_5_10', 0),\n",
    "    flightpath['climb'].get('t_climb_10_15', 0),\n",
    "    flightpath['climb'].get('t_climb_15_24', 0),\n",
    "    flightpath['climb'].get('t_climb_ceil', 0)\n",
    "]\n",
    "\n",
    "# Break down the descent phases\n",
    "descent_labels = ['Descent 5-0', 'Descent 10-5', 'Descent 15-10', 'Descent 24-15', 'Descent Ceil']\n",
    "descent_times = [\n",
    "    flightpath['descent'].get('t_descent_5_0', 0),\n",
    "    flightpath['descent'].get('t_descent_10_5', 0),\n",
    "    flightpath['descent'].get('t_descent_15_10', 0),\n",
    "    flightpath['descent'].get('t_descent_24_15', 0),\n",
    "    flightpath['descent'].get('t_descent_ceil', 0)\n",
    "]\n",
    "\n",
    "import matplotlib.pyplot as plt\n",
    "\n",
    "plt.figure(figsize=(14, 6))\n",
    "\n",
    "# Climb segments chart\n",
    "plt.subplot(1, 2, 1)\n",
    "bars_climb = plt.bar(climb_labels, climb_times, color='skyblue')\n",
    "plt.xlabel('Climb Segments')\n",
    "plt.ylabel('Time (seconds)')\n",
    "plt.title('Climb Phase Breakdown')\n",
    "for bar, t in zip(bars_climb, climb_times):\n",
    "    plt.text(bar.get_x() + bar.get_width()/2, bar.get_height(), f'{t:.1f}', ha='center', va='bottom')\n",
    "\n",
    "# Descent segments chart\n",
    "plt.subplot(1, 2, 2)\n",
    "bars_descent = plt.bar(descent_labels, descent_times, color='salmon')\n",
    "plt.xlabel('Descent Segments')\n",
    "plt.ylabel('Time (seconds)')\n",
    "plt.title('Descent Phase Breakdown')\n",
    "for bar, t in zip(bars_descent, descent_times):\n",
    "    plt.text(bar.get_x() + bar.get_width()/2, bar.get_height(), f'{t:.1f}', ha='center', va='bottom')\n",
    "\n",
    "plt.tight_layout()\n",
    "plt.show()\n"
   ]
  },
  {
   "cell_type": "code",
   "execution_count": null,
   "id": "7b0ef7ec",
   "metadata": {},
   "outputs": [],
   "source": [
    "import numpy as np\n",
    "\n",
    "import matplotlib.pyplot as plt\n",
    "\n",
    "# Overall phase distances (in meters)\n",
    "climb_distance = (np.atleast_1d(flightpath['climb'].get('s_climb_0_5', 0))[0] +\n",
    "                  np.atleast_1d(flightpath['climb'].get('s_climb_5_10', 0))[0] +\n",
    "                  np.atleast_1d(flightpath['climb'].get('s_climb_10_15', 0))[0] +\n",
    "                  np.atleast_1d(flightpath['climb'].get('s_climb_15_24', 0))[0] +\n",
    "                  np.atleast_1d(flightpath['climb'].get('s_climb_ceil', 0))[0])\n",
    "\n",
    "cruise_distance = np.atleast_1d(flightpath['cruise'].get('s_cruise', 0))[0]\n",
    "\n",
    "descent_distance = (np.atleast_1d(flightpath['descent'].get('s_descent_5_0', 0))[0] +\n",
    "                    np.atleast_1d(flightpath['descent'].get('s_descent_10_5', 0))[0] +\n",
    "                    np.atleast_1d(flightpath['descent'].get('s_descent_15_10', 0))[0] +\n",
    "                    np.atleast_1d(flightpath['descent'].get('s_descent_24_15', 0))[0] +\n",
    "                    np.atleast_1d(flightpath['descent'].get('s_descent_ceil', 0))[0])\n",
    "\n",
    "phases = ['Climb', 'Cruise', 'Descent']\n",
    "distances = [climb_distance, cruise_distance, descent_distance]\n",
    "\n",
    "plt.figure(figsize=(8, 6))\n",
    "overall_bars = plt.bar(phases, distances, color=['skyblue', 'lightgreen', 'salmon'])\n",
    "plt.xlabel('Flight Phases')\n",
    "plt.ylabel('Distance (meters)')\n",
    "plt.title('Distance Covered in Each Flight Phase')\n",
    "\n",
    "# Annotate overall bars with distance values\n",
    "for bar, dist in zip(overall_bars, distances):\n",
    "    height = bar.get_height()\n",
    "    plt.text(bar.get_x() + bar.get_width()/2, height, f'{dist:,.0f}', ha='center', va='bottom')\n",
    "\n",
    "plt.tight_layout()\n",
    "plt.show()\n",
    "\n",
    "\n",
    "# Breakdown of distances for each segment\n",
    "\n",
    "# For Climb Phase\n",
    "climb_keys = ['s_climb_0_5', 's_climb_5_10', 's_climb_10_15', 's_climb_15_24', 's_climb_ceil']\n",
    "climb_distances = []\n",
    "for key in climb_keys:\n",
    "    value = flightpath['climb'].get(key, np.array([0]))\n",
    "    # value is expected to be a numpy array; extract its first element if so\n",
    "    if isinstance(value, np.ndarray):\n",
    "        climb_distances.append(value[0])\n",
    "    else:\n",
    "        climb_distances.append(value)\n",
    "\n",
    "# For Descent Phase\n",
    "descent_keys = ['s_descent_5_0', 's_descent_10_5', 's_descent_15_10', 's_descent_24_15', 's_descent_ceil']\n",
    "descent_distances = []\n",
    "for key in descent_keys:\n",
    "    value = flightpath['descent'].get(key, np.array([0]))\n",
    "    if isinstance(value, np.ndarray):\n",
    "        descent_distances.append(value[0])\n",
    "    else:\n",
    "        descent_distances.append(value)\n",
    "\n",
    "plt.figure(figsize=(14, 6))\n",
    "\n",
    "# Climb segments chart\n",
    "plt.subplot(1, 2, 1)\n",
    "bars_climb = plt.bar(climb_labels, climb_distances, color='skyblue')\n",
    "plt.xlabel('Climb Segments')\n",
    "plt.ylabel('Distance (meters)')\n",
    "plt.title('Climb Phase Distance Breakdown')\n",
    "for bar, d in zip(bars_climb, climb_distances):\n",
    "    plt.text(bar.get_x() + bar.get_width()/2, bar.get_height(), f'{d:,.0f}', ha='center', va='bottom')\n",
    "\n",
    "# Descent segments chart\n",
    "plt.subplot(1, 2, 2)\n",
    "bars_descent = plt.bar(descent_labels, descent_distances, color='salmon')\n",
    "plt.xlabel('Descent Segments')\n",
    "plt.ylabel('Distance (meters)')\n",
    "plt.title('Descent Phase Distance Breakdown')\n",
    "for bar, d in zip(bars_descent, descent_distances):\n",
    "    plt.text(bar.get_x() + bar.get_width()/2, bar.get_height(), f'{d:,.0f}', ha='center', va='bottom')\n",
    "\n",
    "plt.tight_layout()\n",
    "plt.show()\n"
   ]
  },
  {
   "cell_type": "code",
   "execution_count": null,
   "id": "b49eca93",
   "metadata": {},
   "outputs": [],
   "source": [
    "# Build cumulative distance and altitude lists.\n",
    "# Starting at runway: (distance, altitude) = (0, 0)\n",
    "distances_list = [0]\n",
    "altitudes_list = [0]\n",
    "\n",
    "# Climb phase:\n",
    "# First climb segment (0-5):\n",
    "cum_distance = distances_list[-1]\n",
    "for key in flightpath:\n",
    "    for key2 in flightpath[key]:\n",
    "        if key2.startswith('s_'):\n",
    "            cum_distance += flightpath[key][key2]\n",
    "            distances_list.append(cum_distance)\n",
    "            altitudes_list.append(flightpath[key][f'{key2.replace('s_', 'h_')}_end'])\n",
    "\n",
    "# Plot the altitude profile vs. cumulative flight distance.\n",
    "plt.figure(figsize=(10, 6))\n",
    "plt.plot(distances_list, altitudes_list, marker='o', linestyle='-')\n",
    "plt.xlabel('Cumulative Flight Distance (meters)')\n",
    "plt.ylabel('Flight Altitude (meters)')\n",
    "plt.title('Flight Altitude vs. Flight Distance')\n",
    "plt.grid(True)\n",
    "plt.show()"
   ]
  },
  {
   "cell_type": "code",
   "execution_count": null,
   "id": "2295e68d",
   "metadata": {},
   "outputs": [],
   "source": [
    "import numpy as np\n",
    "import matplotlib.pyplot as plt\n",
    "\n",
    "# Generate 25 flight distances (km) linearly spaced from 200 to 5000 km.\n",
    "num_flightpaths = 25\n",
    "flight_distances = np.linspace(200, 1000, num_flightpaths)\n",
    "flightpaths = [0] * num_flightpaths\n",
    " \n",
    "# Loop through each flight distance and generate the flightpath.\n",
    "for ii in np.arange(num_flightpaths):\n",
    "    d_km = flight_distances[ii] \n",
    "    # Generate flightpath for a given flight distance (in km)\n",
    "    fp = generate_flightpath('C130', d_km, performance_data)\n",
    "    flightpaths[ii] = fp\n",
    "plot_flightpaths(flightpaths)"
   ]
  },
  {
   "cell_type": "markdown",
   "id": "e303638c",
   "metadata": {},
   "source": [
    "Section 6: parse the engine data and emissions data and add it to the aircraft performance model."
   ]
  },
  {
   "cell_type": "code",
   "execution_count": 2,
   "id": "c5bb0935",
   "metadata": {},
   "outputs": [
    {
     "name": "stdout",
     "output_type": "stream",
     "text": [
      "Data loaded from /scratch/omg28/Data/engine_data/engine_data_icao.csv and saved to /scratch/omg28/Data/engine_data/engine_data_icao.pkl\n"
     ]
    }
   ],
   "source": [
    "engine_models = get_engine_data()"
   ]
  },
  {
   "cell_type": "code",
   "execution_count": 3,
   "id": "31ec4ae9",
   "metadata": {},
   "outputs": [],
   "source": [
    "performance_models = pd.read_csv(\"aircraft_performance_table_filtered.csv\")"
   ]
  },
  {
   "cell_type": "code",
   "execution_count": null,
   "id": "b27c34fd",
   "metadata": {},
   "outputs": [
    {
     "name": "stdout",
     "output_type": "stream",
     "text": [
      "None\n"
     ]
    }
   ],
   "source": [
    "performance_models = perf_model_powerplant_parser(performance_models)\n",
    "performance_models_debug = performance_model[['powerplant', 'number_of_engines', 'thrust', 'engine code', 'manufacturer']].copy()"
   ]
  }
 ],
 "metadata": {
  "kernelspec": {
   "display_name": "traffic",
   "language": "python",
   "name": "python3"
  },
  "language_info": {
   "codemirror_mode": {
    "name": "ipython",
    "version": 3
   },
   "file_extension": ".py",
   "mimetype": "text/x-python",
   "name": "python",
   "nbconvert_exporter": "python",
   "pygments_lexer": "ipython3",
   "version": "3.12.9"
  }
 },
 "nbformat": 4,
 "nbformat_minor": 5
}
