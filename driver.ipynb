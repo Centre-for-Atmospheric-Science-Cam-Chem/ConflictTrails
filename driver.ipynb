{
 "cells": [
  {
   "cell_type": "code",
   "execution_count": null,
   "id": "7a396014",
   "metadata": {},
   "outputs": [
    {
     "ename": "ModuleNotFoundError",
     "evalue": "No module named 'functions.match_icao_model'",
     "output_type": "error",
     "traceback": [
      "\u001b[31m---------------------------------------------------------------------------\u001b[39m",
      "\u001b[31mModuleNotFoundError\u001b[39m                       Traceback (most recent call last)",
      "\u001b[36mCell\u001b[39m\u001b[36m \u001b[39m\u001b[32mIn[13]\u001b[39m\u001b[32m, line 3\u001b[39m\n\u001b[32m      1\u001b[39m \u001b[38;5;28;01mfrom\u001b[39;00m\u001b[38;5;250m \u001b[39m\u001b[34;01mfunctions\u001b[39;00m\u001b[34;01m.\u001b[39;00m\u001b[34;01mdownload_day\u001b[39;00m\u001b[38;5;250m \u001b[39m\u001b[38;5;28;01mimport\u001b[39;00m download_day\n\u001b[32m      2\u001b[39m \u001b[38;5;28;01mfrom\u001b[39;00m\u001b[38;5;250m \u001b[39m\u001b[34;01mfunctions\u001b[39;00m\u001b[34;01m.\u001b[39;00m\u001b[34;01mload_saved_fd4\u001b[39;00m\u001b[38;5;250m \u001b[39m\u001b[38;5;28;01mimport\u001b[39;00m load_saved_fd4\n\u001b[32m----> \u001b[39m\u001b[32m3\u001b[39m \u001b[38;5;28;01mfrom\u001b[39;00m\u001b[38;5;250m \u001b[39m\u001b[34;01mfunctions\u001b[39;00m\u001b[34;01m.\u001b[39;00m\u001b[34;01mmatch_icao_model\u001b[39;00m\u001b[38;5;250m \u001b[39m\u001b[38;5;28;01mimport\u001b[39;00m match_icao_model\n\u001b[32m      4\u001b[39m \u001b[38;5;28;01mfrom\u001b[39;00m\u001b[38;5;250m \u001b[39m\u001b[34;01mfunctions\u001b[39;00m\u001b[34;01m.\u001b[39;00m\u001b[34;01mscrape_aircraft_list\u001b[39;00m\u001b[38;5;250m \u001b[39m\u001b[38;5;28;01mimport\u001b[39;00m scrape_aircraft_list\n",
      "\u001b[31mModuleNotFoundError\u001b[39m: No module named 'functions.match_icao_model'"
     ]
    }
   ],
   "source": [
    "from functions.download_day import download_day\n",
    "from functions.load_saved_fd4 import load_saved_fd4\n",
    "from functions.scrape_aircraft_list import scrape_aircraft_list\n",
    "from match_icao_model import match_icao_model"
   ]
  },
  {
   "cell_type": "code",
   "execution_count": 12,
   "id": "7d44abb7",
   "metadata": {},
   "outputs": [],
   "source": [
    "# User Inputs:\n",
    "start_time_str       = '2024-01-01T00:00:00Z'\n",
    "stop_time_str        = '2024-01-10T00:00:01Z'\n",
    "query_limit          = 30e4\n",
    "send_notification    = True\n",
    "make_plot            = False\n",
    "output_dir           = \"/scratch/omg28/Data/no_track2024\""
   ]
  },
  {
   "cell_type": "code",
   "execution_count": 9,
   "id": "e278aa53",
   "metadata": {},
   "outputs": [
    {
     "name": "stdout",
     "output_type": "stream",
     "text": [
      "SELECT icao24, estdepartureairport, estarrivalairport FROM flights_data4 \n",
      "                            WHERE day = 1704067200\n",
      "                            LIMIT 300000\n"
     ]
    },
    {
     "name": "stderr",
     "output_type": "stream",
     "text": [
      "/etc/timezone is deprecated on Debian, and no longer reliable. Ignoring.\n",
      "FINISHED: : 100% [00:00, 130%/s]   \n",
      "DOWNLOAD: 83.9klines [00:00, 857klines/s]\n"
     ]
    },
    {
     "name": "stdout",
     "output_type": "stream",
     "text": [
      "Saved result_df to /scratch/omg28/Data/no_track2024/result_df_2024-01-01_300000.pkl\n",
      "SELECT icao24, estdepartureairport, estarrivalairport FROM flights_data4 \n",
      "                            WHERE day = 1704153600\n",
      "                            LIMIT 300000\n"
     ]
    },
    {
     "name": "stderr",
     "output_type": "stream",
     "text": [
      "FINISHED: : 100% [00:00, 122%/s] \n",
      "DOWNLOAD: 101klines [00:00, 402klines/s]\n"
     ]
    },
    {
     "name": "stdout",
     "output_type": "stream",
     "text": [
      "Saved result_df to /scratch/omg28/Data/no_track2024/result_df_2024-01-02_300000.pkl\n",
      "SELECT icao24, estdepartureairport, estarrivalairport FROM flights_data4 \n",
      "                            WHERE day = 1704240000\n",
      "                            LIMIT 300000\n"
     ]
    },
    {
     "name": "stderr",
     "output_type": "stream",
     "text": [
      "FINISHED: : 100% [00:00, 124%/s]  \n",
      "DOWNLOAD: 104klines [00:00, 779klines/s]\n"
     ]
    },
    {
     "name": "stdout",
     "output_type": "stream",
     "text": [
      "Saved result_df to /scratch/omg28/Data/no_track2024/result_df_2024-01-03_300000.pkl\n",
      "SELECT icao24, estdepartureairport, estarrivalairport FROM flights_data4 \n",
      "                            WHERE day = 1704326400\n",
      "                            LIMIT 300000\n"
     ]
    },
    {
     "name": "stderr",
     "output_type": "stream",
     "text": [
      "FINISHED: : 100% [00:00, 127%/s]   \n",
      "DOWNLOAD: 105klines [00:00, 435klines/s]\n"
     ]
    },
    {
     "name": "stdout",
     "output_type": "stream",
     "text": [
      "Saved result_df to /scratch/omg28/Data/no_track2024/result_df_2024-01-04_300000.pkl\n",
      "SELECT icao24, estdepartureairport, estarrivalairport FROM flights_data4 \n",
      "                            WHERE day = 1704412800\n",
      "                            LIMIT 300000\n"
     ]
    },
    {
     "name": "stderr",
     "output_type": "stream",
     "text": [
      "FINISHED: : 100% [00:00, 112%/s]   \n",
      "DOWNLOAD: 110klines [00:00, 461klines/s]\n"
     ]
    },
    {
     "name": "stdout",
     "output_type": "stream",
     "text": [
      "Saved result_df to /scratch/omg28/Data/no_track2024/result_df_2024-01-05_300000.pkl\n",
      "SELECT icao24, estdepartureairport, estarrivalairport FROM flights_data4 \n",
      "                            WHERE day = 1704499200\n",
      "                            LIMIT 300000\n"
     ]
    },
    {
     "name": "stderr",
     "output_type": "stream",
     "text": [
      "FINISHED: : 100% [00:00, 141%/s]  \n",
      "DOWNLOAD: 91.9klines [00:00, 427klines/s]\n"
     ]
    },
    {
     "name": "stdout",
     "output_type": "stream",
     "text": [
      "Saved result_df to /scratch/omg28/Data/no_track2024/result_df_2024-01-06_300000.pkl\n",
      "SELECT icao24, estdepartureairport, estarrivalairport FROM flights_data4 \n",
      "                            WHERE day = 1704585600\n",
      "                            LIMIT 300000\n"
     ]
    },
    {
     "name": "stderr",
     "output_type": "stream",
     "text": [
      "FINISHED: : 100% [00:00, 119%/s] \n",
      "DOWNLOAD: 92.3klines [00:00, 1.18Mlines/s]\n"
     ]
    },
    {
     "name": "stdout",
     "output_type": "stream",
     "text": [
      "Saved result_df to /scratch/omg28/Data/no_track2024/result_df_2024-01-07_300000.pkl\n",
      "SELECT icao24, estdepartureairport, estarrivalairport FROM flights_data4 \n",
      "                            WHERE day = 1704672000\n",
      "                            LIMIT 300000\n"
     ]
    },
    {
     "name": "stderr",
     "output_type": "stream",
     "text": [
      "FINISHED: : 100% [00:00, 117%/s]   \n",
      "DOWNLOAD: 98.6klines [00:00, 422klines/s]\n"
     ]
    },
    {
     "name": "stdout",
     "output_type": "stream",
     "text": [
      "Saved result_df to /scratch/omg28/Data/no_track2024/result_df_2024-01-08_300000.pkl\n",
      "SELECT icao24, estdepartureairport, estarrivalairport FROM flights_data4 \n",
      "                            WHERE day = 1704758400\n",
      "                            LIMIT 300000\n"
     ]
    },
    {
     "name": "stderr",
     "output_type": "stream",
     "text": [
      "FINISHED: : 100% [00:00, 123%/s] \n",
      "DOWNLOAD: 87.4klines [00:00, 860klines/s]\n"
     ]
    },
    {
     "name": "stdout",
     "output_type": "stream",
     "text": [
      "Saved result_df to /scratch/omg28/Data/no_track2024/result_df_2024-01-09_300000.pkl\n",
      "SELECT icao24, estdepartureairport, estarrivalairport FROM flights_data4 \n",
      "                            WHERE day = 1704844800\n",
      "                            LIMIT 300000\n"
     ]
    },
    {
     "name": "stderr",
     "output_type": "stream",
     "text": [
      "FINISHED: : 100% [00:00, 114%/s]\n",
      "DOWNLOAD: 98.1klines [00:00, 403klines/s]"
     ]
    },
    {
     "name": "stdout",
     "output_type": "stream",
     "text": [
      "Saved result_df to /scratch/omg28/Data/no_track2024/result_df_2024-01-10_300000.pkl\n"
     ]
    },
    {
     "name": "stderr",
     "output_type": "stream",
     "text": [
      "\n"
     ]
    }
   ],
   "source": [
    "# Download data from OpenSky history database\n",
    "download_day(start_time_str, stop_time_str, query_limit, send_notification, make_plot, output_dir)"
   ]
  },
  {
   "cell_type": "code",
   "execution_count": null,
   "id": "45bcd15c",
   "metadata": {},
   "outputs": [
    {
     "data": {
      "text/html": [
       "<div>\n",
       "<style scoped>\n",
       "    .dataframe tbody tr th:only-of-type {\n",
       "        vertical-align: middle;\n",
       "    }\n",
       "\n",
       "    .dataframe tbody tr th {\n",
       "        vertical-align: top;\n",
       "    }\n",
       "\n",
       "    .dataframe thead th {\n",
       "        text-align: right;\n",
       "    }\n",
       "</style>\n",
       "<table border=\"1\" class=\"dataframe\">\n",
       "  <thead>\n",
       "    <tr style=\"text-align: right;\">\n",
       "      <th></th>\n",
       "      <th>icao24</th>\n",
       "      <th>estdepartureairport</th>\n",
       "      <th>estarrivalairport</th>\n",
       "    </tr>\n",
       "  </thead>\n",
       "  <tbody>\n",
       "    <tr>\n",
       "      <th>0</th>\n",
       "      <td>a105d2</td>\n",
       "      <td>KPHX</td>\n",
       "      <td>19AZ</td>\n",
       "    </tr>\n",
       "    <tr>\n",
       "      <th>1</th>\n",
       "      <td>a4322c</td>\n",
       "      <td>KORL</td>\n",
       "      <td>&lt;NA&gt;</td>\n",
       "    </tr>\n",
       "    <tr>\n",
       "      <th>2</th>\n",
       "      <td>a47d69</td>\n",
       "      <td>KLAX</td>\n",
       "      <td>&lt;NA&gt;</td>\n",
       "    </tr>\n",
       "    <tr>\n",
       "      <th>3</th>\n",
       "      <td>a3b124</td>\n",
       "      <td>KJFK</td>\n",
       "      <td>KORF</td>\n",
       "    </tr>\n",
       "    <tr>\n",
       "      <th>4</th>\n",
       "      <td>a3cf6d</td>\n",
       "      <td>KEWR</td>\n",
       "      <td>&lt;NA&gt;</td>\n",
       "    </tr>\n",
       "    <tr>\n",
       "      <th>...</th>\n",
       "      <td>...</td>\n",
       "      <td>...</td>\n",
       "      <td>...</td>\n",
       "    </tr>\n",
       "    <tr>\n",
       "      <th>48129</th>\n",
       "      <td>a327a1</td>\n",
       "      <td>KICT</td>\n",
       "      <td>KIAD</td>\n",
       "    </tr>\n",
       "    <tr>\n",
       "      <th>48130</th>\n",
       "      <td>a339b1</td>\n",
       "      <td>KLGA</td>\n",
       "      <td>KBOS</td>\n",
       "    </tr>\n",
       "    <tr>\n",
       "      <th>48131</th>\n",
       "      <td>a339b1</td>\n",
       "      <td>KBOS</td>\n",
       "      <td>KLGA</td>\n",
       "    </tr>\n",
       "    <tr>\n",
       "      <th>48132</th>\n",
       "      <td>a339b1</td>\n",
       "      <td>KMSP</td>\n",
       "      <td>KBOS</td>\n",
       "    </tr>\n",
       "    <tr>\n",
       "      <th>48133</th>\n",
       "      <td>a339b1</td>\n",
       "      <td>KMSP</td>\n",
       "      <td>KMSP</td>\n",
       "    </tr>\n",
       "  </tbody>\n",
       "</table>\n",
       "<p>98134 rows × 3 columns</p>\n",
       "</div>"
      ],
      "text/plain": [
       "       icao24 estdepartureairport estarrivalairport\n",
       "0      a105d2                KPHX              19AZ\n",
       "1      a4322c                KORL              <NA>\n",
       "2      a47d69                KLAX              <NA>\n",
       "3      a3b124                KJFK              KORF\n",
       "4      a3cf6d                KEWR              <NA>\n",
       "...       ...                 ...               ...\n",
       "48129  a327a1                KICT              KIAD\n",
       "48130  a339b1                KLGA              KBOS\n",
       "48131  a339b1                KBOS              KLGA\n",
       "48132  a339b1                KMSP              KBOS\n",
       "48133  a339b1                KMSP              KMSP\n",
       "\n",
       "[98134 rows x 3 columns]"
      ]
     },
     "execution_count": 10,
     "metadata": {},
     "output_type": "execute_result"
    }
   ],
   "source": [
    "loaded_day = load_saved_fd4(stop_time_str, output_dir, query_limit)"
   ]
  },
  {
   "cell_type": "code",
   "execution_count": null,
   "id": "dda685e6",
   "metadata": {},
   "outputs": [],
   "source": []
  }
 ],
 "metadata": {
  "kernelspec": {
   "display_name": "traffic",
   "language": "python",
   "name": "python3"
  },
  "language_info": {
   "codemirror_mode": {
    "name": "ipython",
    "version": 3
   },
   "file_extension": ".py",
   "mimetype": "text/x-python",
   "name": "python",
   "nbconvert_exporter": "python",
   "pygments_lexer": "ipython3",
   "version": "3.12.9"
  }
 },
 "nbformat": 4,
 "nbformat_minor": 5
}
