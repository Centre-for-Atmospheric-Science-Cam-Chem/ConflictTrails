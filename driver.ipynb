{
 "cells": [
  {
   "cell_type": "code",
   "execution_count": 11,
   "id": "7a396014",
   "metadata": {},
   "outputs": [],
   "source": [
    "from download_day import download_day\n",
    "from load_saved_fd4 import load_saved_fd4\n",
    "from scrape_aircraft_list import scrape_aircraft_list\n",
    "from get_perf_model_typecodes import get_perf_model_typecodes \n",
    "from match_icao_model import match_icao_model\n",
    "from process_airport_list import process_airport_list\n",
    "import pandas as pd\n",
    "from time import sleep"
   ]
  },
  {
   "cell_type": "code",
   "execution_count": 12,
   "id": "7d44abb7",
   "metadata": {},
   "outputs": [],
   "source": [
    "# User Inputs:\n",
    "start_time_str       = '2024-01-01T00:00:00Z'\n",
    "stop_time_str        = '2024-12-31T23:59:59Z'\n",
    "query_limit          = 30e4\n",
    "send_notification    = True\n",
    "make_plot            = False\n",
    "output_dir           = \"/scratch/omg28/Data/no_track_2024\""
   ]
  },
  {
   "cell_type": "markdown",
   "id": "3e008886",
   "metadata": {},
   "source": [
    "Section 1. Download flight information from Opensky"
   ]
  },
  {
   "cell_type": "code",
   "execution_count": null,
   "id": "e278aa53",
   "metadata": {},
   "outputs": [],
   "source": [
    "# Download data from OpenSky history database\n",
    "download_day(start_time_str, stop_time_str, query_limit, send_notification, make_plot, output_dir)"
   ]
  },
  {
   "cell_type": "code",
   "execution_count": null,
   "id": "45bcd15c",
   "metadata": {},
   "outputs": [],
   "source": [
    "# load the saved day of data from a .pkl file to a pandas dataframe\n",
    "loaded_day = load_saved_fd4(stop_time_str, output_dir, query_limit)"
   ]
  },
  {
   "cell_type": "markdown",
   "id": "52c13875",
   "metadata": {},
   "source": [
    "Section 2. Scrape the EUCONTROL database for aircraft flight performance information"
   ]
  },
  {
   "cell_type": "code",
   "execution_count": null,
   "id": "2901b6f0",
   "metadata": {},
   "outputs": [
    {
     "ename": "TypeError",
     "evalue": "scrape_aircraft_list() missing 1 required positional argument: 'typecodes'",
     "output_type": "error",
     "traceback": [
      "\u001b[31m---------------------------------------------------------------------------\u001b[39m",
      "\u001b[31mTypeError\u001b[39m                                 Traceback (most recent call last)",
      "\u001b[36mCell\u001b[39m\u001b[36m \u001b[39m\u001b[32mIn[9]\u001b[39m\u001b[32m, line 2\u001b[39m\n\u001b[32m      1\u001b[39m \u001b[38;5;66;03m# scrape the list of aircraft with performance models from the EUCONTROL website\u001b[39;00m\n\u001b[32m----> \u001b[39m\u001b[32m2\u001b[39m aircraft_list = \u001b[43mscrape_aircraft_list\u001b[49m\u001b[43m(\u001b[49m\u001b[43m)\u001b[49m\n\u001b[32m      3\u001b[39m \u001b[38;5;66;03m# get the performance model type codes from the scraped aircraft list\u001b[39;00m\n\u001b[32m      4\u001b[39m perf_model_typecodes = get_perf_model_typecodes(aircraft_list)\n",
      "\u001b[31mTypeError\u001b[39m: scrape_aircraft_list() missing 1 required positional argument: 'typecodes'"
     ]
    }
   ],
   "source": [
    "\"\"\"\n",
    "# scrape the list of aircraft with performance models from the EUCONTROL website\n",
    "perf_model_typecodes = get_perf_model_typecodes()\n",
    "## WARNING: THIS CAN GET YOUR IP ADDRESS BLOCKED IF YOU RUN IT REPEATEDLY. IT IS A WEB SCRAPER.\n",
    "aircraft_list = scrape_aircraft_list(perf_model_typecodes)\n",
    "\n",
    "\"\"\""
   ]
  },
  {
   "cell_type": "markdown",
   "id": "9e861cc1",
   "metadata": {},
   "source": [
    "Section 3. Process the aircraft performance and flight data, retaining only flights we have takeoff, landing, plane type, and aircraft performance model information about. Further, drop all flights with aircraft codes that do not correspond to a code in the ourairports registry."
   ]
  },
  {
   "cell_type": "code",
   "execution_count": null,
   "id": "2f1246e7",
   "metadata": {},
   "outputs": [
    {
     "ename": "NameError",
     "evalue": "name 'start_time_str' is not defined",
     "output_type": "error",
     "traceback": [
      "\u001b[31m---------------------------------------------------------------------------\u001b[39m",
      "\u001b[31mNameError\u001b[39m                                 Traceback (most recent call last)",
      "\u001b[36mCell\u001b[39m\u001b[36m \u001b[39m\u001b[32mIn[10]\u001b[39m\u001b[32m, line 5\u001b[39m\n\u001b[32m      1\u001b[39m \u001b[38;5;66;03m# process the loaded time period of data.\u001b[39;00m\n\u001b[32m      2\u001b[39m \u001b[38;5;66;03m# - matches 24 bit transponder codes from Feb 2025 aircraft metadata database with the ICAO typecode\u001b[39;00m\n\u001b[32m      3\u001b[39m \u001b[38;5;66;03m# - removes all flights for which the transponder code does not have a corresponding ICAO typecode\u001b[39;00m\n\u001b[32m      4\u001b[39m \u001b[38;5;66;03m# - removes all flights for which the takeoff OR landing airport is unknown\u001b[39;00m\n\u001b[32m----> \u001b[39m\u001b[32m5\u001b[39m all_2024_flights_with_typecode = match_icao_model(\u001b[43mstart_time_str\u001b[49m, stop_time_str, query_limit)\n",
      "\u001b[31mNameError\u001b[39m: name 'start_time_str' is not defined"
     ]
    }
   ],
   "source": [
    "# process the loaded time period of data.\n",
    "# - matches 24 bit transponder codes from Feb 2025 aircraft metadata database with the ICAO typecode\n",
    "# - removes all flights for which the transponder code does not have a corresponding ICAO typecode\n",
    "# - removes all flights for which the takeoff OR landing airport is unknown\n",
    "all_2024_flights_with_typecode = match_icao_model(start_time_str, stop_time_str, query_limit)\n"
   ]
  },
  {
   "cell_type": "code",
   "execution_count": 5,
   "id": "5c1e1312",
   "metadata": {},
   "outputs": [
    {
     "name": "stdout",
     "output_type": "stream",
     "text": [
      "Before merging:\n",
      "<class 'pandas.core.frame.DataFrame'>\n",
      "RangeIndex: 24461374 entries, 0 to 24461373\n",
      "Data columns (total 4 columns):\n",
      " #   Column               Dtype          \n",
      "---  ------               -----          \n",
      " 0   icao24               object         \n",
      " 1   estdepartureairport  string[pyarrow]\n",
      " 2   estarrivalairport    string[pyarrow]\n",
      " 3   typecode             object         \n",
      "dtypes: object(2), string[pyarrow](2)\n",
      "memory usage: 746.5+ MB\n",
      "None\n",
      "After merging:\n",
      "   icao24 estdepartureairport estarrivalairport typecode\n",
      "0  a01f01                KPIE              KPTK     C680\n",
      "1  a08174                GA20              KCRG     C182\n",
      "2  a08174                KCRG              K09J     C182\n",
      "3  a08174                KCRG              KCRG     C182\n",
      "4  a08174                KCRG              KCRG     C182\n"
     ]
    }
   ],
   "source": [
    "# Load in the list of ICAO typecodes that have a performance model\n",
    "all_2024_flights_with_typecode = pd.read_pickle('/scratch/omg28/Data/aircraftdb/2024-01-01_to_2024-12-31_300000.pkl')\n",
    "# load in the list of all flights with typecode aand takeoff/landing airport from 2024\n",
    "performance_model_typecodes = pd.read_pickle('/scratch/omg28/Data/aircraftdb/performance_models_typecodes.pkl')\n",
    "\n",
    "# get info before the merge\n",
    "print(\"Before merging:\")\n",
    "print(all_2024_flights_with_typecode.info())\n",
    "\n",
    "# inner join the loaded year of data with the scraped aircraft list\n",
    "# - this will remove all flights for which the ICAO typecode does not have a corresponding performance model\n",
    "all_2024_flights_with_perf_model_and_typecode = pd.merge(all_2024_flights_with_typecode, performance_model_typecodes, how='inner', on = 'typecode')\n",
    "\n",
    "print(\"After merging:\")\n",
    "print(all_2024_flights_with_perf_model_and_typecode.head())\n"
   ]
  },
  {
   "cell_type": "code",
   "execution_count": 8,
   "id": "a52546c2",
   "metadata": {},
   "outputs": [
    {
     "ename": "NameError",
     "evalue": "name 'all_2024_flights_with_typecode' is not defined",
     "output_type": "error",
     "traceback": [
      "\u001b[31m---------------------------------------------------------------------------\u001b[39m",
      "\u001b[31mNameError\u001b[39m                                 Traceback (most recent call last)",
      "\u001b[36mCell\u001b[39m\u001b[36m \u001b[39m\u001b[32mIn[8]\u001b[39m\u001b[32m, line 2\u001b[39m\n\u001b[32m      1\u001b[39m \u001b[38;5;66;03m# print a list of typecodes in complete_flights_perf_model that do not have a performance model\u001b[39;00m\n\u001b[32m----> \u001b[39m\u001b[32m2\u001b[39m missing_perf_models = \u001b[43mall_2024_flights_with_typecode\u001b[49m[~all_2024_flights_with_typecode[\u001b[33m'\u001b[39m\u001b[33mtypecode\u001b[39m\u001b[33m'\u001b[39m].isin(performance_model_typecodes[\u001b[33m'\u001b[39m\u001b[33mtypecode\u001b[39m\u001b[33m'\u001b[39m])]\n\u001b[32m      3\u001b[39m \u001b[38;5;28mprint\u001b[39m(\u001b[33m\"\u001b[39m\u001b[33m# of planes with observed flights that exist, but no performance model:\u001b[39m\u001b[33m\"\u001b[39m + \u001b[38;5;28mstr\u001b[39m(\u001b[38;5;28mlen\u001b[39m(missing_perf_models[\u001b[33m'\u001b[39m\u001b[33mtypecode\u001b[39m\u001b[33m'\u001b[39m].unique())))\n\u001b[32m      4\u001b[39m \u001b[38;5;28mprint\u001b[39m(\u001b[33m\"\u001b[39m\u001b[33mtotal flights in 2024 with TOLD and typecode, but no performance model: \u001b[39m\u001b[33m\"\u001b[39m + \u001b[38;5;28mstr\u001b[39m(\u001b[38;5;28mlen\u001b[39m(missing_perf_models)))\n",
      "\u001b[31mNameError\u001b[39m: name 'all_2024_flights_with_typecode' is not defined"
     ]
    }
   ],
   "source": [
    "\n",
    "# print a list of typecodes in complete_flights_perf_model that do not have a performance model\n",
    "missing_perf_models = all_2024_flights_with_typecode[~all_2024_flights_with_typecode['typecode'].isin(performance_model_typecodes['typecode'])]\n",
    "print(\"# of planes with observed flights that exist, but no performance model:\" + str(len(missing_perf_models['typecode'].unique())))\n",
    "print(\"total flights in 2024 with TOLD and typecode, but no performance model: \" + str(len(missing_perf_models)))\n"
   ]
  },
  {
   "cell_type": "code",
   "execution_count": 7,
   "id": "37f6de27",
   "metadata": {},
   "outputs": [
    {
     "ename": "NameError",
     "evalue": "name 'performance_model_typecodes' is not defined",
     "output_type": "error",
     "traceback": [
      "\u001b[31m---------------------------------------------------------------------------\u001b[39m",
      "\u001b[31mNameError\u001b[39m                                 Traceback (most recent call last)",
      "\u001b[36mCell\u001b[39m\u001b[36m \u001b[39m\u001b[32mIn[7]\u001b[39m\u001b[32m, line 2\u001b[39m\n\u001b[32m      1\u001b[39m \u001b[38;5;66;03m# print a list of typecodes in performance_model_typecodes that do not correspond to a flight\u001b[39;00m\n\u001b[32m----> \u001b[39m\u001b[32m2\u001b[39m missing_flights = \u001b[43mperformance_model_typecodes\u001b[49m[~performance_model_typecodes[\u001b[33m'\u001b[39m\u001b[33mtypecode\u001b[39m\u001b[33m'\u001b[39m].isin(all_2024_flights_with_typecode[\u001b[33m'\u001b[39m\u001b[33mtypecode\u001b[39m\u001b[33m'\u001b[39m])]\n\u001b[32m      3\u001b[39m \u001b[38;5;28mprint\u001b[39m(\u001b[33m\"\u001b[39m\u001b[33m# of performance models with no flights:\u001b[39m\u001b[33m\"\u001b[39m + \u001b[38;5;28mstr\u001b[39m(\u001b[38;5;28mlen\u001b[39m(missing_flights[\u001b[33m'\u001b[39m\u001b[33mtypecode\u001b[39m\u001b[33m'\u001b[39m].unique())))\n\u001b[32m      4\u001b[39m \u001b[38;5;28mprint\u001b[39m(\u001b[33m\"\u001b[39m\u001b[33mtotal flights in 2024 with TOLD, typecode, and performance model: \u001b[39m\u001b[33m\"\u001b[39m + \u001b[38;5;28mstr\u001b[39m(\u001b[38;5;28mlen\u001b[39m(all_2024_flights_with_perf_model_and_typecode)))\n",
      "\u001b[31mNameError\u001b[39m: name 'performance_model_typecodes' is not defined"
     ]
    }
   ],
   "source": [
    "\n",
    "# print a list of typecodes in performance_model_typecodes that do not correspond to a flight\n",
    "missing_flights = performance_model_typecodes[~performance_model_typecodes['typecode'].isin(all_2024_flights_with_typecode['typecode'])]\n",
    "print(\"# of performance models with no flights:\" + str(len(missing_flights['typecode'].unique())))\n",
    "print(\"total flights in 2024 with TOLD, typecode, and performance model: \" + str(len(all_2024_flights_with_perf_model_and_typecode)))\n"
   ]
  },
  {
   "cell_type": "code",
   "execution_count": 6,
   "id": "084d0508",
   "metadata": {},
   "outputs": [
    {
     "ename": "NameError",
     "evalue": "name 'all_2024_flights_with_perf_model_and_typecode' is not defined",
     "output_type": "error",
     "traceback": [
      "\u001b[31m---------------------------------------------------------------------------\u001b[39m",
      "\u001b[31mNameError\u001b[39m                                 Traceback (most recent call last)",
      "\u001b[36mCell\u001b[39m\u001b[36m \u001b[39m\u001b[32mIn[6]\u001b[39m\u001b[32m, line 2\u001b[39m\n\u001b[32m      1\u001b[39m \u001b[38;5;66;03m# count all flights starting and ending at the same airport\u001b[39;00m\n\u001b[32m----> \u001b[39m\u001b[32m2\u001b[39m num_flights_no_dist = \u001b[38;5;28mlen\u001b[39m(\u001b[43mall_2024_flights_with_perf_model_and_typecode\u001b[49m[all_2024_flights_with_perf_model_and_typecode[\u001b[33m'\u001b[39m\u001b[33mestdepartureairport\u001b[39m\u001b[33m'\u001b[39m] == all_2024_flights_with_perf_model_and_typecode[\u001b[33m'\u001b[39m\u001b[33mestarrivalairport\u001b[39m\u001b[33m'\u001b[39m]])\n\u001b[32m      3\u001b[39m \u001b[38;5;28mprint\u001b[39m(\u001b[33m\"\u001b[39m\u001b[33mNumber of flights with no distance: \u001b[39m\u001b[33m\"\u001b[39m + \u001b[38;5;28mstr\u001b[39m(num_flights_no_dist))\n\u001b[32m      5\u001b[39m \u001b[38;5;66;03m# remove all flights starting or ending at the same airport\u001b[39;00m\n",
      "\u001b[31mNameError\u001b[39m: name 'all_2024_flights_with_perf_model_and_typecode' is not defined"
     ]
    }
   ],
   "source": [
    "# count all flights starting and ending at the same airport\n",
    "num_flights_no_dist = len(all_2024_flights_with_perf_model_and_typecode[all_2024_flights_with_perf_model_and_typecode['estdepartureairport'] == all_2024_flights_with_perf_model_and_typecode['estarrivalairport']])\n",
    "print(\"Number of flights with no distance: \" + str(num_flights_no_dist))\n",
    "\n",
    "# remove all flights starting or ending at the same airport\n",
    "all_2024_flights_with_perf_model_and_typecode = all_2024_flights_with_perf_model_and_typecode[all_2024_flights_with_perf_model_and_typecode['estdepartureairport'] != all_2024_flights_with_perf_model_and_typecode['estarrivalairport']]\n"
   ]
  },
  {
   "cell_type": "code",
   "execution_count": 5,
   "id": "ea67218e",
   "metadata": {},
   "outputs": [
    {
     "name": "stdout",
     "output_type": "stream",
     "text": [
      "Saved processed airports to /scratch/omg28/Data/airportdb/processed_airports.csv\n",
      "<class 'pandas.core.frame.DataFrame'>\n",
      "RangeIndex: 82907 entries, 0 to 82906\n",
      "Data columns (total 6 columns):\n",
      " #   Column         Non-Null Count  Dtype  \n",
      "---  ------         --------------  -----  \n",
      " 0   id             82907 non-null  int64  \n",
      " 1   ident          82907 non-null  object \n",
      " 2   latitude_deg   82907 non-null  float64\n",
      " 3   longitude_deg  82907 non-null  float64\n",
      " 4   elevation_ft   68440 non-null  float64\n",
      " 5   gps_code       43202 non-null  object \n",
      "dtypes: float64(3), int64(1), object(2)\n",
      "memory usage: 3.8+ MB\n",
      "None\n"
     ]
    },
    {
     "ename": "NameError",
     "evalue": "name 'all_2024_flights_with_perf_model_and_typecode' is not defined",
     "output_type": "error",
     "traceback": [
      "\u001b[31m---------------------------------------------------------------------------\u001b[39m",
      "\u001b[31mNameError\u001b[39m                                 Traceback (most recent call last)",
      "\u001b[36mCell\u001b[39m\u001b[36m \u001b[39m\u001b[32mIn[5]\u001b[39m\u001b[32m, line 8\u001b[39m\n\u001b[32m      4\u001b[39m \u001b[38;5;28mprint\u001b[39m(all_airports.info())\n\u001b[32m      6\u001b[39m \u001b[38;5;66;03m# add the estimated departure airport location information to the dataframe\u001b[39;00m\n\u001b[32m      7\u001b[39m \u001b[38;5;66;03m# - this will remove all flights for which the takeoff OR landing airport is unknown\u001b[39;00m\n\u001b[32m----> \u001b[39m\u001b[32m8\u001b[39m all_2024_flights_filtered = pd.merge(\u001b[43mall_2024_flights_with_perf_model_and_typecode\u001b[49m, all_airports, how=\u001b[33m'\u001b[39m\u001b[33minner\u001b[39m\u001b[33m'\u001b[39m, left_on = \u001b[33m'\u001b[39m\u001b[33mestdepartureairport\u001b[39m\u001b[33m'\u001b[39m, right_on = \u001b[33m'\u001b[39m\u001b[33mident\u001b[39m\u001b[33m'\u001b[39m)\n\u001b[32m      9\u001b[39m all_2024_flights_filtered.rename(columns = {\u001b[33m'\u001b[39m\u001b[33mlatitude_deg\u001b[39m\u001b[33m'\u001b[39m: \u001b[33m'\u001b[39m\u001b[33mestdeparturelat\u001b[39m\u001b[33m'\u001b[39m, \u001b[33m'\u001b[39m\u001b[33mlongitude_deg\u001b[39m\u001b[33m'\u001b[39m: \u001b[33m'\u001b[39m\u001b[33mestdeparturelong\u001b[39m\u001b[33m'\u001b[39m, \u001b[33m'\u001b[39m\u001b[33melevation_ft\u001b[39m\u001b[33m'\u001b[39m: \u001b[33m'\u001b[39m\u001b[33mestdeparturealt_ft\u001b[39m\u001b[33m'\u001b[39m}, inplace=\u001b[38;5;28;01mTrue\u001b[39;00m)\n\u001b[32m     10\u001b[39m \u001b[38;5;28mprint\u001b[39m(all_2024_flights_filtered.info())\n",
      "\u001b[31mNameError\u001b[39m: name 'all_2024_flights_with_perf_model_and_typecode' is not defined"
     ]
    }
   ],
   "source": [
    "# load the takeoff and landing airport location information to the dataframe.\n",
    "all_airports = process_airport_list()\n",
    "\n",
    "print(all_airports.info())\n",
    "\n",
    "# add the estimated departure airport location information to the dataframe\n",
    "# - this will remove all flights for which the takeoff OR landing airport is unknown\n",
    "all_2024_flights_filtered = pd.merge(all_2024_flights_with_perf_model_and_typecode, all_airports, how='inner', left_on = 'estdepartureairport', right_on = 'ident')\n",
    "all_2024_flights_filtered.rename(columns = {'latitude_deg': 'estdeparturelat', 'longitude_deg': 'estdeparturelong', 'elevation_ft': 'estdeparturealt_ft'}, inplace=True)\n",
    "print(all_2024_flights_filtered.info())\n",
    "\n",
    "# add the estimated arrival airport location information to the dataframe"
   ]
  }
 ],
 "metadata": {
  "kernelspec": {
   "display_name": "traffic",
   "language": "python",
   "name": "python3"
  },
  "language_info": {
   "codemirror_mode": {
    "name": "ipython",
    "version": 3
   },
   "file_extension": ".py",
   "mimetype": "text/x-python",
   "name": "python",
   "nbconvert_exporter": "python",
   "pygments_lexer": "ipython3",
   "version": "3.12.9"
  }
 },
 "nbformat": 4,
 "nbformat_minor": 5
}
