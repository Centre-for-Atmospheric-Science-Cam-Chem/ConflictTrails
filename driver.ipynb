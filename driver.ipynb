{
 "cells": [
  {
   "cell_type": "code",
   "execution_count": 1,
   "id": "7a396014",
   "metadata": {},
   "outputs": [
    {
     "name": "stdout",
     "output_type": "stream",
     "text": [
      "Saved typecodes_available to /scratch/omg28/Data/aircraftdb/performance_models_typecodes.csv\n"
     ]
    }
   ],
   "source": [
    "from download_day import download_day\n",
    "from load_saved_fd4 import load_saved_fd4\n",
    "from scrape_aircraft_list import scrape_aircraft_list\n",
    "from get_perf_model_typecodes import get_perf_model_typecodes \n",
    "from match_icao_model import match_icao_model\n",
    "import pandas as pd\n",
    "from time import sleep"
   ]
  },
  {
   "cell_type": "code",
   "execution_count": 2,
   "id": "7d44abb7",
   "metadata": {},
   "outputs": [],
   "source": [
    "# User Inputs:\n",
    "start_time_str       = '2024-01-01T00:00:00Z'\n",
    "stop_time_str        = '2024-12-31T23:59:59Z'\n",
    "query_limit          = 30e4\n",
    "send_notification    = True\n",
    "make_plot            = False\n",
    "output_dir           = \"/scratch/omg28/Data/no_track_2024\""
   ]
  },
  {
   "cell_type": "markdown",
   "id": "3e008886",
   "metadata": {},
   "source": [
    "Section 1. Download flight information from Opensky"
   ]
  },
  {
   "cell_type": "code",
   "execution_count": null,
   "id": "e278aa53",
   "metadata": {},
   "outputs": [],
   "source": [
    "# Download data from OpenSky history database\n",
    "download_day(start_time_str, stop_time_str, query_limit, send_notification, make_plot, output_dir)"
   ]
  },
  {
   "cell_type": "code",
   "execution_count": null,
   "id": "45bcd15c",
   "metadata": {},
   "outputs": [],
   "source": [
    "# load the saved day of data from a .pkl file to a pandas dataframe\n",
    "loaded_day = load_saved_fd4(stop_time_str, output_dir, query_limit)"
   ]
  },
  {
   "cell_type": "markdown",
   "id": "52c13875",
   "metadata": {},
   "source": [
    "Section 2. Scrape the EUCONTROL database for aircraft flight performance information"
   ]
  },
  {
   "cell_type": "code",
   "execution_count": null,
   "id": "2901b6f0",
   "metadata": {},
   "outputs": [],
   "source": [
    "# scrape the list of aircraft with performance models from the EUCONTROL website\n",
    "aircraft_list = scrape_aircraft_list()\n",
    "# get the performance model type codes from the scraped aircraft list\n",
    "perf_model_typecodes = get_perf_model_typecodes(aircraft_list)"
   ]
  },
  {
   "cell_type": "markdown",
   "id": "9e861cc1",
   "metadata": {},
   "source": [
    "Section 3. Process the aircraft performance and flight data, retaining only flights we have information about."
   ]
  },
  {
   "cell_type": "code",
   "execution_count": null,
   "id": "2f1246e7",
   "metadata": {},
   "outputs": [],
   "source": [
    "# process the loaded time period of data.\n",
    "# - matches 24 bit transponder codes from Feb 2025 aircraft metadata database with the ICAO typecode\n",
    "# - removes all flights for which the transponder code does not have a corresponding ICAO typecode\n",
    "# - removes all flights for which the takeoff OR landing airport is unknown\n",
    "complete_flights_typecode_assigned = match_icao_model(start_time_str, stop_time_str, query_limit)\n"
   ]
  },
  {
   "cell_type": "code",
   "execution_count": null,
   "id": "5c1e1312",
   "metadata": {},
   "outputs": [],
   "source": [
    "complete_flights_typecode_assigned.head()\n",
    "\n",
    "complete_flights_typecode_assigned = pd.load_pickle('/scratch/omg28/Data/no_track_2024/complete_flights_typecode_assigned.pkl')\n",
    "\n",
    "# inner join the loaded day of data with the scraped aircraft list\n",
    "# - this will remove all flights for which the ICAO typecode does not have a corresponding performance model\n",
    "\n",
    "# first, load in the complete list of aircraft for which there is a performance model:\n",
    "aircraft_with_perf_model = pd.read_pickle('/scratch/omg28/Data/aircraftdb/performance_models_typecodes.pkl')\n",
    "\n",
    "\n",
    "\n",
    "complete_flights_perf_model = pd.merge(complete_flights_typecode_assigned, perf_model_typecodes, how='inner', left_on='icao24', right_on='icao24')"
   ]
  }
 ],
 "metadata": {
  "kernelspec": {
   "display_name": "traffic",
   "language": "python",
   "name": "python3"
  },
  "language_info": {
   "codemirror_mode": {
    "name": "ipython",
    "version": 3
   },
   "file_extension": ".py",
   "mimetype": "text/x-python",
   "name": "python",
   "nbconvert_exporter": "python",
   "pygments_lexer": "ipython3",
   "version": "3.12.9"
  }
 },
 "nbformat": 4,
 "nbformat_minor": 5
}
