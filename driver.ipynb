{
 "cells": [
  {
   "cell_type": "code",
   "execution_count": null,
   "id": "7a396014",
   "metadata": {},
   "outputs": [],
   "source": [
    "from download_day import download_day\n",
    "from load_saved_fd4 import load_saved_fd4\n",
    "from scrape_aircraft_list import scrape_aircraft_list\n",
    "from get_perf_model_typecodes import get_perf_model_typecodes \n",
    "from match_icao_model import match_icao_model\n",
    "import pandas as pd\n",
    "from time import sleep"
   ]
  },
  {
   "cell_type": "code",
   "execution_count": null,
   "id": "7d44abb7",
   "metadata": {},
   "outputs": [],
   "source": [
    "# User Inputs:\n",
    "start_time_str       = '2024-01-01T00:00:00Z'\n",
    "stop_time_str        = '2024-01-10T00:00:01Z'\n",
    "query_limit          = 30e4\n",
    "send_notification    = True\n",
    "make_plot            = False\n",
    "output_dir           = \"/scratch/omg28/Data/no_track2024\""
   ]
  },
  {
   "cell_type": "code",
   "execution_count": null,
   "id": "e278aa53",
   "metadata": {},
   "outputs": [],
   "source": [
    "# Download data from OpenSky history database\n",
    "download_day(start_time_str, stop_time_str, query_limit, send_notification, make_plot, output_dir)"
   ]
  },
  {
   "cell_type": "code",
   "execution_count": null,
   "id": "45bcd15c",
   "metadata": {},
   "outputs": [],
   "source": [
    "loaded_day = load_saved_fd4(stop_time_str, output_dir, query_limit)"
   ]
  },
  {
   "cell_type": "code",
   "execution_count": null,
   "id": "dda685e6",
   "metadata": {},
   "outputs": [],
   "source": [
    "available_performance_typecodes = get_perf_model_typecodes()\n",
    "aircraft_performance_database_1 = scrape_aircraft_list(available_performance_typecodes['typecode'][0:100])\n",
    "\n",
    "aircraft_performance_database_2 = scrape_aircraft_list(available_performance_typecodes['typecode'][100:200])\n",
    "sleep(5)  # Sleep to avoid overwhelming the server\n",
    "aircraft_performance_database_3 = scrape_aircraft_list(available_performance_typecodes['typecode'][200:300])\n",
    "sleep(5)\n",
    "aircraft_performance_database_4 = scrape_aircraft_list(available_performance_typecodes['typecode'][300:len(available_performance_typecodes)])\n"
   ]
  },
  {
   "cell_type": "code",
   "execution_count": 8,
   "id": "0a86697d",
   "metadata": {},
   "outputs": [
    {
     "name": "stdout",
     "output_type": "stream",
     "text": [
      "Series([], Name: typecode, dtype: object)\n"
     ]
    }
   ],
   "source": [
    "print(available_performance_typecodes['typecode'])"
   ]
  }
 ],
 "metadata": {
  "kernelspec": {
   "display_name": "traffic",
   "language": "python",
   "name": "python3"
  },
  "language_info": {
   "codemirror_mode": {
    "name": "ipython",
    "version": 3
   },
   "file_extension": ".py",
   "mimetype": "text/x-python",
   "name": "python",
   "nbconvert_exporter": "python",
   "pygments_lexer": "ipython3",
   "version": "3.12.9"
  }
 },
 "nbformat": 4,
 "nbformat_minor": 5
}
