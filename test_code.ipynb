{
 "cells": [
  {
   "cell_type": "code",
   "execution_count": 1,
   "metadata": {},
   "outputs": [],
   "source": [
    "# Import all necessary libraries\n",
    "from traffic.data.samples import belevingsvlucht\n",
    "import traffic\n",
    "from traffic.data import opensky\n",
    "import datetime\n",
    "import trino\n",
    "from pyopensky.trino import Trino\n",
    "from pyopensky.rest import REST\n",
    "import pandas as pd"
   ]
  },
  {
   "cell_type": "code",
   "execution_count": 1,
   "metadata": {},
   "outputs": [
    {
     "data": {
      "text/plain": [
       "float"
      ]
     },
     "execution_count": 1,
     "metadata": {},
     "output_type": "execute_result"
    }
   ],
   "source": [
    "type(1e3)"
   ]
  },
  {
   "cell_type": "markdown",
   "metadata": {},
   "source": [
    "# Section 1.\n",
    "This Jupyter notebook imports data from the OpenSky network and adds it to a python interface\n"
   ]
  },
  {
   "cell_type": "code",
   "execution_count": 3,
   "metadata": {},
   "outputs": [],
   "source": [
    "start_time_str       = '2022-11-01T00:00:00Z'\n",
    "stop_time_str        = '2022-11-01T00:01:00Z'\n",
    "plane_callsign       = \"EZY158T\""
   ]
  },
  {
   "cell_type": "code",
   "execution_count": 4,
   "metadata": {},
   "outputs": [
    {
     "name": "stderr",
     "output_type": "stream",
     "text": [
      "/etc/timezone is deprecated on Debian, and no longer reliable. Ignoring.\n",
      "RUNNING: : 78.6% [00:11, 7.05%/s]\n",
      "DOWNLOAD: 277klines [00:49, 5.61klines/s]\n"
     ]
    }
   ],
   "source": [
    "# query the OpenSky API and return a flight object, sampled every second\n",
    "flight = opensky.history(\n",
    "    start=start_time_str,\n",
    "    stop=stop_time_str,\n",
    "    cached=False,\n",
    "    # callsign=plane_callsign,\n",
    "    # returns a Flight instead of a Traffic\n",
    "    #return_flight=True\n",
    ")\n"
   ]
  },
  {
   "cell_type": "code",
   "execution_count": null,
   "metadata": {},
   "outputs": [],
   "source": [
    "flight.data.to_csv('flight_data.csv', index=False)"
   ]
  },
  {
   "cell_type": "code",
   "execution_count": 48,
   "metadata": {},
   "outputs": [
    {
     "name": "stdout",
     "output_type": "stream",
     "text": [
      "1730419200\n",
      "1486252800\n"
     ]
    }
   ],
   "source": [
    "start_time_posix    = int(datetime.datetime.fromisoformat(start_time_str).timestamp())\n",
    "end_time_posix      = int(datetime.datetime.fromisoformat(stop_time_str).timestamp())\n",
    "print(start_time_posix)\n",
    "print(round(end_time_posix))"
   ]
  },
  {
   "cell_type": "code",
   "execution_count": null,
   "metadata": {},
   "outputs": [
    {
     "name": "stderr",
     "output_type": "stream",
     "text": [
      "RUNNING: : 77.8% [02:25, 1.87s/%]\n"
     ]
    },
    {
     "ename": "KeyboardInterrupt",
     "evalue": "",
     "output_type": "error",
     "traceback": [
      "\u001b[31m---------------------------------------------------------------------------\u001b[39m",
      "\u001b[31mKeyboardInterrupt\u001b[39m                         Traceback (most recent call last)",
      "\u001b[36mCell\u001b[39m\u001b[36m \u001b[39m\u001b[32mIn[51]\u001b[39m\u001b[32m, line 15\u001b[39m\n\u001b[32m      7\u001b[39m sql_query3  =    \u001b[33m\"\"\"\u001b[39m\u001b[33mSELECT  FROM state_vectors_data4\u001b[39m\n\u001b[32m      8\u001b[39m \u001b[33m                    WHERE  time >= \u001b[39m\u001b[33m\"\"\"\u001b[39m + \u001b[38;5;28mstr\u001b[39m(start_time_posix) + \u001b[33m\"\"\"\u001b[39m\n\u001b[32m      9\u001b[39m \u001b[33m                    AND    time <= \u001b[39m\u001b[33m\"\"\"\u001b[39m + \u001b[38;5;28mstr\u001b[39m(end_time_posix) + \u001b[33m\"\"\"\u001b[39m\n\u001b[32m     10\u001b[39m \u001b[33m                    AND    callsign = \u001b[39m\u001b[33m'\u001b[39m\u001b[33m\"\"\"\u001b[39m + plane_callsign + \u001b[33m\"\"\"\u001b[39m\u001b[33m'\u001b[39m\n\u001b[32m     11\u001b[39m \u001b[33m                    AND    time\u001b[39m\u001b[33m%\u001b[39m\u001b[33m60 = 0\u001b[39m\n\u001b[32m     12\u001b[39m \u001b[33m                    LIMIT 100\u001b[39m\u001b[33m\"\"\"\u001b[39m\n\u001b[32m     14\u001b[39m \u001b[38;5;66;03m# Pass the query to the db.query() method.\u001b[39;00m\n\u001b[32m---> \u001b[39m\u001b[32m15\u001b[39m result_df = \u001b[43mdb\u001b[49m\u001b[43m.\u001b[49m\u001b[43mquery\u001b[49m\u001b[43m(\u001b[49m\u001b[43msql_query\u001b[49m\u001b[43m,\u001b[49m\u001b[43m \u001b[49m\u001b[43mcached\u001b[49m\u001b[43m=\u001b[49m\u001b[38;5;28;43;01mFalse\u001b[39;49;00m\u001b[43m)\u001b[49m\n",
      "\u001b[36mFile \u001b[39m\u001b[32m~/miniforge3/envs/traffic/lib/python3.12/site-packages/pyopensky/trino.py:203\u001b[39m, in \u001b[36mTrino.query\u001b[39m\u001b[34m(self, query, cached, compress)\u001b[39m\n\u001b[32m    200\u001b[39m     \u001b[38;5;28;01mif\u001b[39;00m \u001b[38;5;28misinstance\u001b[39m(res, DBAPIError):\n\u001b[32m    201\u001b[39m         \u001b[38;5;28;01mraise\u001b[39;00m \u001b[38;5;167;01mRuntimeError\u001b[39;00m(\u001b[38;5;28mstr\u001b[39m(res.orig))\n\u001b[32m--> \u001b[39m\u001b[32m203\u001b[39m     df = \u001b[43mpd\u001b[49m\u001b[43m.\u001b[49m\u001b[43mconcat\u001b[49m\u001b[43m(\u001b[49m\u001b[38;5;28;43mself\u001b[39;49m\u001b[43m.\u001b[49m\u001b[43mprocess_result\u001b[49m\u001b[43m(\u001b[49m\u001b[43mres\u001b[49m\u001b[43m)\u001b[49m\u001b[43m)\u001b[49m\n\u001b[32m    205\u001b[39m df = df.convert_dtypes(dtype_backend=\u001b[33m\"\u001b[39m\u001b[33mpyarrow\u001b[39m\u001b[33m\"\u001b[39m)\n\u001b[32m    206\u001b[39m \u001b[38;5;28;01mfor\u001b[39;00m column \u001b[38;5;129;01min\u001b[39;00m df.select_dtypes(include=[\u001b[33m\"\u001b[39m\u001b[33mdatetime\u001b[39m\u001b[33m\"\u001b[39m]):\n",
      "\u001b[36mFile \u001b[39m\u001b[32m~/miniforge3/envs/traffic/lib/python3.12/site-packages/pandas/core/reshape/concat.py:382\u001b[39m, in \u001b[36mconcat\u001b[39m\u001b[34m(objs, axis, join, ignore_index, keys, levels, names, verify_integrity, sort, copy)\u001b[39m\n\u001b[32m    379\u001b[39m \u001b[38;5;28;01melif\u001b[39;00m copy \u001b[38;5;129;01mand\u001b[39;00m using_copy_on_write():\n\u001b[32m    380\u001b[39m     copy = \u001b[38;5;28;01mFalse\u001b[39;00m\n\u001b[32m--> \u001b[39m\u001b[32m382\u001b[39m op = \u001b[43m_Concatenator\u001b[49m\u001b[43m(\u001b[49m\n\u001b[32m    383\u001b[39m \u001b[43m    \u001b[49m\u001b[43mobjs\u001b[49m\u001b[43m,\u001b[49m\n\u001b[32m    384\u001b[39m \u001b[43m    \u001b[49m\u001b[43maxis\u001b[49m\u001b[43m=\u001b[49m\u001b[43maxis\u001b[49m\u001b[43m,\u001b[49m\n\u001b[32m    385\u001b[39m \u001b[43m    \u001b[49m\u001b[43mignore_index\u001b[49m\u001b[43m=\u001b[49m\u001b[43mignore_index\u001b[49m\u001b[43m,\u001b[49m\n\u001b[32m    386\u001b[39m \u001b[43m    \u001b[49m\u001b[43mjoin\u001b[49m\u001b[43m=\u001b[49m\u001b[43mjoin\u001b[49m\u001b[43m,\u001b[49m\n\u001b[32m    387\u001b[39m \u001b[43m    \u001b[49m\u001b[43mkeys\u001b[49m\u001b[43m=\u001b[49m\u001b[43mkeys\u001b[49m\u001b[43m,\u001b[49m\n\u001b[32m    388\u001b[39m \u001b[43m    \u001b[49m\u001b[43mlevels\u001b[49m\u001b[43m=\u001b[49m\u001b[43mlevels\u001b[49m\u001b[43m,\u001b[49m\n\u001b[32m    389\u001b[39m \u001b[43m    \u001b[49m\u001b[43mnames\u001b[49m\u001b[43m=\u001b[49m\u001b[43mnames\u001b[49m\u001b[43m,\u001b[49m\n\u001b[32m    390\u001b[39m \u001b[43m    \u001b[49m\u001b[43mverify_integrity\u001b[49m\u001b[43m=\u001b[49m\u001b[43mverify_integrity\u001b[49m\u001b[43m,\u001b[49m\n\u001b[32m    391\u001b[39m \u001b[43m    \u001b[49m\u001b[43mcopy\u001b[49m\u001b[43m=\u001b[49m\u001b[43mcopy\u001b[49m\u001b[43m,\u001b[49m\n\u001b[32m    392\u001b[39m \u001b[43m    \u001b[49m\u001b[43msort\u001b[49m\u001b[43m=\u001b[49m\u001b[43msort\u001b[49m\u001b[43m,\u001b[49m\n\u001b[32m    393\u001b[39m \u001b[43m\u001b[49m\u001b[43m)\u001b[49m\n\u001b[32m    395\u001b[39m \u001b[38;5;28;01mreturn\u001b[39;00m op.get_result()\n",
      "\u001b[36mFile \u001b[39m\u001b[32m~/miniforge3/envs/traffic/lib/python3.12/site-packages/pandas/core/reshape/concat.py:445\u001b[39m, in \u001b[36m_Concatenator.__init__\u001b[39m\u001b[34m(self, objs, axis, join, keys, levels, names, ignore_index, verify_integrity, copy, sort)\u001b[39m\n\u001b[32m    442\u001b[39m \u001b[38;5;28mself\u001b[39m.verify_integrity = verify_integrity\n\u001b[32m    443\u001b[39m \u001b[38;5;28mself\u001b[39m.copy = copy\n\u001b[32m--> \u001b[39m\u001b[32m445\u001b[39m objs, keys = \u001b[38;5;28;43mself\u001b[39;49m\u001b[43m.\u001b[49m\u001b[43m_clean_keys_and_objs\u001b[49m\u001b[43m(\u001b[49m\u001b[43mobjs\u001b[49m\u001b[43m,\u001b[49m\u001b[43m \u001b[49m\u001b[43mkeys\u001b[49m\u001b[43m)\u001b[49m\n\u001b[32m    447\u001b[39m \u001b[38;5;66;03m# figure out what our result ndim is going to be\u001b[39;00m\n\u001b[32m    448\u001b[39m ndims = \u001b[38;5;28mself\u001b[39m._get_ndims(objs)\n",
      "\u001b[36mFile \u001b[39m\u001b[32m~/miniforge3/envs/traffic/lib/python3.12/site-packages/pandas/core/reshape/concat.py:504\u001b[39m, in \u001b[36m_Concatenator._clean_keys_and_objs\u001b[39m\u001b[34m(self, objs, keys)\u001b[39m\n\u001b[32m    502\u001b[39m     objs_list = [objs[k] \u001b[38;5;28;01mfor\u001b[39;00m k \u001b[38;5;129;01min\u001b[39;00m keys]\n\u001b[32m    503\u001b[39m \u001b[38;5;28;01melse\u001b[39;00m:\n\u001b[32m--> \u001b[39m\u001b[32m504\u001b[39m     objs_list = \u001b[38;5;28;43mlist\u001b[39;49m\u001b[43m(\u001b[49m\u001b[43mobjs\u001b[49m\u001b[43m)\u001b[49m\n\u001b[32m    506\u001b[39m \u001b[38;5;28;01mif\u001b[39;00m \u001b[38;5;28mlen\u001b[39m(objs_list) == \u001b[32m0\u001b[39m:\n\u001b[32m    507\u001b[39m     \u001b[38;5;28;01mraise\u001b[39;00m \u001b[38;5;167;01mValueError\u001b[39;00m(\u001b[33m\"\u001b[39m\u001b[33mNo objects to concatenate\u001b[39m\u001b[33m\"\u001b[39m)\n",
      "\u001b[36mFile \u001b[39m\u001b[32m~/miniforge3/envs/traffic/lib/python3.12/site-packages/pyopensky/trino.py:234\u001b[39m, in \u001b[36mTrino.process_result\u001b[39m\u001b[34m(self, res, batch_size)\u001b[39m\n\u001b[32m    231\u001b[39m         percentage = new_percentage\n\u001b[32m    232\u001b[39m         processing_bar.update(increment)\n\u001b[32m--> \u001b[39m\u001b[32m234\u001b[39m         \u001b[43mtime\u001b[49m\u001b[43m.\u001b[49m\u001b[43msleep\u001b[49m\u001b[43m(\u001b[49m\u001b[32;43m0.1\u001b[39;49m\u001b[43m)\u001b[49m\n\u001b[32m    236\u001b[39m \u001b[38;5;28;01mif\u001b[39;00m res.cursor \u001b[38;5;129;01mis\u001b[39;00m \u001b[38;5;129;01mnot\u001b[39;00m \u001b[38;5;28;01mNone\u001b[39;00m:\n\u001b[32m    237\u001b[39m     new_percentage = res.cursor.stats[\u001b[33m\"\u001b[39m\u001b[33mprogressPercentage\u001b[39m\u001b[33m\"\u001b[39m]\n",
      "\u001b[31mKeyboardInterrupt\u001b[39m: "
     ]
    },
    {
     "ename": "",
     "evalue": "",
     "output_type": "error",
     "traceback": [
      "\u001b[1;31mThe Kernel crashed while executing code in the current cell or a previous cell. \n",
      "\u001b[1;31mPlease review the code in the cell(s) to identify a possible cause of the failure. \n",
      "\u001b[1;31mClick <a href='https://aka.ms/vscodeJupyterKernelCrash'>here</a> for more info. \n",
      "\u001b[1;31mView Jupyter <a href='command:jupyter.viewOutput'>log</a> for further details."
     ]
    }
   ],
   "source": [
    "db = Trino()\n",
    "\n",
    "sql_query  =   \"\"\"SELECT icao24, firstseen, estdepartureairport, lastseen, estarrivalairport, callsign, track FROM flights_data4\n",
    "                    WHERE day = \"\"\" + str(start_time_posix)\n",
    "\n",
    "# Define your custom SQL query string\n",
    "sql_query3  =    \"\"\"SELECT  FROM state_vectors_data4\n",
    "                    WHERE  time >= \"\"\" + str(start_time_posix) + \"\"\"\n",
    "                    AND    time <= \"\"\" + str(end_time_posix) + \"\"\"\n",
    "                    AND    callsign = '\"\"\" + plane_callsign + \"\"\"'\n",
    "                    AND    time%60 = 0\n",
    "                    LIMIT 100\"\"\"\n",
    "\n",
    "# Pass the query to the db.query() method.\n",
    "result_df = db.query(sql_query, cached=False)\n",
    "\n"
   ]
  },
  {
   "cell_type": "code",
   "execution_count": 50,
   "metadata": {},
   "outputs": [
    {
     "name": "stdout",
     "output_type": "stream",
     "text": [
      "SELECT icao24, firstseen, estdepartureairport, lastseen, estarrivalairport, callsign, track FROM flights_data5\n",
      "                    WHERE day = 1730419200\n",
      "Empty DataFrame\n",
      "Columns: [icao24, firstseen, estdepartureairport, lastseen, estarrivalairport, callsign, track]\n",
      "Index: []\n"
     ]
    }
   ],
   "source": [
    "# Analyze the results\n",
    "type(result_df)\n",
    "print(sql_query)\n",
    "print(result_df)"
   ]
  }
 ],
 "metadata": {
  "kernelspec": {
   "display_name": "traffic",
   "language": "python",
   "name": "python3"
  },
  "language_info": {
   "codemirror_mode": {
    "name": "ipython",
    "version": 3
   },
   "file_extension": ".py",
   "mimetype": "text/x-python",
   "name": "python",
   "nbconvert_exporter": "python",
   "pygments_lexer": "ipython3",
   "version": "3.12.9"
  }
 },
 "nbformat": 4,
 "nbformat_minor": 2
}
