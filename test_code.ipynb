{
 "cells": [
  {
   "cell_type": "code",
   "execution_count": 3,
   "metadata": {},
   "outputs": [],
   "source": [
    "# Import all necessary libraries\n",
    "import numpy as np\n",
    "import matplotlib.pyplot as plt\n",
    "from traffic.data.samples import belevingsvlucht\n",
    "from traffic.data.samples import quickstart\n",
    "from traffic.data import opensky\n"
   ]
  },
  {
   "cell_type": "code",
   "execution_count": null,
   "metadata": {},
   "outputs": [
    {
     "name": "stdout",
     "output_type": "stream",
     "text": [
      "Flight(icao24='484506', callsign='TRA051')\n"
     ]
    },
    {
     "data": {
      "text/plain": [
       "PosixPath('/home/omg28/.config/traffic/traffic.conf')"
      ]
     },
     "execution_count": 2,
     "metadata": {},
     "output_type": "execute_result"
    }
   ],
   "source": [
    "print(belevingsvlucht)\n",
    "belevingsvlucht.first(minutes=30)"
   ]
  },
  {
   "cell_type": "markdown",
   "metadata": {},
   "source": [
    "# Section 1.\n",
    "This Jupyter notebook imports data from the OpenSky network and adds it to a python interface\n"
   ]
  },
  {
   "cell_type": "code",
   "execution_count": null,
   "metadata": {},
   "outputs": [
    {
     "ename": "TypeError",
     "evalue": "Flight.plot() missing 1 required positional argument: 'ax'",
     "output_type": "error",
     "traceback": [
      "\u001b[0;31m---------------------------------------------------------------------------\u001b[0m",
      "\u001b[0;31mTypeError\u001b[0m                                 Traceback (most recent call last)",
      "Cell \u001b[0;32mIn[6], line 9\u001b[0m\n\u001b[1;32m      1\u001b[0m \u001b[38;5;66;03m# query the OpenSky API and return a flight object, sampled every 20 minutes\u001b[39;00m\n\u001b[1;32m      2\u001b[0m flight \u001b[38;5;241m=\u001b[39m opensky\u001b[38;5;241m.\u001b[39mhistory(\n\u001b[1;32m      3\u001b[0m     \u001b[38;5;124m\"\u001b[39m\u001b[38;5;124m2017-02-05 15:45\u001b[39m\u001b[38;5;124m\"\u001b[39m,\n\u001b[1;32m      4\u001b[0m     stop\u001b[38;5;241m=\u001b[39m\u001b[38;5;124m\"\u001b[39m\u001b[38;5;124m2017-02-05 16:45\u001b[39m\u001b[38;5;124m\"\u001b[39m,\n\u001b[0;32m   (...)\u001b[0m\n\u001b[1;32m      7\u001b[0m     return_flight\u001b[38;5;241m=\u001b[39m\u001b[38;5;28;01mTrue\u001b[39;00m\n\u001b[1;32m      8\u001b[0m )\n\u001b[0;32m----> 9\u001b[0m \u001b[43mflight\u001b[49m\u001b[38;5;241;43m.\u001b[39;49m\u001b[43mplot\u001b[49m\u001b[43m(\u001b[49m\u001b[43m)\u001b[49m\n",
      "\u001b[0;31mTypeError\u001b[0m: Flight.plot() missing 1 required positional argument: 'ax'"
     ]
    }
   ],
   "source": [
    "import subprocess\n",
    "\n",
    "# Basic execution (returns exit code)\n",
    "result = subprocess.run(\"ls -la\", shell=True)\n",
    "\n",
    "# Capture the output\n",
    "result = subprocess.run(\"ls -la\", shell=True, capture_output=True, text=True)\n",
    "print(result.stdout)\n",
    "print(result.stderr)\n",
    "print(f\"Return code: {result.returncode}\")\n",
    "\n",
    "# For more complex commands with arguments (safer approach)\n",
    "result = subprocess.run([\"ls\", \"-la\"], capture_output=True, text=True)"
   ]
  },
  {
   "cell_type": "code",
   "execution_count": null,
   "metadata": {},
   "outputs": [],
   "source": [
    "# query the OpenSky API and return a flight object, sampled every 20 minutes\n",
    "flight = opensky.history(\n",
    "    \"2017-02-05 15:45\",\n",
    "    stop=\"2017-02-05 16:45\",\n",
    "    callsign=\"EZY158T\",\n",
    "    # returns a Flight instead of a Traffic\n",
    "    return_flight=True\n",
    ")\n"
   ]
  },
  {
   "cell_type": "code",
   "execution_count": null,
   "metadata": {},
   "outputs": [],
   "source": [
    "# load in data from opensky\n",
    "comparison_data_osky = opensky.history(\n",
    "    start=\"2022-11-01 0000\",\n",
    "    stop=\"2022-11-01 0001\"\n",
    ")"
   ]
  },
  {
   "cell_type": "code",
   "execution_count": 4,
   "metadata": {},
   "outputs": [
    {
     "ename": "AttributeError",
     "evalue": "'OpenSky' object has no attribute 'request'",
     "output_type": "error",
     "traceback": [
      "\u001b[0;31m---------------------------------------------------------------------------\u001b[0m",
      "\u001b[0;31mAttributeError\u001b[0m                            Traceback (most recent call last)",
      "Cell \u001b[0;32mIn[4], line 12\u001b[0m\n\u001b[1;32m      3\u001b[0m \u001b[38;5;66;03m# Using custom SQL to sample at specific time intervals\u001b[39;00m\n\u001b[1;32m      4\u001b[0m query \u001b[38;5;241m=\u001b[39m \u001b[38;5;124m\"\"\"\u001b[39m\n\u001b[1;32m      5\u001b[0m \u001b[38;5;124mSELECT * FROM state_vectors_data4\u001b[39m\n\u001b[1;32m      6\u001b[0m \u001b[38;5;124mWHERE callsign=\u001b[39m\u001b[38;5;124m'\u001b[39m\u001b[38;5;124mEZY158T\u001b[39m\u001b[38;5;124m'\u001b[39m\u001b[38;5;124m \u001b[39m\n\u001b[0;32m   (...)\u001b[0m\n\u001b[1;32m      9\u001b[0m \u001b[38;5;124mAND EXTRACT(MINUTE FROM time) \u001b[39m\u001b[38;5;124m%\u001b[39m\u001b[38;5;124m 5 = 0\u001b[39m\n\u001b[1;32m     10\u001b[0m \u001b[38;5;124m\"\"\"\u001b[39m\n\u001b[0;32m---> 12\u001b[0m sampled_flight \u001b[38;5;241m=\u001b[39m \u001b[43mopensky\u001b[49m\u001b[38;5;241;43m.\u001b[39;49m\u001b[43mrequest\u001b[49m(query, return_flight\u001b[38;5;241m=\u001b[39m\u001b[38;5;28;01mTrue\u001b[39;00m)\n",
      "\u001b[0;31mAttributeError\u001b[0m: 'OpenSky' object has no attribute 'request'"
     ]
    }
   ],
   "source": [
    "from traffic.data import opensky\n",
    "\n",
    "# Using custom SQL to sample at specific time intervals\n",
    "query = \"\"\"\n",
    "SELECT * FROM state_vectors_data4\n",
    "WHERE callsign='EZY158T' \n",
    "AND time >= '2017-02-05 15:45:00' \n",
    "AND time <= '2017-02-05 16:45:00'\n",
    "AND EXTRACT(MINUTE FROM time) % 5 = 0\n",
    "\"\"\"\n",
    "\n",
    "sampled_flight = opensky.request(query, return_flight=True)"
   ]
  }
 ],
 "metadata": {
  "kernelspec": {
   "display_name": "traffic",
   "language": "python",
   "name": "python3"
  },
  "language_info": {
   "codemirror_mode": {
    "name": "ipython",
    "version": 3
   },
   "file_extension": ".py",
   "mimetype": "text/x-python",
   "name": "python",
   "nbconvert_exporter": "python",
   "pygments_lexer": "ipython3",
   "version": "3.10.16"
  }
 },
 "nbformat": 4,
 "nbformat_minor": 2
}
