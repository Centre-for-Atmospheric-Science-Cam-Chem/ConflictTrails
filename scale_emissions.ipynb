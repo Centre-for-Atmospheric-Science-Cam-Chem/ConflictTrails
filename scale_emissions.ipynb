{
 "cells": [],
 "metadata": {
  "kernelspec": {
   "display_name": "traffic",
   "language": "python",
   "name": "python3"
  },
  "language_info": {
   "name": "python",
   "version": "3.12.9"
  }
 },
 "nbformat": 4,
 "nbformat_minor": 5
}
