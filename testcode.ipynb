{
 "cells": [
  {
   "cell_type": "code",
   "execution_count": 1,
   "id": "6bb40d36",
   "metadata": {},
   "outputs": [
    {
     "name": "stderr",
     "output_type": "stream",
     "text": [
      "/home/omg28/ConflictTrails/process_month_emissions_conflict.py:613: UserWarning: Geometry is in a geographic CRS. Results from 'buffer' are likely incorrect. Use 'GeoSeries.to_crs()' to re-project geometries to a projected CRS before this operation.\n",
      "\n",
      "  conflict_buffered = conflict_zones.geometry.buffer(1.0)\n",
      "/home/omg28/ConflictTrails/process_month_emissions_conflict.py:747: UserWarning: Geometry is in a geographic CRS. Results from 'buffer' are likely incorrect. Use 'GeoSeries.to_crs()' to re-project geometries to a projected CRS before this operation.\n",
      "\n",
      "  conflict_buffered = conflict_zones.geometry.buffer(1.0)\n",
      "/home/omg28/.conda/envs/traffic/lib/python3.12/site-packages/scipy/optimize/_slsqp_py.py:435: RuntimeWarning: Values in x were outside bounds during a minimize step, clipping to bounds\n",
      "  fx = wrapped_fun(x)\n",
      "/home/omg28/.conda/envs/traffic/lib/python3.12/site-packages/scipy/optimize/_slsqp_py.py:435: RuntimeWarning: Values in x were outside bounds during a minimize step, clipping to bounds\n",
      "  fx = wrapped_fun(x)\n"
     ]
    },
    {
     "name": "stdout",
     "output_type": "stream",
     "text": [
      "Generated emissions file for month: 2023-01\n"
     ]
    }
   ],
   "source": [
    "# testing ED_quickest_route\n",
    "from process_month_emissions_conflict import process_month_emissions_conflict\n",
    "import pandas as pd\n",
    "import numpy as np\n",
    "import matplotlib.pyplot as plt\n",
    "from telegram_notifier import send_telegram_notification\n",
    "\n",
    "# User Inputs:\n",
    "start_time_str       = '2023-01-01T00:00:00Z'\n",
    "stop_time_str        = '2023-01-31T23:59:59Z'\n",
    "query_limit          = 15e4\n",
    "send_notification    = True\n",
    "make_plot            = True\n",
    "output_dir           = \"/scratch/omg28/Data/\"\n",
    "\n",
    "\n",
    "# Convert start and stop times to datetime objects\n",
    "start_time_simple = pd.to_datetime(start_time_str).strftime(\"%Y-%m-%d\")\n",
    "stop_time_simple = pd.to_datetime(stop_time_str).strftime(\"%Y-%m-%d\")\n",
    "analysis_year = pd.to_datetime(start_time_str).year\n",
    "\n",
    "performance_and_emissions_model = pd.read_pickle('performance_and_emissions_model.pkl')\n",
    "\n",
    "for start_time_str_loop in pd.date_range(start=pd.to_datetime(start_time_str), end=pd.to_datetime(stop_time_str), freq='MS', tz='UTC'):\n",
    "    stop_time_str_loop = (start_time_str_loop + pd.offsets.MonthEnd(1)).replace(hour=23, minute=59, second=59)\n",
    "    process_month_emissions_conflict(\n",
    "        start_time_str_loop,\n",
    "        output_dir=output_dir,\n",
    "        performance_and_emissions_model=performance_and_emissions_model\n",
    "    )\n",
    "    print(f\"Generated emissions file for month: {start_time_str_loop.strftime('%Y-%m')}\")\n",
    "    telegram_message = f\"Emissions file for {start_time_str_loop.strftime('%Y-%m')} generated successfully.\"\n",
    "    send_telegram_notification(telegram_message)"
   ]
  },
  {
   "cell_type": "code",
   "execution_count": null,
   "id": "1fec9f22",
   "metadata": {},
   "outputs": [],
   "source": [
    "# testing ED_quickest_route\n",
    "from ED_quickest_route import process_month_emissions_conflict\n",
    "import pandas as pd\n",
    "import numpy as np\n",
    "import matplotlib.pyplot as plt\n",
    "from telegram_notifier import send_telegram_notification\n",
    "\n",
    "# User Inputs:\n",
    "start_time_str       = '2023-01-01T00:00:00Z'\n",
    "stop_time_str        = '2023-01-31T23:59:59Z'\n",
    "query_limit          = 15e4\n",
    "send_notification    = True\n",
    "make_plot            = True\n",
    "output_dir           = \"/scratch/omg28/Data/\"\n",
    "monthly_flights = pd.read_pickle(f'{output_dir}2023-01-01_to_2023-01-31_labeled.pkl')"
   ]
  },
  {
   "cell_type": "code",
   "execution_count": null,
   "id": "1ffff985",
   "metadata": {},
   "outputs": [],
   "source": [
    "point = (0,1)\n",
    "dep_loc = point(0,1))"
   ]
  }
 ],
 "metadata": {
  "kernelspec": {
   "display_name": "traffic",
   "language": "python",
   "name": "python3"
  },
  "language_info": {
   "codemirror_mode": {
    "name": "ipython",
    "version": 3
   },
   "file_extension": ".py",
   "mimetype": "text/x-python",
   "name": "python",
   "nbconvert_exporter": "python",
   "pygments_lexer": "ipython3",
   "version": "3.12.9"
  }
 },
 "nbformat": 4,
 "nbformat_minor": 5
}
