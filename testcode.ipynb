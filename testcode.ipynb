{
 "cells": [
  {
   "cell_type": "code",
   "execution_count": 1,
   "id": "6bb40d36",
   "metadata": {},
   "outputs": [
    {
     "name": "stdout",
     "output_type": "stream",
     "text": [
      "<xarray.Dataset> Size: 498MB\n",
      "Dimensions:         (valid_time: 12, pressure_level: 5, latitude: 721,\n",
      "                     longitude: 1440)\n",
      "Coordinates:\n",
      "    number          int64 8B 0\n",
      "  * valid_time      (valid_time) datetime64[ns] 96B 2023-01-01 ... 2023-12-01\n",
      "  * pressure_level  (pressure_level) float64 40B 300.0 250.0 225.0 200.0 175.0\n",
      "  * latitude        (latitude) float64 6kB 90.0 89.75 89.5 ... -89.75 -90.0\n",
      "  * longitude       (longitude) float64 12kB 0.0 0.25 0.5 ... 359.2 359.5 359.8\n",
      "    expver          (valid_time) <U4 192B '0001' '0001' '0001' ... '0001' '0001'\n",
      "Data variables:\n",
      "    u               (valid_time, pressure_level, latitude, longitude) float32 249MB ...\n",
      "    v               (valid_time, pressure_level, latitude, longitude) float32 249MB ...\n",
      "Attributes:\n",
      "    GRIB_centre:             ecmf\n",
      "    GRIB_centreDescription:  European Centre for Medium-Range Weather Forecasts\n",
      "    GRIB_subCentre:          0\n",
      "    Conventions:             CF-1.7\n",
      "    institution:             European Centre for Medium-Range Weather Forecasts\n",
      "-1 692\n",
      "-1 692\n",
      "zermelo= 1.4 9470140.210160103 252.07756 60\n",
      "zermelo= 1.4 9470140.210160103 252.07756 60\n",
      "No solution found by Zermelo\n",
      "Time elapsed for Zermelo method= 15.9 s\n",
      "rmse and lat max= 0 0 0 0\n",
      "rmse_shortest: 0 RMSE rmse_quickest: 0 lat_max_shortest: 0 lat_max_quickest: 0 lon_ed_LD: inf lat_ed_LD: inf dt_ed_LD: inf time_elapsed_EG: 15.922837495803833 lon_ed: inf lat_ed: inf dt_ed_HD: inf solution: False\n",
      "No solution found by Zermelo\n",
      "Time elapsed for Zermelo method= 15.9 s\n",
      "rmse and lat max= 0 0 0 0\n",
      "rmse_shortest: 0 RMSE rmse_quickest: 0 lat_max_shortest: 0 lat_max_quickest: 0 lon_ed_LD: inf lat_ed_LD: inf dt_ed_LD: inf time_elapsed_EG: 15.922837495803833 lon_ed: inf lat_ed: inf dt_ed_HD: inf solution: False\n"
     ]
    },
    {
     "ename": "UnboundLocalError",
     "evalue": "cannot access local variable 'total_nox_kg' where it is not associated with a value",
     "output_type": "error",
     "traceback": [
      "\u001b[31m---------------------------------------------------------------------------\u001b[39m",
      "\u001b[31mUnboundLocalError\u001b[39m                         Traceback (most recent call last)",
      "\u001b[36mCell\u001b[39m\u001b[36m \u001b[39m\u001b[32mIn[1]\u001b[39m\u001b[32m, line 24\u001b[39m\n\u001b[32m     22\u001b[39m \u001b[38;5;28;01mfor\u001b[39;00m start_time_str_loop \u001b[38;5;129;01min\u001b[39;00m pd.date_range(start=pd.to_datetime(start_time_str), end=pd.to_datetime(stop_time_str), freq=\u001b[33m'\u001b[39m\u001b[33mMS\u001b[39m\u001b[33m'\u001b[39m, tz=\u001b[33m'\u001b[39m\u001b[33mUTC\u001b[39m\u001b[33m'\u001b[39m):\n\u001b[32m     23\u001b[39m     stop_time_str_loop = (start_time_str_loop + pd.offsets.MonthEnd(\u001b[32m1\u001b[39m)).replace(hour=\u001b[32m23\u001b[39m, minute=\u001b[32m59\u001b[39m, second=\u001b[32m59\u001b[39m)\n\u001b[32m---> \u001b[39m\u001b[32m24\u001b[39m     \u001b[43mprocess_month_emissions_conflict\u001b[49m\u001b[43m(\u001b[49m\n\u001b[32m     25\u001b[39m \u001b[43m        \u001b[49m\u001b[43mstart_time_str_loop\u001b[49m\u001b[43m,\u001b[49m\n\u001b[32m     26\u001b[39m \u001b[43m        \u001b[49m\u001b[43moutput_dir\u001b[49m\u001b[43m=\u001b[49m\u001b[43moutput_dir\u001b[49m\u001b[43m,\u001b[49m\n\u001b[32m     27\u001b[39m \u001b[43m        \u001b[49m\u001b[43mperformance_and_emissions_model\u001b[49m\u001b[43m=\u001b[49m\u001b[43mperformance_and_emissions_model\u001b[49m\n\u001b[32m     28\u001b[39m \u001b[43m    \u001b[49m\u001b[43m)\u001b[49m\n\u001b[32m     29\u001b[39m     \u001b[38;5;28mprint\u001b[39m(\u001b[33mf\u001b[39m\u001b[33m\"\u001b[39m\u001b[33mGenerated emissions file for month: \u001b[39m\u001b[38;5;132;01m{\u001b[39;00mstart_time_str_loop.strftime(\u001b[33m'\u001b[39m\u001b[33m%\u001b[39m\u001b[33mY-\u001b[39m\u001b[33m%\u001b[39m\u001b[33mm\u001b[39m\u001b[33m'\u001b[39m)\u001b[38;5;132;01m}\u001b[39;00m\u001b[33m\"\u001b[39m)\n\u001b[32m     30\u001b[39m     telegram_message = \u001b[33mf\u001b[39m\u001b[33m\"\u001b[39m\u001b[33mEmissions file for \u001b[39m\u001b[38;5;132;01m{\u001b[39;00mstart_time_str_loop.strftime(\u001b[33m'\u001b[39m\u001b[33m%\u001b[39m\u001b[33mY-\u001b[39m\u001b[33m%\u001b[39m\u001b[33mm\u001b[39m\u001b[33m'\u001b[39m)\u001b[38;5;132;01m}\u001b[39;00m\u001b[33m generated successfully.\u001b[39m\u001b[33m\"\u001b[39m\n",
      "\u001b[36mFile \u001b[39m\u001b[32m~/ConflictTrails/ED_quickest_route.py:283\u001b[39m, in \u001b[36mprocess_month_emissions_conflict\u001b[39m\u001b[34m(month_start_time_str, output_dir, performance_and_emissions_model)\u001b[39m\n\u001b[32m    281\u001b[39m \u001b[38;5;66;03m# Process flights and aggregate results\u001b[39;00m\n\u001b[32m    282\u001b[39m \u001b[38;5;28;01mfor\u001b[39;00m args \u001b[38;5;129;01min\u001b[39;00m pool_args:\n\u001b[32m--> \u001b[39m\u001b[32m283\u001b[39m     updates = \u001b[43mprocess_flight\u001b[49m\u001b[43m(\u001b[49m\u001b[43margs\u001b[49m\u001b[43m)\u001b[49m\n\u001b[32m    284\u001b[39m     \u001b[38;5;28;01mfor\u001b[39;00m lat_idx, lon_idx, alt_idx, nox \u001b[38;5;129;01min\u001b[39;00m updates:\n\u001b[32m    285\u001b[39m         nox_grid[lat_idx, lon_idx, alt_idx] += nox\n",
      "\u001b[36mFile \u001b[39m\u001b[32m~/ConflictTrails/ED_quickest_route.py:217\u001b[39m, in \u001b[36mprocess_flight\u001b[39m\u001b[34m(args)\u001b[39m\n\u001b[32m    209\u001b[39m     alts = np.full(n_segments, cruise_alt_ft)\n\u001b[32m    216\u001b[39m box_fraction = REMOVAL_TIMESCALE_S / (SECONDS_PER_MONTH + REMOVAL_TIMESCALE_S)\n\u001b[32m--> \u001b[39m\u001b[32m217\u001b[39m nox_per_segment = \u001b[43mtotal_nox_kg\u001b[49m / n_segments * box_fraction\n\u001b[32m    219\u001b[39m updates = []\n\u001b[32m    220\u001b[39m \u001b[38;5;28;01mfor\u001b[39;00m i \u001b[38;5;129;01min\u001b[39;00m \u001b[38;5;28mrange\u001b[39m(n_segments):\n",
      "\u001b[31mUnboundLocalError\u001b[39m: cannot access local variable 'total_nox_kg' where it is not associated with a value"
     ]
    }
   ],
   "source": [
    "# testing ED_quickest_route\n",
    "from ED_quickest_route import process_month_emissions_conflict\n",
    "import pandas as pd\n",
    "import numpy as np\n",
    "import matplotlib.pyplot as plt\n",
    "from telegram_notifier import send_telegram_notification\n",
    "\n",
    "# User Inputs:\n",
    "start_time_str       = '2023-01-01T00:00:00Z'\n",
    "stop_time_str        = '2023-01-31T23:59:59Z'\n",
    "query_limit          = 15e4\n",
    "send_notification    = True\n",
    "make_plot            = True\n",
    "output_dir           = \"/scratch/omg28/Data/\"\n",
    "\n",
    "# Convert start and stop times to datetime objects\n",
    "start_time_simple = pd.to_datetime(start_time_str).strftime(\"%Y-%m-%d\")\n",
    "stop_time_simple = pd.to_datetime(stop_time_str).strftime(\"%Y-%m-%d\")\n",
    "\n",
    "performance_and_emissions_model = pd.read_pickle('performance_and_emissions_model.pkl')\n",
    "\n",
    "for start_time_str_loop in pd.date_range(start=pd.to_datetime(start_time_str), end=pd.to_datetime(stop_time_str), freq='MS', tz='UTC'):\n",
    "    stop_time_str_loop = (start_time_str_loop + pd.offsets.MonthEnd(1)).replace(hour=23, minute=59, second=59)\n",
    "    process_month_emissions_conflict(\n",
    "        start_time_str_loop,\n",
    "        output_dir=output_dir,\n",
    "        performance_and_emissions_model=performance_and_emissions_model\n",
    "    )\n",
    "    print(f\"Generated emissions file for month: {start_time_str_loop.strftime('%Y-%m')}\")\n",
    "    telegram_message = f\"Emissions file for {start_time_str_loop.strftime('%Y-%m')} generated successfully.\"\n",
    "    send_telegram_notification(telegram_message)"
   ]
  },
  {
   "cell_type": "code",
   "execution_count": null,
   "id": "1fec9f22",
   "metadata": {},
   "outputs": [
    {
     "ename": "FileNotFoundError",
     "evalue": "[Errno 2] No such file or directory: '/scratch/omg28/Data/2023_01_01_to_2023_01_31_labeled.pkl'",
     "output_type": "error",
     "traceback": [
      "\u001b[31m---------------------------------------------------------------------------\u001b[39m",
      "\u001b[31mFileNotFoundError\u001b[39m                         Traceback (most recent call last)",
      "\u001b[36mCell\u001b[39m\u001b[36m \u001b[39m\u001b[32mIn[3]\u001b[39m\u001b[32m, line 1\u001b[39m\n\u001b[32m----> \u001b[39m\u001b[32m1\u001b[39m monthly_flights = \u001b[43mpd\u001b[49m\u001b[43m.\u001b[49m\u001b[43mread_pickle\u001b[49m\u001b[43m(\u001b[49m\u001b[33;43mf\u001b[39;49m\u001b[33;43m'\u001b[39;49m\u001b[38;5;132;43;01m{\u001b[39;49;00m\u001b[43moutput_dir\u001b[49m\u001b[38;5;132;43;01m}\u001b[39;49;00m\u001b[33;43m2023_01_01_to_2023_01_31_labeled.pkl\u001b[39;49m\u001b[33;43m'\u001b[39;49m\u001b[43m)\u001b[49m\n",
      "\u001b[36mFile \u001b[39m\u001b[32m~/.conda/envs/traffic/lib/python3.12/site-packages/pandas/io/pickle.py:185\u001b[39m, in \u001b[36mread_pickle\u001b[39m\u001b[34m(filepath_or_buffer, compression, storage_options)\u001b[39m\n\u001b[32m    123\u001b[39m \u001b[38;5;250m\u001b[39m\u001b[33;03m\"\"\"\u001b[39;00m\n\u001b[32m    124\u001b[39m \u001b[33;03mLoad pickled pandas object (or any object) from file.\u001b[39;00m\n\u001b[32m    125\u001b[39m \n\u001b[32m   (...)\u001b[39m\u001b[32m    182\u001b[39m \u001b[33;03m4    4    9\u001b[39;00m\n\u001b[32m    183\u001b[39m \u001b[33;03m\"\"\"\u001b[39;00m\n\u001b[32m    184\u001b[39m excs_to_catch = (\u001b[38;5;167;01mAttributeError\u001b[39;00m, \u001b[38;5;167;01mImportError\u001b[39;00m, \u001b[38;5;167;01mModuleNotFoundError\u001b[39;00m, \u001b[38;5;167;01mTypeError\u001b[39;00m)\n\u001b[32m--> \u001b[39m\u001b[32m185\u001b[39m \u001b[38;5;28;01mwith\u001b[39;00m \u001b[43mget_handle\u001b[49m\u001b[43m(\u001b[49m\n\u001b[32m    186\u001b[39m \u001b[43m    \u001b[49m\u001b[43mfilepath_or_buffer\u001b[49m\u001b[43m,\u001b[49m\n\u001b[32m    187\u001b[39m \u001b[43m    \u001b[49m\u001b[33;43m\"\u001b[39;49m\u001b[33;43mrb\u001b[39;49m\u001b[33;43m\"\u001b[39;49m\u001b[43m,\u001b[49m\n\u001b[32m    188\u001b[39m \u001b[43m    \u001b[49m\u001b[43mcompression\u001b[49m\u001b[43m=\u001b[49m\u001b[43mcompression\u001b[49m\u001b[43m,\u001b[49m\n\u001b[32m    189\u001b[39m \u001b[43m    \u001b[49m\u001b[43mis_text\u001b[49m\u001b[43m=\u001b[49m\u001b[38;5;28;43;01mFalse\u001b[39;49;00m\u001b[43m,\u001b[49m\n\u001b[32m    190\u001b[39m \u001b[43m    \u001b[49m\u001b[43mstorage_options\u001b[49m\u001b[43m=\u001b[49m\u001b[43mstorage_options\u001b[49m\u001b[43m,\u001b[49m\n\u001b[32m    191\u001b[39m \u001b[43m\u001b[49m\u001b[43m)\u001b[49m \u001b[38;5;28;01mas\u001b[39;00m handles:\n\u001b[32m    192\u001b[39m     \u001b[38;5;66;03m# 1) try standard library Pickle\u001b[39;00m\n\u001b[32m    193\u001b[39m     \u001b[38;5;66;03m# 2) try pickle_compat (older pandas version) to handle subclass changes\u001b[39;00m\n\u001b[32m    194\u001b[39m     \u001b[38;5;66;03m# 3) try pickle_compat with latin-1 encoding upon a UnicodeDecodeError\u001b[39;00m\n\u001b[32m    196\u001b[39m     \u001b[38;5;28;01mtry\u001b[39;00m:\n\u001b[32m    197\u001b[39m         \u001b[38;5;66;03m# TypeError for Cython complaints about object.__new__ vs Tick.__new__\u001b[39;00m\n\u001b[32m    198\u001b[39m         \u001b[38;5;28;01mtry\u001b[39;00m:\n",
      "\u001b[36mFile \u001b[39m\u001b[32m~/.conda/envs/traffic/lib/python3.12/site-packages/pandas/io/common.py:882\u001b[39m, in \u001b[36mget_handle\u001b[39m\u001b[34m(path_or_buf, mode, encoding, compression, memory_map, is_text, errors, storage_options)\u001b[39m\n\u001b[32m    873\u001b[39m         handle = \u001b[38;5;28mopen\u001b[39m(\n\u001b[32m    874\u001b[39m             handle,\n\u001b[32m    875\u001b[39m             ioargs.mode,\n\u001b[32m   (...)\u001b[39m\u001b[32m    878\u001b[39m             newline=\u001b[33m\"\u001b[39m\u001b[33m\"\u001b[39m,\n\u001b[32m    879\u001b[39m         )\n\u001b[32m    880\u001b[39m     \u001b[38;5;28;01melse\u001b[39;00m:\n\u001b[32m    881\u001b[39m         \u001b[38;5;66;03m# Binary mode\u001b[39;00m\n\u001b[32m--> \u001b[39m\u001b[32m882\u001b[39m         handle = \u001b[38;5;28;43mopen\u001b[39;49m\u001b[43m(\u001b[49m\u001b[43mhandle\u001b[49m\u001b[43m,\u001b[49m\u001b[43m \u001b[49m\u001b[43mioargs\u001b[49m\u001b[43m.\u001b[49m\u001b[43mmode\u001b[49m\u001b[43m)\u001b[49m\n\u001b[32m    883\u001b[39m     handles.append(handle)\n\u001b[32m    885\u001b[39m \u001b[38;5;66;03m# Convert BytesIO or file objects passed with an encoding\u001b[39;00m\n",
      "\u001b[31mFileNotFoundError\u001b[39m: [Errno 2] No such file or directory: '/scratch/omg28/Data/2023_01_01_to_2023_01_31_labeled.pkl'"
     ]
    }
   ],
   "source": [
    "monthly_flights = pd.read_pickle(f'{output_dir}2023-01-01_to_2023-01-31_labeled.pkl')"
   ]
  }
 ],
 "metadata": {
  "kernelspec": {
   "display_name": "traffic",
   "language": "python",
   "name": "python3"
  },
  "language_info": {
   "codemirror_mode": {
    "name": "ipython",
    "version": 3
   },
   "file_extension": ".py",
   "mimetype": "text/x-python",
   "name": "python",
   "nbconvert_exporter": "python",
   "pygments_lexer": "ipython3",
   "version": "3.12.9"
  }
 },
 "nbformat": 4,
 "nbformat_minor": 5
}
