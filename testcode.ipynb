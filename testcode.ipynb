{
 "cells": [
  {
   "cell_type": "code",
   "execution_count": 1,
   "id": "b7e6b116",
   "metadata": {},
   "outputs": [
    {
     "name": "stdout",
     "output_type": "stream",
     "text": [
      "<xarray.Dataset> Size: 181MB\n",
      "Dimensions:        (longitude: 360, latitude: 180, altitude_ft: 50, time: 1)\n",
      "Coordinates:\n",
      "  * longitude      (longitude) float64 3kB -179.5 -178.5 -177.5 ... 178.5 179.5\n",
      "  * latitude       (latitude) float64 1kB -89.5 -88.5 -87.5 ... 87.5 88.5 89.5\n",
      "  * altitude_ft    (altitude_ft) float64 400B 500.0 1.5e+03 ... 4.95e+04\n",
      "  * time           (time) datetime64[ns] 8B 2023-01-31\n",
      "Data variables:\n",
      "    seg_length_km  (longitude, latitude, altitude_ft, time) float64 26MB ...\n",
      "    fuel_burn      (longitude, latitude, altitude_ft, time) float64 26MB ...\n",
      "    nox            (longitude, latitude, altitude_ft, time) float64 26MB ...\n",
      "    co             (longitude, latitude, altitude_ft, time) float64 26MB ...\n",
      "    hc             (longitude, latitude, altitude_ft, time) float64 26MB ...\n",
      "    nvpm_mass      (longitude, latitude, altitude_ft, time) float64 26MB ...\n",
      "    nvpm_number    (longitude, latitude, altitude_ft, time) float64 26MB ...\n",
      "Attributes:\n",
      "    title:        Aircraft emissions for January 2023\n",
      "    description:  Aggregated aircraft emissions on 1-degree grid\n"
     ]
    }
   ],
   "source": [
    "import pandas as pd\n",
    "import numpy as np\n",
    "import xarray as xr\n",
    "import netCDF4\n",
    "import os\n",
    "\n",
    "data = xr.open_dataset('/scratch/omg28/Data/emissions/2023-01-01_to_2023-01-31_NOx_nowar_1deg.nc')\n",
    "print(data)"
   ]
  }
 ],
 "metadata": {
  "kernelspec": {
   "display_name": "traffic",
   "language": "python",
   "name": "python3"
  },
  "language_info": {
   "codemirror_mode": {
    "name": "ipython",
    "version": 3
   },
   "file_extension": ".py",
   "mimetype": "text/x-python",
   "name": "python",
   "nbconvert_exporter": "python",
   "pygments_lexer": "ipython3",
   "version": "3.12.9"
  }
 },
 "nbformat": 4,
 "nbformat_minor": 5
}
